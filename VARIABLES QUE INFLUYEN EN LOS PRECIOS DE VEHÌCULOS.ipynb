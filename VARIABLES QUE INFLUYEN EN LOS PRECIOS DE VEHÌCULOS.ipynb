{
 "cells": [
  {
   "cell_type": "markdown",
   "metadata": {},
   "source": [
    "# Introducción\n",
    "\n",
    "El propósito de éste proyecto es revisar, de acuerdo a los anuncios gratuitos de vehículos que se publican en la web ¿cuáles variables determinan el precio del vehículo?.\n",
    "\n",
    "Inicialmente, se cargarán los datos, se revisarán los datos que componen las columnas para validar posibles problemas en los datos como: datos ausentes, datos duplicados o datos atípicos. Seguidamente, se analizarán las variables, respectivos promedios y gráficos para identificar de acuerdo a la información recopilada, cuáles son las variables que determinan el precio de un vehículo."
   ]
  },
  {
   "cell_type": "markdown",
   "metadata": {},
   "source": [
    "# Contenido del proyecto <a id='back'></a>\n",
    "\n",
    "* Etapa 1. Inicialización y carga de datos.\n",
    "* Etapa 2. Exploración de datos.\n",
    "* Etapa 3. Tratamiento de los valores ausentes.\n",
    "* Etapa 4. Corregir los datos ausentes.\n",
    "* Etapa 5. Enriquecer los datos.\n",
    "* Etapa 6. Comprobar datos limpios.\n",
    "* Etapa 7. Estudiar parámetros principales.\n",
    "* Etapa 8. Estudiar y tratar valores atípicos.\n",
    "* Etapa 9. Estudiar parámetros principales sin valores atípicos.\n",
    "    * 9.1. Periodo de colocación de los anuncios.\n",
    "    * 9.2. Precio promedio por cada tipo de vehículo.\n",
    "    * 9.3. Factores de precio.\n",
    "* Etapa 10. Conclusión general."
   ]
  },
  {
   "cell_type": "markdown",
   "metadata": {},
   "source": [
    "## Inicialización"
   ]
  },
  {
   "cell_type": "markdown",
   "metadata": {},
   "source": [
    "Se carga la librería pandas."
   ]
  },
  {
   "cell_type": "code",
   "execution_count": 195,
   "metadata": {},
   "outputs": [],
   "source": [
    "import pandas as pd # Cargar todas las librerías"
   ]
  },
  {
   "cell_type": "markdown",
   "metadata": {},
   "source": [
    "## Cargar datos"
   ]
  },
  {
   "cell_type": "markdown",
   "metadata": {},
   "source": [
    "Se cargan los datos para revisar la información general."
   ]
  },
  {
   "cell_type": "code",
   "execution_count": 196,
   "metadata": {},
   "outputs": [],
   "source": [
    "anuncios = pd.read_csv(\"/datasets/vehicles_us.csv\") # Carga el archivo de datos en un DataFrame"
   ]
  },
  {
   "cell_type": "markdown",
   "metadata": {},
   "source": [
    "# Explorar datos iniciales"
   ]
  },
  {
   "cell_type": "markdown",
   "metadata": {},
   "source": [
    "El dataset contiene los siguientes campos:\n",
    "- `price`\n",
    "- `model_year`\n",
    "- `model`\n",
    "- `condition`\n",
    "- `cylinders`\n",
    "- `fuel` — gasolina, diesel, etc.\n",
    "- `odometer` — el millaje del vehículo cuando el anuncio fue publicado\n",
    "- `transmission`\n",
    "- `paint_color`\n",
    "- `is_4wd` — si el vehículo tiene tracción a las 4 ruedas (tipo Booleano)\n",
    "- `date_posted` — la fecha en la que el anuncio fue publicado\n",
    "- `days_listed` — desde la publicación hasta que se elimina\n",
    "\n"
   ]
  },
  {
   "cell_type": "code",
   "execution_count": 197,
   "metadata": {},
   "outputs": [
    {
     "name": "stdout",
     "output_type": "stream",
     "text": [
      "<class 'pandas.core.frame.DataFrame'>\n",
      "RangeIndex: 51525 entries, 0 to 51524\n",
      "Data columns (total 13 columns):\n",
      " #   Column        Non-Null Count  Dtype  \n",
      "---  ------        --------------  -----  \n",
      " 0   price         51525 non-null  int64  \n",
      " 1   model_year    47906 non-null  float64\n",
      " 2   model         51525 non-null  object \n",
      " 3   condition     51525 non-null  object \n",
      " 4   cylinders     46265 non-null  float64\n",
      " 5   fuel          51525 non-null  object \n",
      " 6   odometer      43633 non-null  float64\n",
      " 7   transmission  51525 non-null  object \n",
      " 8   type          51525 non-null  object \n",
      " 9   paint_color   42258 non-null  object \n",
      " 10  is_4wd        25572 non-null  float64\n",
      " 11  date_posted   51525 non-null  object \n",
      " 12  days_listed   51525 non-null  int64  \n",
      "dtypes: float64(4), int64(2), object(7)\n",
      "memory usage: 5.1+ MB\n"
     ]
    }
   ],
   "source": [
    "anuncios.info() # imprime la información general/resumida sobre el DataFrame"
   ]
  },
  {
   "cell_type": "code",
   "execution_count": 198,
   "metadata": {},
   "outputs": [
    {
     "data": {
      "text/html": [
       "<div>\n",
       "<style scoped>\n",
       "    .dataframe tbody tr th:only-of-type {\n",
       "        vertical-align: middle;\n",
       "    }\n",
       "\n",
       "    .dataframe tbody tr th {\n",
       "        vertical-align: top;\n",
       "    }\n",
       "\n",
       "    .dataframe thead th {\n",
       "        text-align: right;\n",
       "    }\n",
       "</style>\n",
       "<table border=\"1\" class=\"dataframe\">\n",
       "  <thead>\n",
       "    <tr style=\"text-align: right;\">\n",
       "      <th></th>\n",
       "      <th>price</th>\n",
       "      <th>model_year</th>\n",
       "      <th>model</th>\n",
       "      <th>condition</th>\n",
       "      <th>cylinders</th>\n",
       "      <th>fuel</th>\n",
       "      <th>odometer</th>\n",
       "      <th>transmission</th>\n",
       "      <th>type</th>\n",
       "      <th>paint_color</th>\n",
       "      <th>is_4wd</th>\n",
       "      <th>date_posted</th>\n",
       "      <th>days_listed</th>\n",
       "    </tr>\n",
       "  </thead>\n",
       "  <tbody>\n",
       "    <tr>\n",
       "      <th>0</th>\n",
       "      <td>9400</td>\n",
       "      <td>2011.0</td>\n",
       "      <td>bmw x5</td>\n",
       "      <td>good</td>\n",
       "      <td>6.0</td>\n",
       "      <td>gas</td>\n",
       "      <td>145000.0</td>\n",
       "      <td>automatic</td>\n",
       "      <td>SUV</td>\n",
       "      <td>NaN</td>\n",
       "      <td>1.0</td>\n",
       "      <td>2018-06-23</td>\n",
       "      <td>19</td>\n",
       "    </tr>\n",
       "    <tr>\n",
       "      <th>1</th>\n",
       "      <td>25500</td>\n",
       "      <td>NaN</td>\n",
       "      <td>ford f-150</td>\n",
       "      <td>good</td>\n",
       "      <td>6.0</td>\n",
       "      <td>gas</td>\n",
       "      <td>88705.0</td>\n",
       "      <td>automatic</td>\n",
       "      <td>pickup</td>\n",
       "      <td>white</td>\n",
       "      <td>1.0</td>\n",
       "      <td>2018-10-19</td>\n",
       "      <td>50</td>\n",
       "    </tr>\n",
       "    <tr>\n",
       "      <th>2</th>\n",
       "      <td>5500</td>\n",
       "      <td>2013.0</td>\n",
       "      <td>hyundai sonata</td>\n",
       "      <td>like new</td>\n",
       "      <td>4.0</td>\n",
       "      <td>gas</td>\n",
       "      <td>110000.0</td>\n",
       "      <td>automatic</td>\n",
       "      <td>sedan</td>\n",
       "      <td>red</td>\n",
       "      <td>NaN</td>\n",
       "      <td>2019-02-07</td>\n",
       "      <td>79</td>\n",
       "    </tr>\n",
       "    <tr>\n",
       "      <th>3</th>\n",
       "      <td>1500</td>\n",
       "      <td>2003.0</td>\n",
       "      <td>ford f-150</td>\n",
       "      <td>fair</td>\n",
       "      <td>8.0</td>\n",
       "      <td>gas</td>\n",
       "      <td>NaN</td>\n",
       "      <td>automatic</td>\n",
       "      <td>pickup</td>\n",
       "      <td>NaN</td>\n",
       "      <td>NaN</td>\n",
       "      <td>2019-03-22</td>\n",
       "      <td>9</td>\n",
       "    </tr>\n",
       "    <tr>\n",
       "      <th>4</th>\n",
       "      <td>14900</td>\n",
       "      <td>2017.0</td>\n",
       "      <td>chrysler 200</td>\n",
       "      <td>excellent</td>\n",
       "      <td>4.0</td>\n",
       "      <td>gas</td>\n",
       "      <td>80903.0</td>\n",
       "      <td>automatic</td>\n",
       "      <td>sedan</td>\n",
       "      <td>black</td>\n",
       "      <td>NaN</td>\n",
       "      <td>2019-04-02</td>\n",
       "      <td>28</td>\n",
       "    </tr>\n",
       "    <tr>\n",
       "      <th>5</th>\n",
       "      <td>14990</td>\n",
       "      <td>2014.0</td>\n",
       "      <td>chrysler 300</td>\n",
       "      <td>excellent</td>\n",
       "      <td>6.0</td>\n",
       "      <td>gas</td>\n",
       "      <td>57954.0</td>\n",
       "      <td>automatic</td>\n",
       "      <td>sedan</td>\n",
       "      <td>black</td>\n",
       "      <td>1.0</td>\n",
       "      <td>2018-06-20</td>\n",
       "      <td>15</td>\n",
       "    </tr>\n",
       "    <tr>\n",
       "      <th>6</th>\n",
       "      <td>12990</td>\n",
       "      <td>2015.0</td>\n",
       "      <td>toyota camry</td>\n",
       "      <td>excellent</td>\n",
       "      <td>4.0</td>\n",
       "      <td>gas</td>\n",
       "      <td>79212.0</td>\n",
       "      <td>automatic</td>\n",
       "      <td>sedan</td>\n",
       "      <td>white</td>\n",
       "      <td>NaN</td>\n",
       "      <td>2018-12-27</td>\n",
       "      <td>73</td>\n",
       "    </tr>\n",
       "    <tr>\n",
       "      <th>7</th>\n",
       "      <td>15990</td>\n",
       "      <td>2013.0</td>\n",
       "      <td>honda pilot</td>\n",
       "      <td>excellent</td>\n",
       "      <td>6.0</td>\n",
       "      <td>gas</td>\n",
       "      <td>109473.0</td>\n",
       "      <td>automatic</td>\n",
       "      <td>SUV</td>\n",
       "      <td>black</td>\n",
       "      <td>1.0</td>\n",
       "      <td>2019-01-07</td>\n",
       "      <td>68</td>\n",
       "    </tr>\n",
       "    <tr>\n",
       "      <th>8</th>\n",
       "      <td>11500</td>\n",
       "      <td>2012.0</td>\n",
       "      <td>kia sorento</td>\n",
       "      <td>excellent</td>\n",
       "      <td>4.0</td>\n",
       "      <td>gas</td>\n",
       "      <td>104174.0</td>\n",
       "      <td>automatic</td>\n",
       "      <td>SUV</td>\n",
       "      <td>NaN</td>\n",
       "      <td>1.0</td>\n",
       "      <td>2018-07-16</td>\n",
       "      <td>19</td>\n",
       "    </tr>\n",
       "    <tr>\n",
       "      <th>9</th>\n",
       "      <td>9200</td>\n",
       "      <td>2008.0</td>\n",
       "      <td>honda pilot</td>\n",
       "      <td>excellent</td>\n",
       "      <td>NaN</td>\n",
       "      <td>gas</td>\n",
       "      <td>147191.0</td>\n",
       "      <td>automatic</td>\n",
       "      <td>SUV</td>\n",
       "      <td>blue</td>\n",
       "      <td>1.0</td>\n",
       "      <td>2019-02-15</td>\n",
       "      <td>17</td>\n",
       "    </tr>\n",
       "    <tr>\n",
       "      <th>10</th>\n",
       "      <td>19500</td>\n",
       "      <td>2011.0</td>\n",
       "      <td>chevrolet silverado 1500</td>\n",
       "      <td>excellent</td>\n",
       "      <td>8.0</td>\n",
       "      <td>gas</td>\n",
       "      <td>128413.0</td>\n",
       "      <td>automatic</td>\n",
       "      <td>pickup</td>\n",
       "      <td>black</td>\n",
       "      <td>1.0</td>\n",
       "      <td>2018-09-17</td>\n",
       "      <td>38</td>\n",
       "    </tr>\n",
       "    <tr>\n",
       "      <th>11</th>\n",
       "      <td>8990</td>\n",
       "      <td>2012.0</td>\n",
       "      <td>honda accord</td>\n",
       "      <td>excellent</td>\n",
       "      <td>4.0</td>\n",
       "      <td>gas</td>\n",
       "      <td>111142.0</td>\n",
       "      <td>automatic</td>\n",
       "      <td>sedan</td>\n",
       "      <td>grey</td>\n",
       "      <td>NaN</td>\n",
       "      <td>2019-03-28</td>\n",
       "      <td>29</td>\n",
       "    </tr>\n",
       "    <tr>\n",
       "      <th>12</th>\n",
       "      <td>18990</td>\n",
       "      <td>2012.0</td>\n",
       "      <td>ram 1500</td>\n",
       "      <td>excellent</td>\n",
       "      <td>8.0</td>\n",
       "      <td>gas</td>\n",
       "      <td>140742.0</td>\n",
       "      <td>automatic</td>\n",
       "      <td>pickup</td>\n",
       "      <td>NaN</td>\n",
       "      <td>1.0</td>\n",
       "      <td>2019-04-02</td>\n",
       "      <td>37</td>\n",
       "    </tr>\n",
       "    <tr>\n",
       "      <th>13</th>\n",
       "      <td>16500</td>\n",
       "      <td>2018.0</td>\n",
       "      <td>hyundai sonata</td>\n",
       "      <td>excellent</td>\n",
       "      <td>4.0</td>\n",
       "      <td>gas</td>\n",
       "      <td>22104.0</td>\n",
       "      <td>automatic</td>\n",
       "      <td>sedan</td>\n",
       "      <td>silver</td>\n",
       "      <td>NaN</td>\n",
       "      <td>2019-01-14</td>\n",
       "      <td>29</td>\n",
       "    </tr>\n",
       "    <tr>\n",
       "      <th>14</th>\n",
       "      <td>12990</td>\n",
       "      <td>2009.0</td>\n",
       "      <td>gmc yukon</td>\n",
       "      <td>excellent</td>\n",
       "      <td>8.0</td>\n",
       "      <td>gas</td>\n",
       "      <td>132285.0</td>\n",
       "      <td>automatic</td>\n",
       "      <td>SUV</td>\n",
       "      <td>black</td>\n",
       "      <td>1.0</td>\n",
       "      <td>2019-01-31</td>\n",
       "      <td>24</td>\n",
       "    </tr>\n",
       "    <tr>\n",
       "      <th>15</th>\n",
       "      <td>17990</td>\n",
       "      <td>2013.0</td>\n",
       "      <td>ram 1500</td>\n",
       "      <td>excellent</td>\n",
       "      <td>8.0</td>\n",
       "      <td>gas</td>\n",
       "      <td>NaN</td>\n",
       "      <td>automatic</td>\n",
       "      <td>pickup</td>\n",
       "      <td>red</td>\n",
       "      <td>1.0</td>\n",
       "      <td>2018-05-15</td>\n",
       "      <td>111</td>\n",
       "    </tr>\n",
       "    <tr>\n",
       "      <th>16</th>\n",
       "      <td>14990</td>\n",
       "      <td>2010.0</td>\n",
       "      <td>ram 1500</td>\n",
       "      <td>excellent</td>\n",
       "      <td>8.0</td>\n",
       "      <td>gas</td>\n",
       "      <td>130725.0</td>\n",
       "      <td>automatic</td>\n",
       "      <td>pickup</td>\n",
       "      <td>red</td>\n",
       "      <td>1.0</td>\n",
       "      <td>2018-12-30</td>\n",
       "      <td>13</td>\n",
       "    </tr>\n",
       "    <tr>\n",
       "      <th>17</th>\n",
       "      <td>13990</td>\n",
       "      <td>2014.0</td>\n",
       "      <td>jeep cherokee</td>\n",
       "      <td>excellent</td>\n",
       "      <td>6.0</td>\n",
       "      <td>gas</td>\n",
       "      <td>100669.0</td>\n",
       "      <td>automatic</td>\n",
       "      <td>SUV</td>\n",
       "      <td>red</td>\n",
       "      <td>1.0</td>\n",
       "      <td>2018-08-16</td>\n",
       "      <td>25</td>\n",
       "    </tr>\n",
       "    <tr>\n",
       "      <th>18</th>\n",
       "      <td>12500</td>\n",
       "      <td>2013.0</td>\n",
       "      <td>chevrolet traverse</td>\n",
       "      <td>excellent</td>\n",
       "      <td>6.0</td>\n",
       "      <td>gas</td>\n",
       "      <td>128325.0</td>\n",
       "      <td>automatic</td>\n",
       "      <td>SUV</td>\n",
       "      <td>white</td>\n",
       "      <td>1.0</td>\n",
       "      <td>2019-04-09</td>\n",
       "      <td>13</td>\n",
       "    </tr>\n",
       "    <tr>\n",
       "      <th>19</th>\n",
       "      <td>13990</td>\n",
       "      <td>2018.0</td>\n",
       "      <td>hyundai elantra</td>\n",
       "      <td>excellent</td>\n",
       "      <td>4.0</td>\n",
       "      <td>gas</td>\n",
       "      <td>31932.0</td>\n",
       "      <td>automatic</td>\n",
       "      <td>sedan</td>\n",
       "      <td>red</td>\n",
       "      <td>NaN</td>\n",
       "      <td>2018-08-25</td>\n",
       "      <td>27</td>\n",
       "    </tr>\n",
       "  </tbody>\n",
       "</table>\n",
       "</div>"
      ],
      "text/plain": [
       "    price  model_year                     model  condition  cylinders fuel  \\\n",
       "0    9400      2011.0                    bmw x5       good        6.0  gas   \n",
       "1   25500         NaN                ford f-150       good        6.0  gas   \n",
       "2    5500      2013.0            hyundai sonata   like new        4.0  gas   \n",
       "3    1500      2003.0                ford f-150       fair        8.0  gas   \n",
       "4   14900      2017.0              chrysler 200  excellent        4.0  gas   \n",
       "5   14990      2014.0              chrysler 300  excellent        6.0  gas   \n",
       "6   12990      2015.0              toyota camry  excellent        4.0  gas   \n",
       "7   15990      2013.0               honda pilot  excellent        6.0  gas   \n",
       "8   11500      2012.0               kia sorento  excellent        4.0  gas   \n",
       "9    9200      2008.0               honda pilot  excellent        NaN  gas   \n",
       "10  19500      2011.0  chevrolet silverado 1500  excellent        8.0  gas   \n",
       "11   8990      2012.0              honda accord  excellent        4.0  gas   \n",
       "12  18990      2012.0                  ram 1500  excellent        8.0  gas   \n",
       "13  16500      2018.0            hyundai sonata  excellent        4.0  gas   \n",
       "14  12990      2009.0                 gmc yukon  excellent        8.0  gas   \n",
       "15  17990      2013.0                  ram 1500  excellent        8.0  gas   \n",
       "16  14990      2010.0                  ram 1500  excellent        8.0  gas   \n",
       "17  13990      2014.0             jeep cherokee  excellent        6.0  gas   \n",
       "18  12500      2013.0        chevrolet traverse  excellent        6.0  gas   \n",
       "19  13990      2018.0           hyundai elantra  excellent        4.0  gas   \n",
       "\n",
       "    odometer transmission    type paint_color  is_4wd date_posted  days_listed  \n",
       "0   145000.0    automatic     SUV         NaN     1.0  2018-06-23           19  \n",
       "1    88705.0    automatic  pickup       white     1.0  2018-10-19           50  \n",
       "2   110000.0    automatic   sedan         red     NaN  2019-02-07           79  \n",
       "3        NaN    automatic  pickup         NaN     NaN  2019-03-22            9  \n",
       "4    80903.0    automatic   sedan       black     NaN  2019-04-02           28  \n",
       "5    57954.0    automatic   sedan       black     1.0  2018-06-20           15  \n",
       "6    79212.0    automatic   sedan       white     NaN  2018-12-27           73  \n",
       "7   109473.0    automatic     SUV       black     1.0  2019-01-07           68  \n",
       "8   104174.0    automatic     SUV         NaN     1.0  2018-07-16           19  \n",
       "9   147191.0    automatic     SUV        blue     1.0  2019-02-15           17  \n",
       "10  128413.0    automatic  pickup       black     1.0  2018-09-17           38  \n",
       "11  111142.0    automatic   sedan        grey     NaN  2019-03-28           29  \n",
       "12  140742.0    automatic  pickup         NaN     1.0  2019-04-02           37  \n",
       "13   22104.0    automatic   sedan      silver     NaN  2019-01-14           29  \n",
       "14  132285.0    automatic     SUV       black     1.0  2019-01-31           24  \n",
       "15       NaN    automatic  pickup         red     1.0  2018-05-15          111  \n",
       "16  130725.0    automatic  pickup         red     1.0  2018-12-30           13  \n",
       "17  100669.0    automatic     SUV         red     1.0  2018-08-16           25  \n",
       "18  128325.0    automatic     SUV       white     1.0  2019-04-09           13  \n",
       "19   31932.0    automatic   sedan         red     NaN  2018-08-25           27  "
      ]
     },
     "execution_count": 198,
     "metadata": {},
     "output_type": "execute_result"
    }
   ],
   "source": [
    "anuncios.head(20) # imprimir una muestra de datos"
   ]
  },
  {
   "cell_type": "markdown",
   "metadata": {},
   "source": [
    "De acuerdo a la información general de los datos, se identifican datos ausentes en las columnas model_year, cylinders, odometer, paint_color, is_4wd. Adicionalmente algunos tipos de datos se consideran inconsistentes para los datos que componen las columnas."
   ]
  },
  {
   "cell_type": "markdown",
   "metadata": {},
   "source": [
    " De acuerdo a las columnas de la tabla para el caso de la columna model_year, el tipo de datos es flotante (número decimal), lo cual no se considera apropiado. Para la columna cylinders, el tipo de datos es flotante, lo cual no se considera lógico. Para la columna que contiene información de la tracción o no en las cuatro ruedas, se considera que el tipo de datos debería ser booleano. En el caso de la columna date_posted, se considera que el tipo de dato debería ser de tipo de dato fecha."
   ]
  },
  {
   "cell_type": "markdown",
   "metadata": {},
   "source": [
    "Se identifica el número de valores ausentes en las columnas de la tabla."
   ]
  },
  {
   "cell_type": "code",
   "execution_count": 199,
   "metadata": {},
   "outputs": [
    {
     "data": {
      "text/plain": [
       "price               0\n",
       "model_year       3619\n",
       "model               0\n",
       "condition           0\n",
       "cylinders        5260\n",
       "fuel                0\n",
       "odometer         7892\n",
       "transmission        0\n",
       "type                0\n",
       "paint_color      9267\n",
       "is_4wd          25953\n",
       "date_posted         0\n",
       "days_listed         0\n",
       "dtype: int64"
      ]
     },
     "execution_count": 199,
     "metadata": {},
     "output_type": "execute_result"
    }
   ],
   "source": [
    "anuncios.isna().sum()"
   ]
  },
  {
   "cell_type": "markdown",
   "metadata": {},
   "source": [
    "El mayor número de datos ausentes se reportan en las columnas is_4wd (25953), paint_color(9267) y odometer (7892)."
   ]
  },
  {
   "cell_type": "code",
   "execution_count": 200,
   "metadata": {},
   "outputs": [
    {
     "data": {
      "text/plain": [
       "is_4wd          50.369723\n",
       "paint_color     17.985444\n",
       "odometer        15.316836\n",
       "cylinders       10.208637\n",
       "model_year       7.023775\n",
       "price            0.000000\n",
       "model            0.000000\n",
       "condition        0.000000\n",
       "fuel             0.000000\n",
       "transmission     0.000000\n",
       "type             0.000000\n",
       "date_posted      0.000000\n",
       "days_listed      0.000000\n",
       "dtype: float64"
      ]
     },
     "execution_count": 200,
     "metadata": {},
     "output_type": "execute_result"
    }
   ],
   "source": [
    "porc_ausentes=((anuncios.isna().sum()/len(anuncios))*100).sort_values(ascending=False)\n",
    "porc_ausentes"
   ]
  },
  {
   "cell_type": "markdown",
   "metadata": {},
   "source": [
    "Los porcentajes de datos ausentes en cada una de las columnas es mayor al 1% e incluso en una de las columnas, se evidencia un porcentaje de datos ausentes mayor al 50%; por lo cual, los datos ausentes deben abordarse para prevenir posibles errores durante el análisis de los datos."
   ]
  },
  {
   "cell_type": "code",
   "execution_count": 201,
   "metadata": {},
   "outputs": [
    {
     "data": {
      "text/plain": [
       "0"
      ]
     },
     "execution_count": 201,
     "metadata": {},
     "output_type": "execute_result"
    }
   ],
   "source": [
    "anuncios.duplicated().sum()"
   ]
  },
  {
   "cell_type": "markdown",
   "metadata": {},
   "source": [
    "No se identifican datos duplicados explícitos en los datos."
   ]
  },
  {
   "cell_type": "markdown",
   "metadata": {},
   "source": [
    "Pasamos a revisar cada columna, para identificar posibles problemas adicionales en los datos. Las columnas que contienen datos ausentes se filtran para identificar posibles patrones para los datos ausentes."
   ]
  },
  {
   "cell_type": "code",
   "execution_count": 202,
   "metadata": {},
   "outputs": [
    {
     "data": {
      "text/html": [
       "<div>\n",
       "<style scoped>\n",
       "    .dataframe tbody tr th:only-of-type {\n",
       "        vertical-align: middle;\n",
       "    }\n",
       "\n",
       "    .dataframe tbody tr th {\n",
       "        vertical-align: top;\n",
       "    }\n",
       "\n",
       "    .dataframe thead th {\n",
       "        text-align: right;\n",
       "    }\n",
       "</style>\n",
       "<table border=\"1\" class=\"dataframe\">\n",
       "  <thead>\n",
       "    <tr style=\"text-align: right;\">\n",
       "      <th></th>\n",
       "      <th>price</th>\n",
       "      <th>model_year</th>\n",
       "      <th>model</th>\n",
       "      <th>condition</th>\n",
       "      <th>cylinders</th>\n",
       "      <th>fuel</th>\n",
       "      <th>odometer</th>\n",
       "      <th>transmission</th>\n",
       "      <th>type</th>\n",
       "      <th>paint_color</th>\n",
       "      <th>is_4wd</th>\n",
       "      <th>date_posted</th>\n",
       "      <th>days_listed</th>\n",
       "    </tr>\n",
       "  </thead>\n",
       "  <tbody>\n",
       "    <tr>\n",
       "      <th>2</th>\n",
       "      <td>5500</td>\n",
       "      <td>2013.0</td>\n",
       "      <td>hyundai sonata</td>\n",
       "      <td>like new</td>\n",
       "      <td>4.0</td>\n",
       "      <td>gas</td>\n",
       "      <td>110000.0</td>\n",
       "      <td>automatic</td>\n",
       "      <td>sedan</td>\n",
       "      <td>red</td>\n",
       "      <td>NaN</td>\n",
       "      <td>2019-02-07</td>\n",
       "      <td>79</td>\n",
       "    </tr>\n",
       "    <tr>\n",
       "      <th>3</th>\n",
       "      <td>1500</td>\n",
       "      <td>2003.0</td>\n",
       "      <td>ford f-150</td>\n",
       "      <td>fair</td>\n",
       "      <td>8.0</td>\n",
       "      <td>gas</td>\n",
       "      <td>NaN</td>\n",
       "      <td>automatic</td>\n",
       "      <td>pickup</td>\n",
       "      <td>NaN</td>\n",
       "      <td>NaN</td>\n",
       "      <td>2019-03-22</td>\n",
       "      <td>9</td>\n",
       "    </tr>\n",
       "    <tr>\n",
       "      <th>4</th>\n",
       "      <td>14900</td>\n",
       "      <td>2017.0</td>\n",
       "      <td>chrysler 200</td>\n",
       "      <td>excellent</td>\n",
       "      <td>4.0</td>\n",
       "      <td>gas</td>\n",
       "      <td>80903.0</td>\n",
       "      <td>automatic</td>\n",
       "      <td>sedan</td>\n",
       "      <td>black</td>\n",
       "      <td>NaN</td>\n",
       "      <td>2019-04-02</td>\n",
       "      <td>28</td>\n",
       "    </tr>\n",
       "    <tr>\n",
       "      <th>6</th>\n",
       "      <td>12990</td>\n",
       "      <td>2015.0</td>\n",
       "      <td>toyota camry</td>\n",
       "      <td>excellent</td>\n",
       "      <td>4.0</td>\n",
       "      <td>gas</td>\n",
       "      <td>79212.0</td>\n",
       "      <td>automatic</td>\n",
       "      <td>sedan</td>\n",
       "      <td>white</td>\n",
       "      <td>NaN</td>\n",
       "      <td>2018-12-27</td>\n",
       "      <td>73</td>\n",
       "    </tr>\n",
       "    <tr>\n",
       "      <th>11</th>\n",
       "      <td>8990</td>\n",
       "      <td>2012.0</td>\n",
       "      <td>honda accord</td>\n",
       "      <td>excellent</td>\n",
       "      <td>4.0</td>\n",
       "      <td>gas</td>\n",
       "      <td>111142.0</td>\n",
       "      <td>automatic</td>\n",
       "      <td>sedan</td>\n",
       "      <td>grey</td>\n",
       "      <td>NaN</td>\n",
       "      <td>2019-03-28</td>\n",
       "      <td>29</td>\n",
       "    </tr>\n",
       "    <tr>\n",
       "      <th>13</th>\n",
       "      <td>16500</td>\n",
       "      <td>2018.0</td>\n",
       "      <td>hyundai sonata</td>\n",
       "      <td>excellent</td>\n",
       "      <td>4.0</td>\n",
       "      <td>gas</td>\n",
       "      <td>22104.0</td>\n",
       "      <td>automatic</td>\n",
       "      <td>sedan</td>\n",
       "      <td>silver</td>\n",
       "      <td>NaN</td>\n",
       "      <td>2019-01-14</td>\n",
       "      <td>29</td>\n",
       "    </tr>\n",
       "    <tr>\n",
       "      <th>19</th>\n",
       "      <td>13990</td>\n",
       "      <td>2018.0</td>\n",
       "      <td>hyundai elantra</td>\n",
       "      <td>excellent</td>\n",
       "      <td>4.0</td>\n",
       "      <td>gas</td>\n",
       "      <td>31932.0</td>\n",
       "      <td>automatic</td>\n",
       "      <td>sedan</td>\n",
       "      <td>red</td>\n",
       "      <td>NaN</td>\n",
       "      <td>2018-08-25</td>\n",
       "      <td>27</td>\n",
       "    </tr>\n",
       "    <tr>\n",
       "      <th>21</th>\n",
       "      <td>5250</td>\n",
       "      <td>2007.0</td>\n",
       "      <td>toyota rav4</td>\n",
       "      <td>good</td>\n",
       "      <td>6.0</td>\n",
       "      <td>gas</td>\n",
       "      <td>154000.0</td>\n",
       "      <td>automatic</td>\n",
       "      <td>SUV</td>\n",
       "      <td>NaN</td>\n",
       "      <td>NaN</td>\n",
       "      <td>2018-08-22</td>\n",
       "      <td>8</td>\n",
       "    </tr>\n",
       "    <tr>\n",
       "      <th>24</th>\n",
       "      <td>3950</td>\n",
       "      <td>2009.0</td>\n",
       "      <td>chrysler 200</td>\n",
       "      <td>excellent</td>\n",
       "      <td>4.0</td>\n",
       "      <td>gas</td>\n",
       "      <td>NaN</td>\n",
       "      <td>automatic</td>\n",
       "      <td>sedan</td>\n",
       "      <td>red</td>\n",
       "      <td>NaN</td>\n",
       "      <td>2018-06-11</td>\n",
       "      <td>40</td>\n",
       "    </tr>\n",
       "    <tr>\n",
       "      <th>25</th>\n",
       "      <td>11499</td>\n",
       "      <td>2017.0</td>\n",
       "      <td>chevrolet malibu</td>\n",
       "      <td>like new</td>\n",
       "      <td>4.0</td>\n",
       "      <td>gas</td>\n",
       "      <td>NaN</td>\n",
       "      <td>automatic</td>\n",
       "      <td>sedan</td>\n",
       "      <td>NaN</td>\n",
       "      <td>NaN</td>\n",
       "      <td>2018-07-26</td>\n",
       "      <td>43</td>\n",
       "    </tr>\n",
       "    <tr>\n",
       "      <th>26</th>\n",
       "      <td>8499</td>\n",
       "      <td>2014.0</td>\n",
       "      <td>ford fusion se</td>\n",
       "      <td>like new</td>\n",
       "      <td>4.0</td>\n",
       "      <td>gas</td>\n",
       "      <td>79523.0</td>\n",
       "      <td>automatic</td>\n",
       "      <td>sedan</td>\n",
       "      <td>red</td>\n",
       "      <td>NaN</td>\n",
       "      <td>2018-10-25</td>\n",
       "      <td>23</td>\n",
       "    </tr>\n",
       "    <tr>\n",
       "      <th>27</th>\n",
       "      <td>12999</td>\n",
       "      <td>2015.0</td>\n",
       "      <td>chevrolet impala</td>\n",
       "      <td>like new</td>\n",
       "      <td>6.0</td>\n",
       "      <td>gas</td>\n",
       "      <td>39368.0</td>\n",
       "      <td>automatic</td>\n",
       "      <td>sedan</td>\n",
       "      <td>custom</td>\n",
       "      <td>NaN</td>\n",
       "      <td>2018-05-19</td>\n",
       "      <td>42</td>\n",
       "    </tr>\n",
       "    <tr>\n",
       "      <th>28</th>\n",
       "      <td>29800</td>\n",
       "      <td>2012.0</td>\n",
       "      <td>chevrolet corvette</td>\n",
       "      <td>excellent</td>\n",
       "      <td>8.0</td>\n",
       "      <td>gas</td>\n",
       "      <td>57413.0</td>\n",
       "      <td>automatic</td>\n",
       "      <td>coupe</td>\n",
       "      <td>orange</td>\n",
       "      <td>NaN</td>\n",
       "      <td>2018-10-22</td>\n",
       "      <td>101</td>\n",
       "    </tr>\n",
       "    <tr>\n",
       "      <th>29</th>\n",
       "      <td>5495</td>\n",
       "      <td>2010.0</td>\n",
       "      <td>chevrolet impala</td>\n",
       "      <td>excellent</td>\n",
       "      <td>6.0</td>\n",
       "      <td>gas</td>\n",
       "      <td>NaN</td>\n",
       "      <td>automatic</td>\n",
       "      <td>sedan</td>\n",
       "      <td>white</td>\n",
       "      <td>NaN</td>\n",
       "      <td>2019-02-18</td>\n",
       "      <td>20</td>\n",
       "    </tr>\n",
       "    <tr>\n",
       "      <th>31</th>\n",
       "      <td>11999</td>\n",
       "      <td>2017.0</td>\n",
       "      <td>toyota camry le</td>\n",
       "      <td>excellent</td>\n",
       "      <td>4.0</td>\n",
       "      <td>gas</td>\n",
       "      <td>35721.0</td>\n",
       "      <td>automatic</td>\n",
       "      <td>sedan</td>\n",
       "      <td>NaN</td>\n",
       "      <td>NaN</td>\n",
       "      <td>2018-09-13</td>\n",
       "      <td>25</td>\n",
       "    </tr>\n",
       "    <tr>\n",
       "      <th>32</th>\n",
       "      <td>9499</td>\n",
       "      <td>2015.0</td>\n",
       "      <td>nissan altima</td>\n",
       "      <td>like new</td>\n",
       "      <td>4.0</td>\n",
       "      <td>gas</td>\n",
       "      <td>51848.0</td>\n",
       "      <td>automatic</td>\n",
       "      <td>sedan</td>\n",
       "      <td>grey</td>\n",
       "      <td>NaN</td>\n",
       "      <td>2018-11-12</td>\n",
       "      <td>7</td>\n",
       "    </tr>\n",
       "    <tr>\n",
       "      <th>34</th>\n",
       "      <td>9500</td>\n",
       "      <td>2008.0</td>\n",
       "      <td>toyota highlander</td>\n",
       "      <td>good</td>\n",
       "      <td>6.0</td>\n",
       "      <td>gas</td>\n",
       "      <td>149799.0</td>\n",
       "      <td>automatic</td>\n",
       "      <td>SUV</td>\n",
       "      <td>NaN</td>\n",
       "      <td>NaN</td>\n",
       "      <td>2018-06-04</td>\n",
       "      <td>121</td>\n",
       "    </tr>\n",
       "    <tr>\n",
       "      <th>35</th>\n",
       "      <td>14999</td>\n",
       "      <td>2015.0</td>\n",
       "      <td>dodge charger</td>\n",
       "      <td>good</td>\n",
       "      <td>6.0</td>\n",
       "      <td>gas</td>\n",
       "      <td>63037.0</td>\n",
       "      <td>automatic</td>\n",
       "      <td>sedan</td>\n",
       "      <td>NaN</td>\n",
       "      <td>NaN</td>\n",
       "      <td>2018-05-11</td>\n",
       "      <td>37</td>\n",
       "    </tr>\n",
       "    <tr>\n",
       "      <th>36</th>\n",
       "      <td>10499</td>\n",
       "      <td>2013.0</td>\n",
       "      <td>chrysler 300</td>\n",
       "      <td>good</td>\n",
       "      <td>NaN</td>\n",
       "      <td>gas</td>\n",
       "      <td>88042.0</td>\n",
       "      <td>automatic</td>\n",
       "      <td>sedan</td>\n",
       "      <td>NaN</td>\n",
       "      <td>NaN</td>\n",
       "      <td>2018-05-05</td>\n",
       "      <td>22</td>\n",
       "    </tr>\n",
       "    <tr>\n",
       "      <th>37</th>\n",
       "      <td>7500</td>\n",
       "      <td>2005.0</td>\n",
       "      <td>toyota tacoma</td>\n",
       "      <td>good</td>\n",
       "      <td>NaN</td>\n",
       "      <td>gas</td>\n",
       "      <td>160000.0</td>\n",
       "      <td>automatic</td>\n",
       "      <td>pickup</td>\n",
       "      <td>NaN</td>\n",
       "      <td>NaN</td>\n",
       "      <td>2018-07-22</td>\n",
       "      <td>44</td>\n",
       "    </tr>\n",
       "  </tbody>\n",
       "</table>\n",
       "</div>"
      ],
      "text/plain": [
       "    price  model_year               model  condition  cylinders fuel  \\\n",
       "2    5500      2013.0      hyundai sonata   like new        4.0  gas   \n",
       "3    1500      2003.0          ford f-150       fair        8.0  gas   \n",
       "4   14900      2017.0        chrysler 200  excellent        4.0  gas   \n",
       "6   12990      2015.0        toyota camry  excellent        4.0  gas   \n",
       "11   8990      2012.0        honda accord  excellent        4.0  gas   \n",
       "13  16500      2018.0      hyundai sonata  excellent        4.0  gas   \n",
       "19  13990      2018.0     hyundai elantra  excellent        4.0  gas   \n",
       "21   5250      2007.0         toyota rav4       good        6.0  gas   \n",
       "24   3950      2009.0        chrysler 200  excellent        4.0  gas   \n",
       "25  11499      2017.0    chevrolet malibu   like new        4.0  gas   \n",
       "26   8499      2014.0      ford fusion se   like new        4.0  gas   \n",
       "27  12999      2015.0    chevrolet impala   like new        6.0  gas   \n",
       "28  29800      2012.0  chevrolet corvette  excellent        8.0  gas   \n",
       "29   5495      2010.0    chevrolet impala  excellent        6.0  gas   \n",
       "31  11999      2017.0     toyota camry le  excellent        4.0  gas   \n",
       "32   9499      2015.0       nissan altima   like new        4.0  gas   \n",
       "34   9500      2008.0   toyota highlander       good        6.0  gas   \n",
       "35  14999      2015.0       dodge charger       good        6.0  gas   \n",
       "36  10499      2013.0        chrysler 300       good        NaN  gas   \n",
       "37   7500      2005.0       toyota tacoma       good        NaN  gas   \n",
       "\n",
       "    odometer transmission    type paint_color  is_4wd date_posted  days_listed  \n",
       "2   110000.0    automatic   sedan         red     NaN  2019-02-07           79  \n",
       "3        NaN    automatic  pickup         NaN     NaN  2019-03-22            9  \n",
       "4    80903.0    automatic   sedan       black     NaN  2019-04-02           28  \n",
       "6    79212.0    automatic   sedan       white     NaN  2018-12-27           73  \n",
       "11  111142.0    automatic   sedan        grey     NaN  2019-03-28           29  \n",
       "13   22104.0    automatic   sedan      silver     NaN  2019-01-14           29  \n",
       "19   31932.0    automatic   sedan         red     NaN  2018-08-25           27  \n",
       "21  154000.0    automatic     SUV         NaN     NaN  2018-08-22            8  \n",
       "24       NaN    automatic   sedan         red     NaN  2018-06-11           40  \n",
       "25       NaN    automatic   sedan         NaN     NaN  2018-07-26           43  \n",
       "26   79523.0    automatic   sedan         red     NaN  2018-10-25           23  \n",
       "27   39368.0    automatic   sedan      custom     NaN  2018-05-19           42  \n",
       "28   57413.0    automatic   coupe      orange     NaN  2018-10-22          101  \n",
       "29       NaN    automatic   sedan       white     NaN  2019-02-18           20  \n",
       "31   35721.0    automatic   sedan         NaN     NaN  2018-09-13           25  \n",
       "32   51848.0    automatic   sedan        grey     NaN  2018-11-12            7  \n",
       "34  149799.0    automatic     SUV         NaN     NaN  2018-06-04          121  \n",
       "35   63037.0    automatic   sedan         NaN     NaN  2018-05-11           37  \n",
       "36   88042.0    automatic   sedan         NaN     NaN  2018-05-05           22  \n",
       "37  160000.0    automatic  pickup         NaN     NaN  2018-07-22           44  "
      ]
     },
     "execution_count": 202,
     "metadata": {},
     "output_type": "execute_result"
    }
   ],
   "source": [
    "anuncios[anuncios[\"is_4wd\"].isnull()].head(20)"
   ]
  },
  {
   "cell_type": "code",
   "execution_count": 203,
   "metadata": {},
   "outputs": [
    {
     "data": {
      "text/plain": [
       "0    1.0\n",
       "1    1.0\n",
       "2    NaN\n",
       "3    NaN\n",
       "4    NaN\n",
       "5    1.0\n",
       "6    NaN\n",
       "7    1.0\n",
       "8    1.0\n",
       "9    1.0\n",
       "Name: is_4wd, dtype: float64"
      ]
     },
     "execution_count": 203,
     "metadata": {},
     "output_type": "execute_result"
    }
   ],
   "source": [
    "anuncios[\"is_4wd\"].head(10)"
   ]
  },
  {
   "cell_type": "markdown",
   "metadata": {},
   "source": [
    "Los datos ausentes en la columna \"is_4wd\", se considera que pueden reemplazarse por cero, teniendo en cuenta que el tipo de dato de la columna debería ser de tipo booleano, y los datos ausentes corresponderían entonces a los vehículos que no tienen tracción en las 4 ruedas."
   ]
  },
  {
   "cell_type": "code",
   "execution_count": 204,
   "metadata": {
    "scrolled": false
   },
   "outputs": [
    {
     "data": {
      "text/html": [
       "<div>\n",
       "<style scoped>\n",
       "    .dataframe tbody tr th:only-of-type {\n",
       "        vertical-align: middle;\n",
       "    }\n",
       "\n",
       "    .dataframe tbody tr th {\n",
       "        vertical-align: top;\n",
       "    }\n",
       "\n",
       "    .dataframe thead th {\n",
       "        text-align: right;\n",
       "    }\n",
       "</style>\n",
       "<table border=\"1\" class=\"dataframe\">\n",
       "  <thead>\n",
       "    <tr style=\"text-align: right;\">\n",
       "      <th></th>\n",
       "      <th>price</th>\n",
       "      <th>model_year</th>\n",
       "      <th>model</th>\n",
       "      <th>condition</th>\n",
       "      <th>cylinders</th>\n",
       "      <th>fuel</th>\n",
       "      <th>odometer</th>\n",
       "      <th>transmission</th>\n",
       "      <th>type</th>\n",
       "      <th>paint_color</th>\n",
       "      <th>is_4wd</th>\n",
       "      <th>date_posted</th>\n",
       "      <th>days_listed</th>\n",
       "    </tr>\n",
       "  </thead>\n",
       "  <tbody>\n",
       "    <tr>\n",
       "      <th>0</th>\n",
       "      <td>9400</td>\n",
       "      <td>2011.0</td>\n",
       "      <td>bmw x5</td>\n",
       "      <td>good</td>\n",
       "      <td>6.0</td>\n",
       "      <td>gas</td>\n",
       "      <td>145000.0</td>\n",
       "      <td>automatic</td>\n",
       "      <td>SUV</td>\n",
       "      <td>NaN</td>\n",
       "      <td>1.0</td>\n",
       "      <td>2018-06-23</td>\n",
       "      <td>19</td>\n",
       "    </tr>\n",
       "    <tr>\n",
       "      <th>3</th>\n",
       "      <td>1500</td>\n",
       "      <td>2003.0</td>\n",
       "      <td>ford f-150</td>\n",
       "      <td>fair</td>\n",
       "      <td>8.0</td>\n",
       "      <td>gas</td>\n",
       "      <td>NaN</td>\n",
       "      <td>automatic</td>\n",
       "      <td>pickup</td>\n",
       "      <td>NaN</td>\n",
       "      <td>NaN</td>\n",
       "      <td>2019-03-22</td>\n",
       "      <td>9</td>\n",
       "    </tr>\n",
       "    <tr>\n",
       "      <th>8</th>\n",
       "      <td>11500</td>\n",
       "      <td>2012.0</td>\n",
       "      <td>kia sorento</td>\n",
       "      <td>excellent</td>\n",
       "      <td>4.0</td>\n",
       "      <td>gas</td>\n",
       "      <td>104174.0</td>\n",
       "      <td>automatic</td>\n",
       "      <td>SUV</td>\n",
       "      <td>NaN</td>\n",
       "      <td>1.0</td>\n",
       "      <td>2018-07-16</td>\n",
       "      <td>19</td>\n",
       "    </tr>\n",
       "    <tr>\n",
       "      <th>12</th>\n",
       "      <td>18990</td>\n",
       "      <td>2012.0</td>\n",
       "      <td>ram 1500</td>\n",
       "      <td>excellent</td>\n",
       "      <td>8.0</td>\n",
       "      <td>gas</td>\n",
       "      <td>140742.0</td>\n",
       "      <td>automatic</td>\n",
       "      <td>pickup</td>\n",
       "      <td>NaN</td>\n",
       "      <td>1.0</td>\n",
       "      <td>2019-04-02</td>\n",
       "      <td>37</td>\n",
       "    </tr>\n",
       "    <tr>\n",
       "      <th>21</th>\n",
       "      <td>5250</td>\n",
       "      <td>2007.0</td>\n",
       "      <td>toyota rav4</td>\n",
       "      <td>good</td>\n",
       "      <td>6.0</td>\n",
       "      <td>gas</td>\n",
       "      <td>154000.0</td>\n",
       "      <td>automatic</td>\n",
       "      <td>SUV</td>\n",
       "      <td>NaN</td>\n",
       "      <td>NaN</td>\n",
       "      <td>2018-08-22</td>\n",
       "      <td>8</td>\n",
       "    </tr>\n",
       "    <tr>\n",
       "      <th>25</th>\n",
       "      <td>11499</td>\n",
       "      <td>2017.0</td>\n",
       "      <td>chevrolet malibu</td>\n",
       "      <td>like new</td>\n",
       "      <td>4.0</td>\n",
       "      <td>gas</td>\n",
       "      <td>NaN</td>\n",
       "      <td>automatic</td>\n",
       "      <td>sedan</td>\n",
       "      <td>NaN</td>\n",
       "      <td>NaN</td>\n",
       "      <td>2018-07-26</td>\n",
       "      <td>43</td>\n",
       "    </tr>\n",
       "    <tr>\n",
       "      <th>31</th>\n",
       "      <td>11999</td>\n",
       "      <td>2017.0</td>\n",
       "      <td>toyota camry le</td>\n",
       "      <td>excellent</td>\n",
       "      <td>4.0</td>\n",
       "      <td>gas</td>\n",
       "      <td>35721.0</td>\n",
       "      <td>automatic</td>\n",
       "      <td>sedan</td>\n",
       "      <td>NaN</td>\n",
       "      <td>NaN</td>\n",
       "      <td>2018-09-13</td>\n",
       "      <td>25</td>\n",
       "    </tr>\n",
       "    <tr>\n",
       "      <th>34</th>\n",
       "      <td>9500</td>\n",
       "      <td>2008.0</td>\n",
       "      <td>toyota highlander</td>\n",
       "      <td>good</td>\n",
       "      <td>6.0</td>\n",
       "      <td>gas</td>\n",
       "      <td>149799.0</td>\n",
       "      <td>automatic</td>\n",
       "      <td>SUV</td>\n",
       "      <td>NaN</td>\n",
       "      <td>NaN</td>\n",
       "      <td>2018-06-04</td>\n",
       "      <td>121</td>\n",
       "    </tr>\n",
       "    <tr>\n",
       "      <th>35</th>\n",
       "      <td>14999</td>\n",
       "      <td>2015.0</td>\n",
       "      <td>dodge charger</td>\n",
       "      <td>good</td>\n",
       "      <td>6.0</td>\n",
       "      <td>gas</td>\n",
       "      <td>63037.0</td>\n",
       "      <td>automatic</td>\n",
       "      <td>sedan</td>\n",
       "      <td>NaN</td>\n",
       "      <td>NaN</td>\n",
       "      <td>2018-05-11</td>\n",
       "      <td>37</td>\n",
       "    </tr>\n",
       "    <tr>\n",
       "      <th>36</th>\n",
       "      <td>10499</td>\n",
       "      <td>2013.0</td>\n",
       "      <td>chrysler 300</td>\n",
       "      <td>good</td>\n",
       "      <td>NaN</td>\n",
       "      <td>gas</td>\n",
       "      <td>88042.0</td>\n",
       "      <td>automatic</td>\n",
       "      <td>sedan</td>\n",
       "      <td>NaN</td>\n",
       "      <td>NaN</td>\n",
       "      <td>2018-05-05</td>\n",
       "      <td>22</td>\n",
       "    </tr>\n",
       "    <tr>\n",
       "      <th>37</th>\n",
       "      <td>7500</td>\n",
       "      <td>2005.0</td>\n",
       "      <td>toyota tacoma</td>\n",
       "      <td>good</td>\n",
       "      <td>NaN</td>\n",
       "      <td>gas</td>\n",
       "      <td>160000.0</td>\n",
       "      <td>automatic</td>\n",
       "      <td>pickup</td>\n",
       "      <td>NaN</td>\n",
       "      <td>NaN</td>\n",
       "      <td>2018-07-22</td>\n",
       "      <td>44</td>\n",
       "    </tr>\n",
       "    <tr>\n",
       "      <th>38</th>\n",
       "      <td>7999</td>\n",
       "      <td>2015.0</td>\n",
       "      <td>chrysler 200</td>\n",
       "      <td>good</td>\n",
       "      <td>4.0</td>\n",
       "      <td>gas</td>\n",
       "      <td>NaN</td>\n",
       "      <td>automatic</td>\n",
       "      <td>sedan</td>\n",
       "      <td>NaN</td>\n",
       "      <td>NaN</td>\n",
       "      <td>2019-03-08</td>\n",
       "      <td>29</td>\n",
       "    </tr>\n",
       "    <tr>\n",
       "      <th>44</th>\n",
       "      <td>4500</td>\n",
       "      <td>2004.0</td>\n",
       "      <td>jeep grand cherokee</td>\n",
       "      <td>good</td>\n",
       "      <td>6.0</td>\n",
       "      <td>gas</td>\n",
       "      <td>168821.0</td>\n",
       "      <td>automatic</td>\n",
       "      <td>SUV</td>\n",
       "      <td>NaN</td>\n",
       "      <td>1.0</td>\n",
       "      <td>2019-01-31</td>\n",
       "      <td>60</td>\n",
       "    </tr>\n",
       "    <tr>\n",
       "      <th>48</th>\n",
       "      <td>9500</td>\n",
       "      <td>2014.0</td>\n",
       "      <td>ford focus</td>\n",
       "      <td>excellent</td>\n",
       "      <td>4.0</td>\n",
       "      <td>diesel</td>\n",
       "      <td>46000.0</td>\n",
       "      <td>automatic</td>\n",
       "      <td>sedan</td>\n",
       "      <td>NaN</td>\n",
       "      <td>NaN</td>\n",
       "      <td>2018-10-09</td>\n",
       "      <td>24</td>\n",
       "    </tr>\n",
       "    <tr>\n",
       "      <th>55</th>\n",
       "      <td>19700</td>\n",
       "      <td>2017.0</td>\n",
       "      <td>chevrolet camaro lt coupe 2d</td>\n",
       "      <td>good</td>\n",
       "      <td>6.0</td>\n",
       "      <td>gas</td>\n",
       "      <td>35807.0</td>\n",
       "      <td>other</td>\n",
       "      <td>coupe</td>\n",
       "      <td>NaN</td>\n",
       "      <td>NaN</td>\n",
       "      <td>2018-05-16</td>\n",
       "      <td>99</td>\n",
       "    </tr>\n",
       "    <tr>\n",
       "      <th>68</th>\n",
       "      <td>6950</td>\n",
       "      <td>2013.0</td>\n",
       "      <td>nissan altima</td>\n",
       "      <td>excellent</td>\n",
       "      <td>4.0</td>\n",
       "      <td>gas</td>\n",
       "      <td>158786.0</td>\n",
       "      <td>automatic</td>\n",
       "      <td>sedan</td>\n",
       "      <td>NaN</td>\n",
       "      <td>NaN</td>\n",
       "      <td>2018-12-24</td>\n",
       "      <td>41</td>\n",
       "    </tr>\n",
       "    <tr>\n",
       "      <th>71</th>\n",
       "      <td>23300</td>\n",
       "      <td>2018.0</td>\n",
       "      <td>nissan frontier crew cab sv</td>\n",
       "      <td>good</td>\n",
       "      <td>6.0</td>\n",
       "      <td>gas</td>\n",
       "      <td>27493.0</td>\n",
       "      <td>other</td>\n",
       "      <td>pickup</td>\n",
       "      <td>NaN</td>\n",
       "      <td>1.0</td>\n",
       "      <td>2018-10-13</td>\n",
       "      <td>36</td>\n",
       "    </tr>\n",
       "    <tr>\n",
       "      <th>75</th>\n",
       "      <td>6950</td>\n",
       "      <td>2005.0</td>\n",
       "      <td>chevrolet tahoe</td>\n",
       "      <td>excellent</td>\n",
       "      <td>NaN</td>\n",
       "      <td>gas</td>\n",
       "      <td>186021.0</td>\n",
       "      <td>automatic</td>\n",
       "      <td>SUV</td>\n",
       "      <td>NaN</td>\n",
       "      <td>1.0</td>\n",
       "      <td>2018-10-30</td>\n",
       "      <td>3</td>\n",
       "    </tr>\n",
       "    <tr>\n",
       "      <th>80</th>\n",
       "      <td>26900</td>\n",
       "      <td>2014.0</td>\n",
       "      <td>chevrolet silverado 1500 crew</td>\n",
       "      <td>good</td>\n",
       "      <td>8.0</td>\n",
       "      <td>gas</td>\n",
       "      <td>68607.0</td>\n",
       "      <td>automatic</td>\n",
       "      <td>pickup</td>\n",
       "      <td>NaN</td>\n",
       "      <td>1.0</td>\n",
       "      <td>2018-09-08</td>\n",
       "      <td>10</td>\n",
       "    </tr>\n",
       "    <tr>\n",
       "      <th>91</th>\n",
       "      <td>2800</td>\n",
       "      <td>2010.0</td>\n",
       "      <td>chevrolet colorado</td>\n",
       "      <td>good</td>\n",
       "      <td>5.0</td>\n",
       "      <td>gas</td>\n",
       "      <td>200800.0</td>\n",
       "      <td>automatic</td>\n",
       "      <td>pickup</td>\n",
       "      <td>NaN</td>\n",
       "      <td>NaN</td>\n",
       "      <td>2018-07-24</td>\n",
       "      <td>10</td>\n",
       "    </tr>\n",
       "  </tbody>\n",
       "</table>\n",
       "</div>"
      ],
      "text/plain": [
       "    price  model_year                          model  condition  cylinders  \\\n",
       "0    9400      2011.0                         bmw x5       good        6.0   \n",
       "3    1500      2003.0                     ford f-150       fair        8.0   \n",
       "8   11500      2012.0                    kia sorento  excellent        4.0   \n",
       "12  18990      2012.0                       ram 1500  excellent        8.0   \n",
       "21   5250      2007.0                    toyota rav4       good        6.0   \n",
       "25  11499      2017.0               chevrolet malibu   like new        4.0   \n",
       "31  11999      2017.0                toyota camry le  excellent        4.0   \n",
       "34   9500      2008.0              toyota highlander       good        6.0   \n",
       "35  14999      2015.0                  dodge charger       good        6.0   \n",
       "36  10499      2013.0                   chrysler 300       good        NaN   \n",
       "37   7500      2005.0                  toyota tacoma       good        NaN   \n",
       "38   7999      2015.0                   chrysler 200       good        4.0   \n",
       "44   4500      2004.0            jeep grand cherokee       good        6.0   \n",
       "48   9500      2014.0                     ford focus  excellent        4.0   \n",
       "55  19700      2017.0   chevrolet camaro lt coupe 2d       good        6.0   \n",
       "68   6950      2013.0                  nissan altima  excellent        4.0   \n",
       "71  23300      2018.0    nissan frontier crew cab sv       good        6.0   \n",
       "75   6950      2005.0                chevrolet tahoe  excellent        NaN   \n",
       "80  26900      2014.0  chevrolet silverado 1500 crew       good        8.0   \n",
       "91   2800      2010.0             chevrolet colorado       good        5.0   \n",
       "\n",
       "      fuel  odometer transmission    type paint_color  is_4wd date_posted  \\\n",
       "0      gas  145000.0    automatic     SUV         NaN     1.0  2018-06-23   \n",
       "3      gas       NaN    automatic  pickup         NaN     NaN  2019-03-22   \n",
       "8      gas  104174.0    automatic     SUV         NaN     1.0  2018-07-16   \n",
       "12     gas  140742.0    automatic  pickup         NaN     1.0  2019-04-02   \n",
       "21     gas  154000.0    automatic     SUV         NaN     NaN  2018-08-22   \n",
       "25     gas       NaN    automatic   sedan         NaN     NaN  2018-07-26   \n",
       "31     gas   35721.0    automatic   sedan         NaN     NaN  2018-09-13   \n",
       "34     gas  149799.0    automatic     SUV         NaN     NaN  2018-06-04   \n",
       "35     gas   63037.0    automatic   sedan         NaN     NaN  2018-05-11   \n",
       "36     gas   88042.0    automatic   sedan         NaN     NaN  2018-05-05   \n",
       "37     gas  160000.0    automatic  pickup         NaN     NaN  2018-07-22   \n",
       "38     gas       NaN    automatic   sedan         NaN     NaN  2019-03-08   \n",
       "44     gas  168821.0    automatic     SUV         NaN     1.0  2019-01-31   \n",
       "48  diesel   46000.0    automatic   sedan         NaN     NaN  2018-10-09   \n",
       "55     gas   35807.0        other   coupe         NaN     NaN  2018-05-16   \n",
       "68     gas  158786.0    automatic   sedan         NaN     NaN  2018-12-24   \n",
       "71     gas   27493.0        other  pickup         NaN     1.0  2018-10-13   \n",
       "75     gas  186021.0    automatic     SUV         NaN     1.0  2018-10-30   \n",
       "80     gas   68607.0    automatic  pickup         NaN     1.0  2018-09-08   \n",
       "91     gas  200800.0    automatic  pickup         NaN     NaN  2018-07-24   \n",
       "\n",
       "    days_listed  \n",
       "0            19  \n",
       "3             9  \n",
       "8            19  \n",
       "12           37  \n",
       "21            8  \n",
       "25           43  \n",
       "31           25  \n",
       "34          121  \n",
       "35           37  \n",
       "36           22  \n",
       "37           44  \n",
       "38           29  \n",
       "44           60  \n",
       "48           24  \n",
       "55           99  \n",
       "68           41  \n",
       "71           36  \n",
       "75            3  \n",
       "80           10  \n",
       "91           10  "
      ]
     },
     "execution_count": 204,
     "metadata": {},
     "output_type": "execute_result"
    }
   ],
   "source": [
    "anuncios[anuncios[\"paint_color\"].isnull()].head(20)"
   ]
  },
  {
   "cell_type": "markdown",
   "metadata": {},
   "source": [
    "Hasta el momento, lo que se identifica es que la mayoría de los datos ausentes en la columna \"paint_color\", se presenta en los vehículos en los que el tipo de combustible es gas.\n",
    "\n",
    "Los datos ausentes en la columna paint_color, también se presenta generalmente en los vehículos en los que el tipo de transmisión es automática y en vehículos tipo: SUV, pickup, sedan y coupe.\n",
    "\n",
    "Se decide rellenar los valores ausentes en paint_color, con la clasificación \"desconocido\", debido a lo complicado de predecir realmente a que color pueda corresponder cada vehículo."
   ]
  },
  {
   "cell_type": "code",
   "execution_count": 205,
   "metadata": {},
   "outputs": [
    {
     "data": {
      "text/plain": [
       "gas         47288\n",
       "diesel       3714\n",
       "hybrid        409\n",
       "other         108\n",
       "electric        6\n",
       "Name: fuel, dtype: int64"
      ]
     },
     "execution_count": 205,
     "metadata": {},
     "output_type": "execute_result"
    }
   ],
   "source": [
    "anuncios[\"fuel\"].value_counts()"
   ]
  },
  {
   "cell_type": "markdown",
   "metadata": {},
   "source": [
    "La mayor cantidad de vehículos, funcionan con gas; por lo cual es lógico que el dato ausente se presente en éstos vehículos."
   ]
  },
  {
   "cell_type": "code",
   "execution_count": 206,
   "metadata": {},
   "outputs": [
    {
     "data": {
      "text/plain": [
       "automatic    46902\n",
       "manual        2829\n",
       "other         1794\n",
       "Name: transmission, dtype: int64"
      ]
     },
     "execution_count": 206,
     "metadata": {},
     "output_type": "execute_result"
    }
   ],
   "source": [
    "anuncios[\"transmission\"].value_counts()"
   ]
  },
  {
   "cell_type": "markdown",
   "metadata": {},
   "source": [
    "En la mayor cantidad de vehículos, el tipo de transmisión es de tipo automático, por lo cual se considera lógico que el dato ausente se presente para éstos tipos de vehículos."
   ]
  },
  {
   "cell_type": "code",
   "execution_count": 207,
   "metadata": {},
   "outputs": [
    {
     "data": {
      "text/plain": [
       "SUV            12405\n",
       "truck          12353\n",
       "sedan          12154\n",
       "pickup          6988\n",
       "coupe           2303\n",
       "wagon           1541\n",
       "mini-van        1161\n",
       "hatchback       1047\n",
       "van              633\n",
       "convertible      446\n",
       "other            256\n",
       "offroad          214\n",
       "bus               24\n",
       "Name: type, dtype: int64"
      ]
     },
     "execution_count": 207,
     "metadata": {},
     "output_type": "execute_result"
    }
   ],
   "source": [
    "anuncios[\"type\"].value_counts()"
   ]
  },
  {
   "cell_type": "markdown",
   "metadata": {},
   "source": [
    "La mayor cantidad de vehículos es de los tipos: SUV,truck y sedan."
   ]
  },
  {
   "cell_type": "code",
   "execution_count": 208,
   "metadata": {},
   "outputs": [
    {
     "data": {
      "text/plain": [
       "count    46265.000000\n",
       "mean         6.125235\n",
       "std          1.660360\n",
       "min          3.000000\n",
       "25%          4.000000\n",
       "50%          6.000000\n",
       "75%          8.000000\n",
       "max         12.000000\n",
       "Name: cylinders, dtype: float64"
      ]
     },
     "execution_count": 208,
     "metadata": {},
     "output_type": "execute_result"
    }
   ],
   "source": [
    "anuncios[\"cylinders\"].describe()"
   ]
  },
  {
   "cell_type": "markdown",
   "metadata": {},
   "source": [
    "De acuerdo a los datos estadísticos de la columna \"cylinder\", no se encuentran datos inconsistentes."
   ]
  },
  {
   "cell_type": "code",
   "execution_count": 209,
   "metadata": {
    "scrolled": true
   },
   "outputs": [
    {
     "data": {
      "text/html": [
       "<div>\n",
       "<style scoped>\n",
       "    .dataframe tbody tr th:only-of-type {\n",
       "        vertical-align: middle;\n",
       "    }\n",
       "\n",
       "    .dataframe tbody tr th {\n",
       "        vertical-align: top;\n",
       "    }\n",
       "\n",
       "    .dataframe thead th {\n",
       "        text-align: right;\n",
       "    }\n",
       "</style>\n",
       "<table border=\"1\" class=\"dataframe\">\n",
       "  <thead>\n",
       "    <tr style=\"text-align: right;\">\n",
       "      <th></th>\n",
       "      <th>price</th>\n",
       "      <th>model_year</th>\n",
       "      <th>model</th>\n",
       "      <th>condition</th>\n",
       "      <th>cylinders</th>\n",
       "      <th>fuel</th>\n",
       "      <th>odometer</th>\n",
       "      <th>transmission</th>\n",
       "      <th>type</th>\n",
       "      <th>paint_color</th>\n",
       "      <th>is_4wd</th>\n",
       "      <th>date_posted</th>\n",
       "      <th>days_listed</th>\n",
       "    </tr>\n",
       "  </thead>\n",
       "  <tbody>\n",
       "    <tr>\n",
       "      <th>9</th>\n",
       "      <td>9200</td>\n",
       "      <td>2008.0</td>\n",
       "      <td>honda pilot</td>\n",
       "      <td>excellent</td>\n",
       "      <td>NaN</td>\n",
       "      <td>gas</td>\n",
       "      <td>147191.0</td>\n",
       "      <td>automatic</td>\n",
       "      <td>SUV</td>\n",
       "      <td>blue</td>\n",
       "      <td>1.0</td>\n",
       "      <td>2019-02-15</td>\n",
       "      <td>17</td>\n",
       "    </tr>\n",
       "    <tr>\n",
       "      <th>36</th>\n",
       "      <td>10499</td>\n",
       "      <td>2013.0</td>\n",
       "      <td>chrysler 300</td>\n",
       "      <td>good</td>\n",
       "      <td>NaN</td>\n",
       "      <td>gas</td>\n",
       "      <td>88042.0</td>\n",
       "      <td>automatic</td>\n",
       "      <td>sedan</td>\n",
       "      <td>NaN</td>\n",
       "      <td>NaN</td>\n",
       "      <td>2018-05-05</td>\n",
       "      <td>22</td>\n",
       "    </tr>\n",
       "    <tr>\n",
       "      <th>37</th>\n",
       "      <td>7500</td>\n",
       "      <td>2005.0</td>\n",
       "      <td>toyota tacoma</td>\n",
       "      <td>good</td>\n",
       "      <td>NaN</td>\n",
       "      <td>gas</td>\n",
       "      <td>160000.0</td>\n",
       "      <td>automatic</td>\n",
       "      <td>pickup</td>\n",
       "      <td>NaN</td>\n",
       "      <td>NaN</td>\n",
       "      <td>2018-07-22</td>\n",
       "      <td>44</td>\n",
       "    </tr>\n",
       "    <tr>\n",
       "      <th>59</th>\n",
       "      <td>5200</td>\n",
       "      <td>2006.0</td>\n",
       "      <td>toyota highlander</td>\n",
       "      <td>good</td>\n",
       "      <td>NaN</td>\n",
       "      <td>gas</td>\n",
       "      <td>186000.0</td>\n",
       "      <td>automatic</td>\n",
       "      <td>SUV</td>\n",
       "      <td>green</td>\n",
       "      <td>NaN</td>\n",
       "      <td>2018-12-20</td>\n",
       "      <td>2</td>\n",
       "    </tr>\n",
       "    <tr>\n",
       "      <th>63</th>\n",
       "      <td>30000</td>\n",
       "      <td>1966.0</td>\n",
       "      <td>ford mustang</td>\n",
       "      <td>excellent</td>\n",
       "      <td>NaN</td>\n",
       "      <td>gas</td>\n",
       "      <td>51000.0</td>\n",
       "      <td>manual</td>\n",
       "      <td>convertible</td>\n",
       "      <td>red</td>\n",
       "      <td>NaN</td>\n",
       "      <td>2019-01-23</td>\n",
       "      <td>17</td>\n",
       "    </tr>\n",
       "    <tr>\n",
       "      <th>72</th>\n",
       "      <td>3650</td>\n",
       "      <td>NaN</td>\n",
       "      <td>subaru impreza</td>\n",
       "      <td>excellent</td>\n",
       "      <td>NaN</td>\n",
       "      <td>gas</td>\n",
       "      <td>74000.0</td>\n",
       "      <td>automatic</td>\n",
       "      <td>sedan</td>\n",
       "      <td>blue</td>\n",
       "      <td>1.0</td>\n",
       "      <td>2018-08-07</td>\n",
       "      <td>60</td>\n",
       "    </tr>\n",
       "    <tr>\n",
       "      <th>75</th>\n",
       "      <td>6950</td>\n",
       "      <td>2005.0</td>\n",
       "      <td>chevrolet tahoe</td>\n",
       "      <td>excellent</td>\n",
       "      <td>NaN</td>\n",
       "      <td>gas</td>\n",
       "      <td>186021.0</td>\n",
       "      <td>automatic</td>\n",
       "      <td>SUV</td>\n",
       "      <td>NaN</td>\n",
       "      <td>1.0</td>\n",
       "      <td>2018-10-30</td>\n",
       "      <td>3</td>\n",
       "    </tr>\n",
       "    <tr>\n",
       "      <th>87</th>\n",
       "      <td>8499</td>\n",
       "      <td>2009.0</td>\n",
       "      <td>bmw x5</td>\n",
       "      <td>good</td>\n",
       "      <td>NaN</td>\n",
       "      <td>gas</td>\n",
       "      <td>104482.0</td>\n",
       "      <td>automatic</td>\n",
       "      <td>SUV</td>\n",
       "      <td>blue</td>\n",
       "      <td>1.0</td>\n",
       "      <td>2019-03-04</td>\n",
       "      <td>52</td>\n",
       "    </tr>\n",
       "    <tr>\n",
       "      <th>119</th>\n",
       "      <td>14800</td>\n",
       "      <td>2016.0</td>\n",
       "      <td>kia sorento</td>\n",
       "      <td>like new</td>\n",
       "      <td>NaN</td>\n",
       "      <td>gas</td>\n",
       "      <td>NaN</td>\n",
       "      <td>automatic</td>\n",
       "      <td>SUV</td>\n",
       "      <td>brown</td>\n",
       "      <td>NaN</td>\n",
       "      <td>2019-02-27</td>\n",
       "      <td>93</td>\n",
       "    </tr>\n",
       "    <tr>\n",
       "      <th>126</th>\n",
       "      <td>25900</td>\n",
       "      <td>2012.0</td>\n",
       "      <td>chevrolet silverado 1500 crew</td>\n",
       "      <td>good</td>\n",
       "      <td>NaN</td>\n",
       "      <td>other</td>\n",
       "      <td>NaN</td>\n",
       "      <td>other</td>\n",
       "      <td>pickup</td>\n",
       "      <td>NaN</td>\n",
       "      <td>1.0</td>\n",
       "      <td>2018-08-31</td>\n",
       "      <td>44</td>\n",
       "    </tr>\n",
       "    <tr>\n",
       "      <th>135</th>\n",
       "      <td>28000</td>\n",
       "      <td>2016.0</td>\n",
       "      <td>ford mustang gt coupe 2d</td>\n",
       "      <td>good</td>\n",
       "      <td>NaN</td>\n",
       "      <td>gas</td>\n",
       "      <td>NaN</td>\n",
       "      <td>other</td>\n",
       "      <td>coupe</td>\n",
       "      <td>black</td>\n",
       "      <td>NaN</td>\n",
       "      <td>2018-11-20</td>\n",
       "      <td>28</td>\n",
       "    </tr>\n",
       "    <tr>\n",
       "      <th>138</th>\n",
       "      <td>4500</td>\n",
       "      <td>2013.0</td>\n",
       "      <td>nissan altima</td>\n",
       "      <td>excellent</td>\n",
       "      <td>NaN</td>\n",
       "      <td>gas</td>\n",
       "      <td>140000.0</td>\n",
       "      <td>automatic</td>\n",
       "      <td>sedan</td>\n",
       "      <td>silver</td>\n",
       "      <td>NaN</td>\n",
       "      <td>2019-03-29</td>\n",
       "      <td>108</td>\n",
       "    </tr>\n",
       "    <tr>\n",
       "      <th>159</th>\n",
       "      <td>23300</td>\n",
       "      <td>NaN</td>\n",
       "      <td>nissan frontier crew cab sv</td>\n",
       "      <td>good</td>\n",
       "      <td>NaN</td>\n",
       "      <td>gas</td>\n",
       "      <td>NaN</td>\n",
       "      <td>other</td>\n",
       "      <td>pickup</td>\n",
       "      <td>grey</td>\n",
       "      <td>1.0</td>\n",
       "      <td>2018-07-24</td>\n",
       "      <td>73</td>\n",
       "    </tr>\n",
       "    <tr>\n",
       "      <th>163</th>\n",
       "      <td>21100</td>\n",
       "      <td>2017.0</td>\n",
       "      <td>chevrolet camaro lt coupe 2d</td>\n",
       "      <td>good</td>\n",
       "      <td>NaN</td>\n",
       "      <td>gas</td>\n",
       "      <td>24510.0</td>\n",
       "      <td>other</td>\n",
       "      <td>coupe</td>\n",
       "      <td>red</td>\n",
       "      <td>NaN</td>\n",
       "      <td>2019-04-19</td>\n",
       "      <td>38</td>\n",
       "    </tr>\n",
       "    <tr>\n",
       "      <th>173</th>\n",
       "      <td>21100</td>\n",
       "      <td>2017.0</td>\n",
       "      <td>chevrolet camaro lt coupe 2d</td>\n",
       "      <td>good</td>\n",
       "      <td>NaN</td>\n",
       "      <td>gas</td>\n",
       "      <td>24510.0</td>\n",
       "      <td>other</td>\n",
       "      <td>coupe</td>\n",
       "      <td>red</td>\n",
       "      <td>NaN</td>\n",
       "      <td>2019-03-29</td>\n",
       "      <td>1</td>\n",
       "    </tr>\n",
       "    <tr>\n",
       "      <th>179</th>\n",
       "      <td>10990</td>\n",
       "      <td>2006.0</td>\n",
       "      <td>chevrolet silverado 1500</td>\n",
       "      <td>good</td>\n",
       "      <td>NaN</td>\n",
       "      <td>gas</td>\n",
       "      <td>93726.0</td>\n",
       "      <td>automatic</td>\n",
       "      <td>truck</td>\n",
       "      <td>white</td>\n",
       "      <td>1.0</td>\n",
       "      <td>2018-05-17</td>\n",
       "      <td>19</td>\n",
       "    </tr>\n",
       "    <tr>\n",
       "      <th>228</th>\n",
       "      <td>8795</td>\n",
       "      <td>2014.0</td>\n",
       "      <td>honda civic</td>\n",
       "      <td>excellent</td>\n",
       "      <td>NaN</td>\n",
       "      <td>gas</td>\n",
       "      <td>85452.0</td>\n",
       "      <td>automatic</td>\n",
       "      <td>sedan</td>\n",
       "      <td>grey</td>\n",
       "      <td>NaN</td>\n",
       "      <td>2018-09-11</td>\n",
       "      <td>164</td>\n",
       "    </tr>\n",
       "    <tr>\n",
       "      <th>236</th>\n",
       "      <td>7995</td>\n",
       "      <td>2010.0</td>\n",
       "      <td>honda accord</td>\n",
       "      <td>excellent</td>\n",
       "      <td>NaN</td>\n",
       "      <td>gas</td>\n",
       "      <td>90880.0</td>\n",
       "      <td>automatic</td>\n",
       "      <td>sedan</td>\n",
       "      <td>grey</td>\n",
       "      <td>NaN</td>\n",
       "      <td>2018-09-16</td>\n",
       "      <td>3</td>\n",
       "    </tr>\n",
       "    <tr>\n",
       "      <th>238</th>\n",
       "      <td>6995</td>\n",
       "      <td>2010.0</td>\n",
       "      <td>jeep liberty</td>\n",
       "      <td>excellent</td>\n",
       "      <td>NaN</td>\n",
       "      <td>gas</td>\n",
       "      <td>105771.0</td>\n",
       "      <td>automatic</td>\n",
       "      <td>SUV</td>\n",
       "      <td>brown</td>\n",
       "      <td>1.0</td>\n",
       "      <td>2019-02-05</td>\n",
       "      <td>19</td>\n",
       "    </tr>\n",
       "    <tr>\n",
       "      <th>248</th>\n",
       "      <td>24399</td>\n",
       "      <td>2013.0</td>\n",
       "      <td>ram 1500</td>\n",
       "      <td>excellent</td>\n",
       "      <td>NaN</td>\n",
       "      <td>gas</td>\n",
       "      <td>97321.0</td>\n",
       "      <td>automatic</td>\n",
       "      <td>pickup</td>\n",
       "      <td>red</td>\n",
       "      <td>1.0</td>\n",
       "      <td>2019-01-08</td>\n",
       "      <td>43</td>\n",
       "    </tr>\n",
       "  </tbody>\n",
       "</table>\n",
       "</div>"
      ],
      "text/plain": [
       "     price  model_year                          model  condition  cylinders  \\\n",
       "9     9200      2008.0                    honda pilot  excellent        NaN   \n",
       "36   10499      2013.0                   chrysler 300       good        NaN   \n",
       "37    7500      2005.0                  toyota tacoma       good        NaN   \n",
       "59    5200      2006.0              toyota highlander       good        NaN   \n",
       "63   30000      1966.0                   ford mustang  excellent        NaN   \n",
       "72    3650         NaN                 subaru impreza  excellent        NaN   \n",
       "75    6950      2005.0                chevrolet tahoe  excellent        NaN   \n",
       "87    8499      2009.0                         bmw x5       good        NaN   \n",
       "119  14800      2016.0                    kia sorento   like new        NaN   \n",
       "126  25900      2012.0  chevrolet silverado 1500 crew       good        NaN   \n",
       "135  28000      2016.0       ford mustang gt coupe 2d       good        NaN   \n",
       "138   4500      2013.0                  nissan altima  excellent        NaN   \n",
       "159  23300         NaN    nissan frontier crew cab sv       good        NaN   \n",
       "163  21100      2017.0   chevrolet camaro lt coupe 2d       good        NaN   \n",
       "173  21100      2017.0   chevrolet camaro lt coupe 2d       good        NaN   \n",
       "179  10990      2006.0       chevrolet silverado 1500       good        NaN   \n",
       "228   8795      2014.0                    honda civic  excellent        NaN   \n",
       "236   7995      2010.0                   honda accord  excellent        NaN   \n",
       "238   6995      2010.0                   jeep liberty  excellent        NaN   \n",
       "248  24399      2013.0                       ram 1500  excellent        NaN   \n",
       "\n",
       "      fuel  odometer transmission         type paint_color  is_4wd  \\\n",
       "9      gas  147191.0    automatic          SUV        blue     1.0   \n",
       "36     gas   88042.0    automatic        sedan         NaN     NaN   \n",
       "37     gas  160000.0    automatic       pickup         NaN     NaN   \n",
       "59     gas  186000.0    automatic          SUV       green     NaN   \n",
       "63     gas   51000.0       manual  convertible         red     NaN   \n",
       "72     gas   74000.0    automatic        sedan        blue     1.0   \n",
       "75     gas  186021.0    automatic          SUV         NaN     1.0   \n",
       "87     gas  104482.0    automatic          SUV        blue     1.0   \n",
       "119    gas       NaN    automatic          SUV       brown     NaN   \n",
       "126  other       NaN        other       pickup         NaN     1.0   \n",
       "135    gas       NaN        other        coupe       black     NaN   \n",
       "138    gas  140000.0    automatic        sedan      silver     NaN   \n",
       "159    gas       NaN        other       pickup        grey     1.0   \n",
       "163    gas   24510.0        other        coupe         red     NaN   \n",
       "173    gas   24510.0        other        coupe         red     NaN   \n",
       "179    gas   93726.0    automatic        truck       white     1.0   \n",
       "228    gas   85452.0    automatic        sedan        grey     NaN   \n",
       "236    gas   90880.0    automatic        sedan        grey     NaN   \n",
       "238    gas  105771.0    automatic          SUV       brown     1.0   \n",
       "248    gas   97321.0    automatic       pickup         red     1.0   \n",
       "\n",
       "    date_posted  days_listed  \n",
       "9    2019-02-15           17  \n",
       "36   2018-05-05           22  \n",
       "37   2018-07-22           44  \n",
       "59   2018-12-20            2  \n",
       "63   2019-01-23           17  \n",
       "72   2018-08-07           60  \n",
       "75   2018-10-30            3  \n",
       "87   2019-03-04           52  \n",
       "119  2019-02-27           93  \n",
       "126  2018-08-31           44  \n",
       "135  2018-11-20           28  \n",
       "138  2019-03-29          108  \n",
       "159  2018-07-24           73  \n",
       "163  2019-04-19           38  \n",
       "173  2019-03-29            1  \n",
       "179  2018-05-17           19  \n",
       "228  2018-09-11          164  \n",
       "236  2018-09-16            3  \n",
       "238  2019-02-05           19  \n",
       "248  2019-01-08           43  "
      ]
     },
     "execution_count": 209,
     "metadata": {},
     "output_type": "execute_result"
    }
   ],
   "source": [
    "anuncios[anuncios[\"cylinders\"].isnull()].head(20)"
   ]
  },
  {
   "cell_type": "markdown",
   "metadata": {},
   "source": [
    "No se evidencian patrones en los datos ausentes en la columna \"cylinders\", sin embargo, se considera que el número de cilindros puede tener gran relación con el precio y el tipo de vehículo. Por lo cual éstas variables pueden ser utilizadas como base para rellenar los datos ausentes en la columna \"cylinders\"."
   ]
  },
  {
   "cell_type": "code",
   "execution_count": 210,
   "metadata": {},
   "outputs": [
    {
     "data": {
      "text/plain": [
       "count     43633.000000\n",
       "mean     115553.461738\n",
       "std       65094.611341\n",
       "min           0.000000\n",
       "25%       70000.000000\n",
       "50%      113000.000000\n",
       "75%      155000.000000\n",
       "max      990000.000000\n",
       "Name: odometer, dtype: float64"
      ]
     },
     "execution_count": 210,
     "metadata": {},
     "output_type": "execute_result"
    }
   ],
   "source": [
    "anuncios[\"odometer\"].describe()"
   ]
  },
  {
   "cell_type": "markdown",
   "metadata": {},
   "source": [
    "De acuerdo a la información estadística de la columna \"odometer\", se encuentran datos de cero.\n",
    "\n",
    "Revisamos si existe algún patrón para éstos datos de cero, por ejemplo si éste valor se reporta para los vehículos con modelos mas nuevos."
   ]
  },
  {
   "cell_type": "code",
   "execution_count": 211,
   "metadata": {
    "scrolled": true
   },
   "outputs": [
    {
     "data": {
      "text/html": [
       "<div>\n",
       "<style scoped>\n",
       "    .dataframe tbody tr th:only-of-type {\n",
       "        vertical-align: middle;\n",
       "    }\n",
       "\n",
       "    .dataframe tbody tr th {\n",
       "        vertical-align: top;\n",
       "    }\n",
       "\n",
       "    .dataframe thead th {\n",
       "        text-align: right;\n",
       "    }\n",
       "</style>\n",
       "<table border=\"1\" class=\"dataframe\">\n",
       "  <thead>\n",
       "    <tr style=\"text-align: right;\">\n",
       "      <th></th>\n",
       "      <th>price</th>\n",
       "      <th>model_year</th>\n",
       "      <th>model</th>\n",
       "      <th>condition</th>\n",
       "      <th>cylinders</th>\n",
       "      <th>fuel</th>\n",
       "      <th>odometer</th>\n",
       "      <th>transmission</th>\n",
       "      <th>type</th>\n",
       "      <th>paint_color</th>\n",
       "      <th>is_4wd</th>\n",
       "      <th>date_posted</th>\n",
       "      <th>days_listed</th>\n",
       "    </tr>\n",
       "  </thead>\n",
       "  <tbody>\n",
       "    <tr>\n",
       "      <th>352</th>\n",
       "      <td>7997</td>\n",
       "      <td>2009.0</td>\n",
       "      <td>gmc yukon</td>\n",
       "      <td>excellent</td>\n",
       "      <td>8.0</td>\n",
       "      <td>gas</td>\n",
       "      <td>0.0</td>\n",
       "      <td>automatic</td>\n",
       "      <td>SUV</td>\n",
       "      <td>white</td>\n",
       "      <td>1.0</td>\n",
       "      <td>2019-03-16</td>\n",
       "      <td>88</td>\n",
       "    </tr>\n",
       "    <tr>\n",
       "      <th>814</th>\n",
       "      <td>2995</td>\n",
       "      <td>1999.0</td>\n",
       "      <td>ford f-150</td>\n",
       "      <td>good</td>\n",
       "      <td>6.0</td>\n",
       "      <td>gas</td>\n",
       "      <td>0.0</td>\n",
       "      <td>manual</td>\n",
       "      <td>truck</td>\n",
       "      <td>NaN</td>\n",
       "      <td>NaN</td>\n",
       "      <td>2019-03-14</td>\n",
       "      <td>16</td>\n",
       "    </tr>\n",
       "    <tr>\n",
       "      <th>1375</th>\n",
       "      <td>5888</td>\n",
       "      <td>NaN</td>\n",
       "      <td>toyota 4runner</td>\n",
       "      <td>good</td>\n",
       "      <td>6.0</td>\n",
       "      <td>gas</td>\n",
       "      <td>0.0</td>\n",
       "      <td>automatic</td>\n",
       "      <td>SUV</td>\n",
       "      <td>black</td>\n",
       "      <td>NaN</td>\n",
       "      <td>2019-02-22</td>\n",
       "      <td>36</td>\n",
       "    </tr>\n",
       "    <tr>\n",
       "      <th>1461</th>\n",
       "      <td>1000</td>\n",
       "      <td>1992.0</td>\n",
       "      <td>gmc sierra 1500</td>\n",
       "      <td>good</td>\n",
       "      <td>8.0</td>\n",
       "      <td>gas</td>\n",
       "      <td>0.0</td>\n",
       "      <td>automatic</td>\n",
       "      <td>truck</td>\n",
       "      <td>NaN</td>\n",
       "      <td>NaN</td>\n",
       "      <td>2018-09-28</td>\n",
       "      <td>47</td>\n",
       "    </tr>\n",
       "    <tr>\n",
       "      <th>1970</th>\n",
       "      <td>10988</td>\n",
       "      <td>2000.0</td>\n",
       "      <td>ford f-250 sd</td>\n",
       "      <td>good</td>\n",
       "      <td>8.0</td>\n",
       "      <td>diesel</td>\n",
       "      <td>0.0</td>\n",
       "      <td>automatic</td>\n",
       "      <td>truck</td>\n",
       "      <td>white</td>\n",
       "      <td>1.0</td>\n",
       "      <td>2018-11-21</td>\n",
       "      <td>39</td>\n",
       "    </tr>\n",
       "    <tr>\n",
       "      <th>...</th>\n",
       "      <td>...</td>\n",
       "      <td>...</td>\n",
       "      <td>...</td>\n",
       "      <td>...</td>\n",
       "      <td>...</td>\n",
       "      <td>...</td>\n",
       "      <td>...</td>\n",
       "      <td>...</td>\n",
       "      <td>...</td>\n",
       "      <td>...</td>\n",
       "      <td>...</td>\n",
       "      <td>...</td>\n",
       "      <td>...</td>\n",
       "    </tr>\n",
       "    <tr>\n",
       "      <th>49170</th>\n",
       "      <td>3300</td>\n",
       "      <td>2002.0</td>\n",
       "      <td>hyundai santa fe</td>\n",
       "      <td>good</td>\n",
       "      <td>6.0</td>\n",
       "      <td>gas</td>\n",
       "      <td>0.0</td>\n",
       "      <td>automatic</td>\n",
       "      <td>wagon</td>\n",
       "      <td>white</td>\n",
       "      <td>1.0</td>\n",
       "      <td>2019-04-14</td>\n",
       "      <td>31</td>\n",
       "    </tr>\n",
       "    <tr>\n",
       "      <th>49284</th>\n",
       "      <td>3300</td>\n",
       "      <td>2002.0</td>\n",
       "      <td>hyundai santa fe</td>\n",
       "      <td>good</td>\n",
       "      <td>6.0</td>\n",
       "      <td>gas</td>\n",
       "      <td>0.0</td>\n",
       "      <td>automatic</td>\n",
       "      <td>wagon</td>\n",
       "      <td>white</td>\n",
       "      <td>1.0</td>\n",
       "      <td>2019-02-15</td>\n",
       "      <td>7</td>\n",
       "    </tr>\n",
       "    <tr>\n",
       "      <th>50412</th>\n",
       "      <td>25500</td>\n",
       "      <td>NaN</td>\n",
       "      <td>jeep wrangler</td>\n",
       "      <td>good</td>\n",
       "      <td>6.0</td>\n",
       "      <td>gas</td>\n",
       "      <td>0.0</td>\n",
       "      <td>automatic</td>\n",
       "      <td>SUV</td>\n",
       "      <td>yellow</td>\n",
       "      <td>1.0</td>\n",
       "      <td>2018-06-12</td>\n",
       "      <td>48</td>\n",
       "    </tr>\n",
       "    <tr>\n",
       "      <th>50631</th>\n",
       "      <td>3600</td>\n",
       "      <td>2012.0</td>\n",
       "      <td>chrysler 200</td>\n",
       "      <td>good</td>\n",
       "      <td>4.0</td>\n",
       "      <td>gas</td>\n",
       "      <td>0.0</td>\n",
       "      <td>automatic</td>\n",
       "      <td>sedan</td>\n",
       "      <td>red</td>\n",
       "      <td>NaN</td>\n",
       "      <td>2018-07-24</td>\n",
       "      <td>90</td>\n",
       "    </tr>\n",
       "    <tr>\n",
       "      <th>51189</th>\n",
       "      <td>5000</td>\n",
       "      <td>2001.0</td>\n",
       "      <td>ford mustang</td>\n",
       "      <td>excellent</td>\n",
       "      <td>8.0</td>\n",
       "      <td>gas</td>\n",
       "      <td>0.0</td>\n",
       "      <td>manual</td>\n",
       "      <td>coupe</td>\n",
       "      <td>silver</td>\n",
       "      <td>NaN</td>\n",
       "      <td>2019-01-20</td>\n",
       "      <td>67</td>\n",
       "    </tr>\n",
       "  </tbody>\n",
       "</table>\n",
       "<p>185 rows × 13 columns</p>\n",
       "</div>"
      ],
      "text/plain": [
       "       price  model_year             model  condition  cylinders    fuel  \\\n",
       "352     7997      2009.0         gmc yukon  excellent        8.0     gas   \n",
       "814     2995      1999.0        ford f-150       good        6.0     gas   \n",
       "1375    5888         NaN    toyota 4runner       good        6.0     gas   \n",
       "1461    1000      1992.0   gmc sierra 1500       good        8.0     gas   \n",
       "1970   10988      2000.0     ford f-250 sd       good        8.0  diesel   \n",
       "...      ...         ...               ...        ...        ...     ...   \n",
       "49170   3300      2002.0  hyundai santa fe       good        6.0     gas   \n",
       "49284   3300      2002.0  hyundai santa fe       good        6.0     gas   \n",
       "50412  25500         NaN     jeep wrangler       good        6.0     gas   \n",
       "50631   3600      2012.0      chrysler 200       good        4.0     gas   \n",
       "51189   5000      2001.0      ford mustang  excellent        8.0     gas   \n",
       "\n",
       "       odometer transmission   type paint_color  is_4wd date_posted  \\\n",
       "352         0.0    automatic    SUV       white     1.0  2019-03-16   \n",
       "814         0.0       manual  truck         NaN     NaN  2019-03-14   \n",
       "1375        0.0    automatic    SUV       black     NaN  2019-02-22   \n",
       "1461        0.0    automatic  truck         NaN     NaN  2018-09-28   \n",
       "1970        0.0    automatic  truck       white     1.0  2018-11-21   \n",
       "...         ...          ...    ...         ...     ...         ...   \n",
       "49170       0.0    automatic  wagon       white     1.0  2019-04-14   \n",
       "49284       0.0    automatic  wagon       white     1.0  2019-02-15   \n",
       "50412       0.0    automatic    SUV      yellow     1.0  2018-06-12   \n",
       "50631       0.0    automatic  sedan         red     NaN  2018-07-24   \n",
       "51189       0.0       manual  coupe      silver     NaN  2019-01-20   \n",
       "\n",
       "       days_listed  \n",
       "352             88  \n",
       "814             16  \n",
       "1375            36  \n",
       "1461            47  \n",
       "1970            39  \n",
       "...            ...  \n",
       "49170           31  \n",
       "49284            7  \n",
       "50412           48  \n",
       "50631           90  \n",
       "51189           67  \n",
       "\n",
       "[185 rows x 13 columns]"
      ]
     },
     "execution_count": 211,
     "metadata": {},
     "output_type": "execute_result"
    }
   ],
   "source": [
    "anuncios[anuncios[\"odometer\"]==0]"
   ]
  },
  {
   "cell_type": "markdown",
   "metadata": {},
   "source": [
    "El valor de cero en la columna \"odometer\", se encuentra incluso en los vehículos con años de modelo mas antiguos.\n",
    "\n",
    "Se considera que éstos datos deben abordarse para prevenir errores en el análisis, ya que el valor se considera atípico."
   ]
  },
  {
   "cell_type": "code",
   "execution_count": 212,
   "metadata": {
    "scrolled": true
   },
   "outputs": [
    {
     "data": {
      "text/html": [
       "<div>\n",
       "<style scoped>\n",
       "    .dataframe tbody tr th:only-of-type {\n",
       "        vertical-align: middle;\n",
       "    }\n",
       "\n",
       "    .dataframe tbody tr th {\n",
       "        vertical-align: top;\n",
       "    }\n",
       "\n",
       "    .dataframe thead th {\n",
       "        text-align: right;\n",
       "    }\n",
       "</style>\n",
       "<table border=\"1\" class=\"dataframe\">\n",
       "  <thead>\n",
       "    <tr style=\"text-align: right;\">\n",
       "      <th></th>\n",
       "      <th>price</th>\n",
       "      <th>model_year</th>\n",
       "      <th>model</th>\n",
       "      <th>condition</th>\n",
       "      <th>cylinders</th>\n",
       "      <th>fuel</th>\n",
       "      <th>odometer</th>\n",
       "      <th>transmission</th>\n",
       "      <th>type</th>\n",
       "      <th>paint_color</th>\n",
       "      <th>is_4wd</th>\n",
       "      <th>date_posted</th>\n",
       "      <th>days_listed</th>\n",
       "    </tr>\n",
       "  </thead>\n",
       "  <tbody>\n",
       "    <tr>\n",
       "      <th>3</th>\n",
       "      <td>1500</td>\n",
       "      <td>2003.0</td>\n",
       "      <td>ford f-150</td>\n",
       "      <td>fair</td>\n",
       "      <td>8.0</td>\n",
       "      <td>gas</td>\n",
       "      <td>NaN</td>\n",
       "      <td>automatic</td>\n",
       "      <td>pickup</td>\n",
       "      <td>NaN</td>\n",
       "      <td>NaN</td>\n",
       "      <td>2019-03-22</td>\n",
       "      <td>9</td>\n",
       "    </tr>\n",
       "    <tr>\n",
       "      <th>15</th>\n",
       "      <td>17990</td>\n",
       "      <td>2013.0</td>\n",
       "      <td>ram 1500</td>\n",
       "      <td>excellent</td>\n",
       "      <td>8.0</td>\n",
       "      <td>gas</td>\n",
       "      <td>NaN</td>\n",
       "      <td>automatic</td>\n",
       "      <td>pickup</td>\n",
       "      <td>red</td>\n",
       "      <td>1.0</td>\n",
       "      <td>2018-05-15</td>\n",
       "      <td>111</td>\n",
       "    </tr>\n",
       "    <tr>\n",
       "      <th>23</th>\n",
       "      <td>7500</td>\n",
       "      <td>2004.0</td>\n",
       "      <td>jeep wrangler</td>\n",
       "      <td>good</td>\n",
       "      <td>6.0</td>\n",
       "      <td>gas</td>\n",
       "      <td>NaN</td>\n",
       "      <td>automatic</td>\n",
       "      <td>SUV</td>\n",
       "      <td>red</td>\n",
       "      <td>1.0</td>\n",
       "      <td>2018-05-17</td>\n",
       "      <td>39</td>\n",
       "    </tr>\n",
       "    <tr>\n",
       "      <th>24</th>\n",
       "      <td>3950</td>\n",
       "      <td>2009.0</td>\n",
       "      <td>chrysler 200</td>\n",
       "      <td>excellent</td>\n",
       "      <td>4.0</td>\n",
       "      <td>gas</td>\n",
       "      <td>NaN</td>\n",
       "      <td>automatic</td>\n",
       "      <td>sedan</td>\n",
       "      <td>red</td>\n",
       "      <td>NaN</td>\n",
       "      <td>2018-06-11</td>\n",
       "      <td>40</td>\n",
       "    </tr>\n",
       "    <tr>\n",
       "      <th>25</th>\n",
       "      <td>11499</td>\n",
       "      <td>2017.0</td>\n",
       "      <td>chevrolet malibu</td>\n",
       "      <td>like new</td>\n",
       "      <td>4.0</td>\n",
       "      <td>gas</td>\n",
       "      <td>NaN</td>\n",
       "      <td>automatic</td>\n",
       "      <td>sedan</td>\n",
       "      <td>NaN</td>\n",
       "      <td>NaN</td>\n",
       "      <td>2018-07-26</td>\n",
       "      <td>43</td>\n",
       "    </tr>\n",
       "    <tr>\n",
       "      <th>29</th>\n",
       "      <td>5495</td>\n",
       "      <td>2010.0</td>\n",
       "      <td>chevrolet impala</td>\n",
       "      <td>excellent</td>\n",
       "      <td>6.0</td>\n",
       "      <td>gas</td>\n",
       "      <td>NaN</td>\n",
       "      <td>automatic</td>\n",
       "      <td>sedan</td>\n",
       "      <td>white</td>\n",
       "      <td>NaN</td>\n",
       "      <td>2019-02-18</td>\n",
       "      <td>20</td>\n",
       "    </tr>\n",
       "    <tr>\n",
       "      <th>38</th>\n",
       "      <td>7999</td>\n",
       "      <td>2015.0</td>\n",
       "      <td>chrysler 200</td>\n",
       "      <td>good</td>\n",
       "      <td>4.0</td>\n",
       "      <td>gas</td>\n",
       "      <td>NaN</td>\n",
       "      <td>automatic</td>\n",
       "      <td>sedan</td>\n",
       "      <td>NaN</td>\n",
       "      <td>NaN</td>\n",
       "      <td>2019-03-08</td>\n",
       "      <td>29</td>\n",
       "    </tr>\n",
       "    <tr>\n",
       "      <th>41</th>\n",
       "      <td>11995</td>\n",
       "      <td>2017.0</td>\n",
       "      <td>nissan rogue</td>\n",
       "      <td>like new</td>\n",
       "      <td>4.0</td>\n",
       "      <td>gas</td>\n",
       "      <td>NaN</td>\n",
       "      <td>automatic</td>\n",
       "      <td>SUV</td>\n",
       "      <td>silver</td>\n",
       "      <td>1.0</td>\n",
       "      <td>2018-09-20</td>\n",
       "      <td>21</td>\n",
       "    </tr>\n",
       "    <tr>\n",
       "      <th>42</th>\n",
       "      <td>34900</td>\n",
       "      <td>2013.0</td>\n",
       "      <td>mercedes-benz benze sprinter 2500</td>\n",
       "      <td>excellent</td>\n",
       "      <td>6.0</td>\n",
       "      <td>diesel</td>\n",
       "      <td>NaN</td>\n",
       "      <td>automatic</td>\n",
       "      <td>van</td>\n",
       "      <td>black</td>\n",
       "      <td>NaN</td>\n",
       "      <td>2019-01-15</td>\n",
       "      <td>16</td>\n",
       "    </tr>\n",
       "    <tr>\n",
       "      <th>56</th>\n",
       "      <td>4200</td>\n",
       "      <td>2006.0</td>\n",
       "      <td>jeep grand cherokee</td>\n",
       "      <td>excellent</td>\n",
       "      <td>6.0</td>\n",
       "      <td>gas</td>\n",
       "      <td>NaN</td>\n",
       "      <td>automatic</td>\n",
       "      <td>SUV</td>\n",
       "      <td>white</td>\n",
       "      <td>1.0</td>\n",
       "      <td>2018-07-01</td>\n",
       "      <td>79</td>\n",
       "    </tr>\n",
       "    <tr>\n",
       "      <th>58</th>\n",
       "      <td>3200</td>\n",
       "      <td>2004.0</td>\n",
       "      <td>bmw x5</td>\n",
       "      <td>excellent</td>\n",
       "      <td>6.0</td>\n",
       "      <td>gas</td>\n",
       "      <td>NaN</td>\n",
       "      <td>automatic</td>\n",
       "      <td>SUV</td>\n",
       "      <td>black</td>\n",
       "      <td>1.0</td>\n",
       "      <td>2019-04-09</td>\n",
       "      <td>10</td>\n",
       "    </tr>\n",
       "    <tr>\n",
       "      <th>66</th>\n",
       "      <td>14999</td>\n",
       "      <td>2013.0</td>\n",
       "      <td>chevrolet silverado 3500hd</td>\n",
       "      <td>good</td>\n",
       "      <td>8.0</td>\n",
       "      <td>gas</td>\n",
       "      <td>NaN</td>\n",
       "      <td>automatic</td>\n",
       "      <td>truck</td>\n",
       "      <td>white</td>\n",
       "      <td>1.0</td>\n",
       "      <td>2018-05-09</td>\n",
       "      <td>22</td>\n",
       "    </tr>\n",
       "    <tr>\n",
       "      <th>70</th>\n",
       "      <td>5500</td>\n",
       "      <td>2006.0</td>\n",
       "      <td>honda accord</td>\n",
       "      <td>good</td>\n",
       "      <td>4.0</td>\n",
       "      <td>gas</td>\n",
       "      <td>NaN</td>\n",
       "      <td>automatic</td>\n",
       "      <td>sedan</td>\n",
       "      <td>silver</td>\n",
       "      <td>NaN</td>\n",
       "      <td>2018-11-27</td>\n",
       "      <td>15</td>\n",
       "    </tr>\n",
       "    <tr>\n",
       "      <th>74</th>\n",
       "      <td>9950</td>\n",
       "      <td>2008.0</td>\n",
       "      <td>toyota 4runner</td>\n",
       "      <td>excellent</td>\n",
       "      <td>6.0</td>\n",
       "      <td>gas</td>\n",
       "      <td>NaN</td>\n",
       "      <td>automatic</td>\n",
       "      <td>SUV</td>\n",
       "      <td>silver</td>\n",
       "      <td>1.0</td>\n",
       "      <td>2018-06-08</td>\n",
       "      <td>53</td>\n",
       "    </tr>\n",
       "    <tr>\n",
       "      <th>88</th>\n",
       "      <td>26000</td>\n",
       "      <td>2017.0</td>\n",
       "      <td>ford mustang gt coupe 2d</td>\n",
       "      <td>good</td>\n",
       "      <td>8.0</td>\n",
       "      <td>gas</td>\n",
       "      <td>NaN</td>\n",
       "      <td>other</td>\n",
       "      <td>coupe</td>\n",
       "      <td>yellow</td>\n",
       "      <td>NaN</td>\n",
       "      <td>2018-11-26</td>\n",
       "      <td>31</td>\n",
       "    </tr>\n",
       "    <tr>\n",
       "      <th>108</th>\n",
       "      <td>24200</td>\n",
       "      <td>2018.0</td>\n",
       "      <td>chevrolet camaro lt coupe 2d</td>\n",
       "      <td>good</td>\n",
       "      <td>6.0</td>\n",
       "      <td>gas</td>\n",
       "      <td>NaN</td>\n",
       "      <td>other</td>\n",
       "      <td>coupe</td>\n",
       "      <td>grey</td>\n",
       "      <td>NaN</td>\n",
       "      <td>2018-07-20</td>\n",
       "      <td>57</td>\n",
       "    </tr>\n",
       "    <tr>\n",
       "      <th>118</th>\n",
       "      <td>28900</td>\n",
       "      <td>2017.0</td>\n",
       "      <td>ford f150 supercrew cab xlt</td>\n",
       "      <td>good</td>\n",
       "      <td>6.0</td>\n",
       "      <td>gas</td>\n",
       "      <td>NaN</td>\n",
       "      <td>automatic</td>\n",
       "      <td>pickup</td>\n",
       "      <td>white</td>\n",
       "      <td>1.0</td>\n",
       "      <td>2018-09-18</td>\n",
       "      <td>58</td>\n",
       "    </tr>\n",
       "    <tr>\n",
       "      <th>119</th>\n",
       "      <td>14800</td>\n",
       "      <td>2016.0</td>\n",
       "      <td>kia sorento</td>\n",
       "      <td>like new</td>\n",
       "      <td>NaN</td>\n",
       "      <td>gas</td>\n",
       "      <td>NaN</td>\n",
       "      <td>automatic</td>\n",
       "      <td>SUV</td>\n",
       "      <td>brown</td>\n",
       "      <td>NaN</td>\n",
       "      <td>2019-02-27</td>\n",
       "      <td>93</td>\n",
       "    </tr>\n",
       "    <tr>\n",
       "      <th>125</th>\n",
       "      <td>22900</td>\n",
       "      <td>2019.0</td>\n",
       "      <td>nissan frontier crew cab sv</td>\n",
       "      <td>good</td>\n",
       "      <td>6.0</td>\n",
       "      <td>gas</td>\n",
       "      <td>NaN</td>\n",
       "      <td>other</td>\n",
       "      <td>pickup</td>\n",
       "      <td>blue</td>\n",
       "      <td>1.0</td>\n",
       "      <td>2019-04-15</td>\n",
       "      <td>67</td>\n",
       "    </tr>\n",
       "    <tr>\n",
       "      <th>126</th>\n",
       "      <td>25900</td>\n",
       "      <td>2012.0</td>\n",
       "      <td>chevrolet silverado 1500 crew</td>\n",
       "      <td>good</td>\n",
       "      <td>NaN</td>\n",
       "      <td>other</td>\n",
       "      <td>NaN</td>\n",
       "      <td>other</td>\n",
       "      <td>pickup</td>\n",
       "      <td>NaN</td>\n",
       "      <td>1.0</td>\n",
       "      <td>2018-08-31</td>\n",
       "      <td>44</td>\n",
       "    </tr>\n",
       "  </tbody>\n",
       "</table>\n",
       "</div>"
      ],
      "text/plain": [
       "     price  model_year                              model  condition  \\\n",
       "3     1500      2003.0                         ford f-150       fair   \n",
       "15   17990      2013.0                           ram 1500  excellent   \n",
       "23    7500      2004.0                      jeep wrangler       good   \n",
       "24    3950      2009.0                       chrysler 200  excellent   \n",
       "25   11499      2017.0                   chevrolet malibu   like new   \n",
       "29    5495      2010.0                   chevrolet impala  excellent   \n",
       "38    7999      2015.0                       chrysler 200       good   \n",
       "41   11995      2017.0                       nissan rogue   like new   \n",
       "42   34900      2013.0  mercedes-benz benze sprinter 2500  excellent   \n",
       "56    4200      2006.0                jeep grand cherokee  excellent   \n",
       "58    3200      2004.0                             bmw x5  excellent   \n",
       "66   14999      2013.0         chevrolet silverado 3500hd       good   \n",
       "70    5500      2006.0                       honda accord       good   \n",
       "74    9950      2008.0                     toyota 4runner  excellent   \n",
       "88   26000      2017.0           ford mustang gt coupe 2d       good   \n",
       "108  24200      2018.0       chevrolet camaro lt coupe 2d       good   \n",
       "118  28900      2017.0        ford f150 supercrew cab xlt       good   \n",
       "119  14800      2016.0                        kia sorento   like new   \n",
       "125  22900      2019.0        nissan frontier crew cab sv       good   \n",
       "126  25900      2012.0      chevrolet silverado 1500 crew       good   \n",
       "\n",
       "     cylinders    fuel  odometer transmission    type paint_color  is_4wd  \\\n",
       "3          8.0     gas       NaN    automatic  pickup         NaN     NaN   \n",
       "15         8.0     gas       NaN    automatic  pickup         red     1.0   \n",
       "23         6.0     gas       NaN    automatic     SUV         red     1.0   \n",
       "24         4.0     gas       NaN    automatic   sedan         red     NaN   \n",
       "25         4.0     gas       NaN    automatic   sedan         NaN     NaN   \n",
       "29         6.0     gas       NaN    automatic   sedan       white     NaN   \n",
       "38         4.0     gas       NaN    automatic   sedan         NaN     NaN   \n",
       "41         4.0     gas       NaN    automatic     SUV      silver     1.0   \n",
       "42         6.0  diesel       NaN    automatic     van       black     NaN   \n",
       "56         6.0     gas       NaN    automatic     SUV       white     1.0   \n",
       "58         6.0     gas       NaN    automatic     SUV       black     1.0   \n",
       "66         8.0     gas       NaN    automatic   truck       white     1.0   \n",
       "70         4.0     gas       NaN    automatic   sedan      silver     NaN   \n",
       "74         6.0     gas       NaN    automatic     SUV      silver     1.0   \n",
       "88         8.0     gas       NaN        other   coupe      yellow     NaN   \n",
       "108        6.0     gas       NaN        other   coupe        grey     NaN   \n",
       "118        6.0     gas       NaN    automatic  pickup       white     1.0   \n",
       "119        NaN     gas       NaN    automatic     SUV       brown     NaN   \n",
       "125        6.0     gas       NaN        other  pickup        blue     1.0   \n",
       "126        NaN   other       NaN        other  pickup         NaN     1.0   \n",
       "\n",
       "    date_posted  days_listed  \n",
       "3    2019-03-22            9  \n",
       "15   2018-05-15          111  \n",
       "23   2018-05-17           39  \n",
       "24   2018-06-11           40  \n",
       "25   2018-07-26           43  \n",
       "29   2019-02-18           20  \n",
       "38   2019-03-08           29  \n",
       "41   2018-09-20           21  \n",
       "42   2019-01-15           16  \n",
       "56   2018-07-01           79  \n",
       "58   2019-04-09           10  \n",
       "66   2018-05-09           22  \n",
       "70   2018-11-27           15  \n",
       "74   2018-06-08           53  \n",
       "88   2018-11-26           31  \n",
       "108  2018-07-20           57  \n",
       "118  2018-09-18           58  \n",
       "119  2019-02-27           93  \n",
       "125  2019-04-15           67  \n",
       "126  2018-08-31           44  "
      ]
     },
     "execution_count": 212,
     "metadata": {},
     "output_type": "execute_result"
    }
   ],
   "source": [
    "anuncios[anuncios[\"odometer\"].isnull()].head(20)"
   ]
  },
  {
   "cell_type": "markdown",
   "metadata": {},
   "source": [
    "Se considera que la columna \"odometer\" puede tener relación con las columnas \"price\" o con la columna \"contidion\", pues a menor kilometraje generalmente el precio aumenta, y posiblemente a mejores condiciones menor kilometraje."
   ]
  },
  {
   "cell_type": "code",
   "execution_count": 213,
   "metadata": {
    "scrolled": true
   },
   "outputs": [
    {
     "data": {
      "text/html": [
       "<div>\n",
       "<style scoped>\n",
       "    .dataframe tbody tr th:only-of-type {\n",
       "        vertical-align: middle;\n",
       "    }\n",
       "\n",
       "    .dataframe tbody tr th {\n",
       "        vertical-align: top;\n",
       "    }\n",
       "\n",
       "    .dataframe thead th {\n",
       "        text-align: right;\n",
       "    }\n",
       "</style>\n",
       "<table border=\"1\" class=\"dataframe\">\n",
       "  <thead>\n",
       "    <tr style=\"text-align: right;\">\n",
       "      <th></th>\n",
       "      <th>price</th>\n",
       "      <th>model_year</th>\n",
       "      <th>model</th>\n",
       "      <th>condition</th>\n",
       "      <th>cylinders</th>\n",
       "      <th>fuel</th>\n",
       "      <th>odometer</th>\n",
       "      <th>transmission</th>\n",
       "      <th>type</th>\n",
       "      <th>paint_color</th>\n",
       "      <th>is_4wd</th>\n",
       "      <th>date_posted</th>\n",
       "      <th>days_listed</th>\n",
       "    </tr>\n",
       "  </thead>\n",
       "  <tbody>\n",
       "    <tr>\n",
       "      <th>1</th>\n",
       "      <td>25500</td>\n",
       "      <td>NaN</td>\n",
       "      <td>ford f-150</td>\n",
       "      <td>good</td>\n",
       "      <td>6.0</td>\n",
       "      <td>gas</td>\n",
       "      <td>88705.0</td>\n",
       "      <td>automatic</td>\n",
       "      <td>pickup</td>\n",
       "      <td>white</td>\n",
       "      <td>1.0</td>\n",
       "      <td>2018-10-19</td>\n",
       "      <td>50</td>\n",
       "    </tr>\n",
       "    <tr>\n",
       "      <th>20</th>\n",
       "      <td>6990</td>\n",
       "      <td>NaN</td>\n",
       "      <td>chevrolet tahoe</td>\n",
       "      <td>excellent</td>\n",
       "      <td>8.0</td>\n",
       "      <td>gas</td>\n",
       "      <td>147485.0</td>\n",
       "      <td>automatic</td>\n",
       "      <td>SUV</td>\n",
       "      <td>silver</td>\n",
       "      <td>1.0</td>\n",
       "      <td>2018-08-05</td>\n",
       "      <td>28</td>\n",
       "    </tr>\n",
       "    <tr>\n",
       "      <th>65</th>\n",
       "      <td>12800</td>\n",
       "      <td>NaN</td>\n",
       "      <td>ford f-150</td>\n",
       "      <td>excellent</td>\n",
       "      <td>6.0</td>\n",
       "      <td>gas</td>\n",
       "      <td>108500.0</td>\n",
       "      <td>automatic</td>\n",
       "      <td>pickup</td>\n",
       "      <td>white</td>\n",
       "      <td>NaN</td>\n",
       "      <td>2018-09-23</td>\n",
       "      <td>15</td>\n",
       "    </tr>\n",
       "    <tr>\n",
       "      <th>69</th>\n",
       "      <td>7800</td>\n",
       "      <td>NaN</td>\n",
       "      <td>ford f-150</td>\n",
       "      <td>like new</td>\n",
       "      <td>8.0</td>\n",
       "      <td>gas</td>\n",
       "      <td>97510.0</td>\n",
       "      <td>automatic</td>\n",
       "      <td>truck</td>\n",
       "      <td>white</td>\n",
       "      <td>1.0</td>\n",
       "      <td>2019-02-20</td>\n",
       "      <td>39</td>\n",
       "    </tr>\n",
       "    <tr>\n",
       "      <th>72</th>\n",
       "      <td>3650</td>\n",
       "      <td>NaN</td>\n",
       "      <td>subaru impreza</td>\n",
       "      <td>excellent</td>\n",
       "      <td>NaN</td>\n",
       "      <td>gas</td>\n",
       "      <td>74000.0</td>\n",
       "      <td>automatic</td>\n",
       "      <td>sedan</td>\n",
       "      <td>blue</td>\n",
       "      <td>1.0</td>\n",
       "      <td>2018-08-07</td>\n",
       "      <td>60</td>\n",
       "    </tr>\n",
       "    <tr>\n",
       "      <th>84</th>\n",
       "      <td>4995</td>\n",
       "      <td>NaN</td>\n",
       "      <td>hyundai elantra</td>\n",
       "      <td>like new</td>\n",
       "      <td>4.0</td>\n",
       "      <td>gas</td>\n",
       "      <td>151223.0</td>\n",
       "      <td>automatic</td>\n",
       "      <td>sedan</td>\n",
       "      <td>custom</td>\n",
       "      <td>NaN</td>\n",
       "      <td>2018-09-15</td>\n",
       "      <td>1</td>\n",
       "    </tr>\n",
       "    <tr>\n",
       "      <th>102</th>\n",
       "      <td>10800</td>\n",
       "      <td>NaN</td>\n",
       "      <td>chevrolet colorado</td>\n",
       "      <td>excellent</td>\n",
       "      <td>5.0</td>\n",
       "      <td>gas</td>\n",
       "      <td>114922.0</td>\n",
       "      <td>automatic</td>\n",
       "      <td>truck</td>\n",
       "      <td>red</td>\n",
       "      <td>1.0</td>\n",
       "      <td>2018-06-23</td>\n",
       "      <td>35</td>\n",
       "    </tr>\n",
       "    <tr>\n",
       "      <th>114</th>\n",
       "      <td>23700</td>\n",
       "      <td>NaN</td>\n",
       "      <td>nissan frontier crew cab sv</td>\n",
       "      <td>good</td>\n",
       "      <td>6.0</td>\n",
       "      <td>gas</td>\n",
       "      <td>12901.0</td>\n",
       "      <td>other</td>\n",
       "      <td>pickup</td>\n",
       "      <td>black</td>\n",
       "      <td>1.0</td>\n",
       "      <td>2018-09-21</td>\n",
       "      <td>8</td>\n",
       "    </tr>\n",
       "    <tr>\n",
       "      <th>116</th>\n",
       "      <td>25300</td>\n",
       "      <td>NaN</td>\n",
       "      <td>chevrolet camaro lt coupe 2d</td>\n",
       "      <td>good</td>\n",
       "      <td>6.0</td>\n",
       "      <td>gas</td>\n",
       "      <td>3568.0</td>\n",
       "      <td>other</td>\n",
       "      <td>coupe</td>\n",
       "      <td>NaN</td>\n",
       "      <td>NaN</td>\n",
       "      <td>2018-06-16</td>\n",
       "      <td>34</td>\n",
       "    </tr>\n",
       "    <tr>\n",
       "      <th>144</th>\n",
       "      <td>8995</td>\n",
       "      <td>NaN</td>\n",
       "      <td>chevrolet silverado 1500</td>\n",
       "      <td>excellent</td>\n",
       "      <td>8.0</td>\n",
       "      <td>gas</td>\n",
       "      <td>119726.0</td>\n",
       "      <td>automatic</td>\n",
       "      <td>truck</td>\n",
       "      <td>grey</td>\n",
       "      <td>1.0</td>\n",
       "      <td>2019-03-18</td>\n",
       "      <td>27</td>\n",
       "    </tr>\n",
       "    <tr>\n",
       "      <th>159</th>\n",
       "      <td>23300</td>\n",
       "      <td>NaN</td>\n",
       "      <td>nissan frontier crew cab sv</td>\n",
       "      <td>good</td>\n",
       "      <td>NaN</td>\n",
       "      <td>gas</td>\n",
       "      <td>NaN</td>\n",
       "      <td>other</td>\n",
       "      <td>pickup</td>\n",
       "      <td>grey</td>\n",
       "      <td>1.0</td>\n",
       "      <td>2018-07-24</td>\n",
       "      <td>73</td>\n",
       "    </tr>\n",
       "    <tr>\n",
       "      <th>164</th>\n",
       "      <td>2500</td>\n",
       "      <td>NaN</td>\n",
       "      <td>toyota camry</td>\n",
       "      <td>good</td>\n",
       "      <td>6.0</td>\n",
       "      <td>gas</td>\n",
       "      <td>150000.0</td>\n",
       "      <td>automatic</td>\n",
       "      <td>sedan</td>\n",
       "      <td>silver</td>\n",
       "      <td>NaN</td>\n",
       "      <td>2018-06-13</td>\n",
       "      <td>68</td>\n",
       "    </tr>\n",
       "    <tr>\n",
       "      <th>165</th>\n",
       "      <td>22000</td>\n",
       "      <td>NaN</td>\n",
       "      <td>ford f350 super duty</td>\n",
       "      <td>good</td>\n",
       "      <td>8.0</td>\n",
       "      <td>diesel</td>\n",
       "      <td>163000.0</td>\n",
       "      <td>automatic</td>\n",
       "      <td>truck</td>\n",
       "      <td>NaN</td>\n",
       "      <td>1.0</td>\n",
       "      <td>2019-02-05</td>\n",
       "      <td>38</td>\n",
       "    </tr>\n",
       "    <tr>\n",
       "      <th>184</th>\n",
       "      <td>6800</td>\n",
       "      <td>NaN</td>\n",
       "      <td>honda cr-v</td>\n",
       "      <td>excellent</td>\n",
       "      <td>4.0</td>\n",
       "      <td>gas</td>\n",
       "      <td>186000.0</td>\n",
       "      <td>automatic</td>\n",
       "      <td>SUV</td>\n",
       "      <td>grey</td>\n",
       "      <td>1.0</td>\n",
       "      <td>2018-12-22</td>\n",
       "      <td>25</td>\n",
       "    </tr>\n",
       "    <tr>\n",
       "      <th>186</th>\n",
       "      <td>3000</td>\n",
       "      <td>NaN</td>\n",
       "      <td>honda accord</td>\n",
       "      <td>good</td>\n",
       "      <td>6.0</td>\n",
       "      <td>gas</td>\n",
       "      <td>204000.0</td>\n",
       "      <td>automatic</td>\n",
       "      <td>coupe</td>\n",
       "      <td>blue</td>\n",
       "      <td>NaN</td>\n",
       "      <td>2018-05-18</td>\n",
       "      <td>21</td>\n",
       "    </tr>\n",
       "    <tr>\n",
       "      <th>199</th>\n",
       "      <td>8499</td>\n",
       "      <td>NaN</td>\n",
       "      <td>nissan rogue</td>\n",
       "      <td>excellent</td>\n",
       "      <td>4.0</td>\n",
       "      <td>gas</td>\n",
       "      <td>123360.0</td>\n",
       "      <td>automatic</td>\n",
       "      <td>wagon</td>\n",
       "      <td>blue</td>\n",
       "      <td>1.0</td>\n",
       "      <td>2019-03-28</td>\n",
       "      <td>28</td>\n",
       "    </tr>\n",
       "    <tr>\n",
       "      <th>201</th>\n",
       "      <td>15900</td>\n",
       "      <td>NaN</td>\n",
       "      <td>ford escape</td>\n",
       "      <td>excellent</td>\n",
       "      <td>4.0</td>\n",
       "      <td>gas</td>\n",
       "      <td>19764.0</td>\n",
       "      <td>automatic</td>\n",
       "      <td>SUV</td>\n",
       "      <td>black</td>\n",
       "      <td>1.0</td>\n",
       "      <td>2018-07-03</td>\n",
       "      <td>32</td>\n",
       "    </tr>\n",
       "    <tr>\n",
       "      <th>260</th>\n",
       "      <td>14975</td>\n",
       "      <td>NaN</td>\n",
       "      <td>toyota 4runner</td>\n",
       "      <td>good</td>\n",
       "      <td>6.0</td>\n",
       "      <td>gas</td>\n",
       "      <td>NaN</td>\n",
       "      <td>automatic</td>\n",
       "      <td>SUV</td>\n",
       "      <td>silver</td>\n",
       "      <td>NaN</td>\n",
       "      <td>2018-05-13</td>\n",
       "      <td>57</td>\n",
       "    </tr>\n",
       "    <tr>\n",
       "      <th>263</th>\n",
       "      <td>14995</td>\n",
       "      <td>NaN</td>\n",
       "      <td>chevrolet silverado 1500</td>\n",
       "      <td>good</td>\n",
       "      <td>8.0</td>\n",
       "      <td>gas</td>\n",
       "      <td>114587.0</td>\n",
       "      <td>automatic</td>\n",
       "      <td>truck</td>\n",
       "      <td>grey</td>\n",
       "      <td>1.0</td>\n",
       "      <td>2018-11-02</td>\n",
       "      <td>11</td>\n",
       "    </tr>\n",
       "    <tr>\n",
       "      <th>309</th>\n",
       "      <td>2500</td>\n",
       "      <td>NaN</td>\n",
       "      <td>nissan rogue</td>\n",
       "      <td>excellent</td>\n",
       "      <td>4.0</td>\n",
       "      <td>gas</td>\n",
       "      <td>25600.0</td>\n",
       "      <td>automatic</td>\n",
       "      <td>SUV</td>\n",
       "      <td>black</td>\n",
       "      <td>NaN</td>\n",
       "      <td>2018-09-22</td>\n",
       "      <td>53</td>\n",
       "    </tr>\n",
       "  </tbody>\n",
       "</table>\n",
       "</div>"
      ],
      "text/plain": [
       "     price  model_year                         model  condition  cylinders  \\\n",
       "1    25500         NaN                    ford f-150       good        6.0   \n",
       "20    6990         NaN               chevrolet tahoe  excellent        8.0   \n",
       "65   12800         NaN                    ford f-150  excellent        6.0   \n",
       "69    7800         NaN                    ford f-150   like new        8.0   \n",
       "72    3650         NaN                subaru impreza  excellent        NaN   \n",
       "84    4995         NaN               hyundai elantra   like new        4.0   \n",
       "102  10800         NaN            chevrolet colorado  excellent        5.0   \n",
       "114  23700         NaN   nissan frontier crew cab sv       good        6.0   \n",
       "116  25300         NaN  chevrolet camaro lt coupe 2d       good        6.0   \n",
       "144   8995         NaN      chevrolet silverado 1500  excellent        8.0   \n",
       "159  23300         NaN   nissan frontier crew cab sv       good        NaN   \n",
       "164   2500         NaN                  toyota camry       good        6.0   \n",
       "165  22000         NaN          ford f350 super duty       good        8.0   \n",
       "184   6800         NaN                    honda cr-v  excellent        4.0   \n",
       "186   3000         NaN                  honda accord       good        6.0   \n",
       "199   8499         NaN                  nissan rogue  excellent        4.0   \n",
       "201  15900         NaN                   ford escape  excellent        4.0   \n",
       "260  14975         NaN                toyota 4runner       good        6.0   \n",
       "263  14995         NaN      chevrolet silverado 1500       good        8.0   \n",
       "309   2500         NaN                  nissan rogue  excellent        4.0   \n",
       "\n",
       "       fuel  odometer transmission    type paint_color  is_4wd date_posted  \\\n",
       "1       gas   88705.0    automatic  pickup       white     1.0  2018-10-19   \n",
       "20      gas  147485.0    automatic     SUV      silver     1.0  2018-08-05   \n",
       "65      gas  108500.0    automatic  pickup       white     NaN  2018-09-23   \n",
       "69      gas   97510.0    automatic   truck       white     1.0  2019-02-20   \n",
       "72      gas   74000.0    automatic   sedan        blue     1.0  2018-08-07   \n",
       "84      gas  151223.0    automatic   sedan      custom     NaN  2018-09-15   \n",
       "102     gas  114922.0    automatic   truck         red     1.0  2018-06-23   \n",
       "114     gas   12901.0        other  pickup       black     1.0  2018-09-21   \n",
       "116     gas    3568.0        other   coupe         NaN     NaN  2018-06-16   \n",
       "144     gas  119726.0    automatic   truck        grey     1.0  2019-03-18   \n",
       "159     gas       NaN        other  pickup        grey     1.0  2018-07-24   \n",
       "164     gas  150000.0    automatic   sedan      silver     NaN  2018-06-13   \n",
       "165  diesel  163000.0    automatic   truck         NaN     1.0  2019-02-05   \n",
       "184     gas  186000.0    automatic     SUV        grey     1.0  2018-12-22   \n",
       "186     gas  204000.0    automatic   coupe        blue     NaN  2018-05-18   \n",
       "199     gas  123360.0    automatic   wagon        blue     1.0  2019-03-28   \n",
       "201     gas   19764.0    automatic     SUV       black     1.0  2018-07-03   \n",
       "260     gas       NaN    automatic     SUV      silver     NaN  2018-05-13   \n",
       "263     gas  114587.0    automatic   truck        grey     1.0  2018-11-02   \n",
       "309     gas   25600.0    automatic     SUV       black     NaN  2018-09-22   \n",
       "\n",
       "     days_listed  \n",
       "1             50  \n",
       "20            28  \n",
       "65            15  \n",
       "69            39  \n",
       "72            60  \n",
       "84             1  \n",
       "102           35  \n",
       "114            8  \n",
       "116           34  \n",
       "144           27  \n",
       "159           73  \n",
       "164           68  \n",
       "165           38  \n",
       "184           25  \n",
       "186           21  \n",
       "199           28  \n",
       "201           32  \n",
       "260           57  \n",
       "263           11  \n",
       "309           53  "
      ]
     },
     "execution_count": 213,
     "metadata": {},
     "output_type": "execute_result"
    }
   ],
   "source": [
    "anuncios[anuncios[\"model_year\"].isnull()].head(20)"
   ]
  },
  {
   "cell_type": "code",
   "execution_count": 214,
   "metadata": {},
   "outputs": [
    {
     "data": {
      "text/plain": [
       "count    47906.000000\n",
       "mean      2009.750470\n",
       "std          6.282065\n",
       "min       1908.000000\n",
       "25%       2006.000000\n",
       "50%       2011.000000\n",
       "75%       2014.000000\n",
       "max       2019.000000\n",
       "Name: model_year, dtype: float64"
      ]
     },
     "execution_count": 214,
     "metadata": {},
     "output_type": "execute_result"
    }
   ],
   "source": [
    "anuncios[\"model_year\"].describe()"
   ]
  },
  {
   "cell_type": "markdown",
   "metadata": {},
   "source": [
    "La variable model_year podemos relacionarla con el precio o el modelo del vehículo, por lo cual podemos utilizar una tabla dinámica que nos agrupe éstas variables y hallar la mediana, debido a la diferencia entre los datos."
   ]
  },
  {
   "cell_type": "code",
   "execution_count": 215,
   "metadata": {},
   "outputs": [
    {
     "data": {
      "text/plain": [
       "array(['bmw x5', 'ford f-150', 'hyundai sonata', 'chrysler 200',\n",
       "       'chrysler 300', 'toyota camry', 'honda pilot', 'kia sorento',\n",
       "       'chevrolet silverado 1500', 'honda accord', 'ram 1500',\n",
       "       'gmc yukon', 'jeep cherokee', 'chevrolet traverse',\n",
       "       'hyundai elantra', 'chevrolet tahoe', 'toyota rav4',\n",
       "       'chevrolet silverado', 'jeep wrangler', 'chevrolet malibu',\n",
       "       'ford fusion se', 'chevrolet impala', 'chevrolet corvette',\n",
       "       'jeep liberty', 'toyota camry le', 'nissan altima',\n",
       "       'subaru outback', 'toyota highlander', 'dodge charger',\n",
       "       'toyota tacoma', 'chevrolet equinox', 'nissan rogue',\n",
       "       'mercedes-benz benze sprinter 2500', 'honda cr-v',\n",
       "       'jeep grand cherokee', 'toyota 4runner', 'ford focus',\n",
       "       'honda civic', 'kia soul', 'chevrolet colorado',\n",
       "       'ford f150 supercrew cab xlt', 'chevrolet camaro lt coupe 2d',\n",
       "       'chevrolet cruze', 'ford mustang', 'chevrolet silverado 3500hd',\n",
       "       'nissan frontier crew cab sv', 'subaru impreza',\n",
       "       'jeep grand cherokee laredo', 'nissan versa', 'ford f-250 sd',\n",
       "       'chevrolet silverado 1500 crew', 'ford f250 super duty',\n",
       "       'chevrolet camaro', 'ford mustang gt coupe 2d', 'subaru forester',\n",
       "       'ford explorer', 'ford f-350 sd', 'ford edge', 'nissan maxima',\n",
       "       'ford f-250', 'nissan sentra', 'ford f150', 'chevrolet suburban',\n",
       "       'ford expedition', 'dodge grand caravan', 'ford taurus',\n",
       "       'acura tl', 'ford f350 super duty', 'ford ranger', 'gmc sierra',\n",
       "       'hyundai santa fe', 'ford escape', 'gmc sierra 2500hd',\n",
       "       'honda civic lx', 'gmc sierra 1500', 'honda odyssey',\n",
       "       'cadillac escalade', 'volkswagen jetta', 'toyota corolla',\n",
       "       'chrysler town & country', 'volkswagen passat', 'toyota prius',\n",
       "       'buick enclave', 'ford fusion', 'toyota tundra', 'ram 3500',\n",
       "       'ram 2500', 'nissan frontier', 'chevrolet silverado 2500hd',\n",
       "       'jeep wrangler unlimited', 'ford f-250 super duty', 'gmc acadia',\n",
       "       'toyota sienna', 'ford focus se', 'ford f250', 'dodge dakota',\n",
       "       'ford f350', 'chevrolet trailblazer', 'ford econoline',\n",
       "       'nissan murano'], dtype=object)"
      ]
     },
     "execution_count": 215,
     "metadata": {},
     "output_type": "execute_result"
    }
   ],
   "source": [
    "anuncios[\"model\"].unique()"
   ]
  },
  {
   "cell_type": "code",
   "execution_count": 216,
   "metadata": {},
   "outputs": [
    {
     "data": {
      "text/plain": [
       "count     51525.000000\n",
       "mean      12132.464920\n",
       "std       10040.803015\n",
       "min           1.000000\n",
       "25%        5000.000000\n",
       "50%        9000.000000\n",
       "75%       16839.000000\n",
       "max      375000.000000\n",
       "Name: price, dtype: float64"
      ]
     },
     "execution_count": 216,
     "metadata": {},
     "output_type": "execute_result"
    }
   ],
   "source": [
    "anuncios[\"price\"].describe()"
   ]
  },
  {
   "cell_type": "markdown",
   "metadata": {},
   "source": [
    "En la columna \"price\", se encuentran datos en los que el resultado es 1, lo cual se considera un dato atípico."
   ]
  },
  {
   "cell_type": "code",
   "execution_count": 217,
   "metadata": {
    "scrolled": false
   },
   "outputs": [
    {
     "data": {
      "text/html": [
       "<div>\n",
       "<style scoped>\n",
       "    .dataframe tbody tr th:only-of-type {\n",
       "        vertical-align: middle;\n",
       "    }\n",
       "\n",
       "    .dataframe tbody tr th {\n",
       "        vertical-align: top;\n",
       "    }\n",
       "\n",
       "    .dataframe thead th {\n",
       "        text-align: right;\n",
       "    }\n",
       "</style>\n",
       "<table border=\"1\" class=\"dataframe\">\n",
       "  <thead>\n",
       "    <tr style=\"text-align: right;\">\n",
       "      <th></th>\n",
       "      <th>price</th>\n",
       "      <th>model_year</th>\n",
       "      <th>model</th>\n",
       "      <th>condition</th>\n",
       "      <th>cylinders</th>\n",
       "      <th>fuel</th>\n",
       "      <th>odometer</th>\n",
       "      <th>transmission</th>\n",
       "      <th>type</th>\n",
       "      <th>paint_color</th>\n",
       "      <th>is_4wd</th>\n",
       "      <th>date_posted</th>\n",
       "      <th>days_listed</th>\n",
       "    </tr>\n",
       "  </thead>\n",
       "  <tbody>\n",
       "    <tr>\n",
       "      <th>405</th>\n",
       "      <td>1</td>\n",
       "      <td>2014.0</td>\n",
       "      <td>chevrolet camaro</td>\n",
       "      <td>excellent</td>\n",
       "      <td>6.0</td>\n",
       "      <td>gas</td>\n",
       "      <td>71310.0</td>\n",
       "      <td>automatic</td>\n",
       "      <td>coupe</td>\n",
       "      <td>NaN</td>\n",
       "      <td>NaN</td>\n",
       "      <td>2018-07-14</td>\n",
       "      <td>29</td>\n",
       "    </tr>\n",
       "    <tr>\n",
       "      <th>3063</th>\n",
       "      <td>1</td>\n",
       "      <td>1998.0</td>\n",
       "      <td>chevrolet silverado</td>\n",
       "      <td>good</td>\n",
       "      <td>8.0</td>\n",
       "      <td>gas</td>\n",
       "      <td>164000.0</td>\n",
       "      <td>automatic</td>\n",
       "      <td>pickup</td>\n",
       "      <td>NaN</td>\n",
       "      <td>1.0</td>\n",
       "      <td>2018-10-11</td>\n",
       "      <td>49</td>\n",
       "    </tr>\n",
       "    <tr>\n",
       "      <th>3808</th>\n",
       "      <td>1</td>\n",
       "      <td>2007.0</td>\n",
       "      <td>chevrolet tahoe</td>\n",
       "      <td>good</td>\n",
       "      <td>8.0</td>\n",
       "      <td>gas</td>\n",
       "      <td>200.0</td>\n",
       "      <td>automatic</td>\n",
       "      <td>SUV</td>\n",
       "      <td>red</td>\n",
       "      <td>NaN</td>\n",
       "      <td>2019-03-18</td>\n",
       "      <td>63</td>\n",
       "    </tr>\n",
       "    <tr>\n",
       "      <th>3902</th>\n",
       "      <td>1</td>\n",
       "      <td>1996.0</td>\n",
       "      <td>ford f-150</td>\n",
       "      <td>fair</td>\n",
       "      <td>NaN</td>\n",
       "      <td>gas</td>\n",
       "      <td>163000.0</td>\n",
       "      <td>manual</td>\n",
       "      <td>truck</td>\n",
       "      <td>white</td>\n",
       "      <td>NaN</td>\n",
       "      <td>2019-02-23</td>\n",
       "      <td>54</td>\n",
       "    </tr>\n",
       "    <tr>\n",
       "      <th>4140</th>\n",
       "      <td>1</td>\n",
       "      <td>2004.0</td>\n",
       "      <td>chevrolet silverado</td>\n",
       "      <td>excellent</td>\n",
       "      <td>8.0</td>\n",
       "      <td>diesel</td>\n",
       "      <td>83000.0</td>\n",
       "      <td>automatic</td>\n",
       "      <td>pickup</td>\n",
       "      <td>NaN</td>\n",
       "      <td>1.0</td>\n",
       "      <td>2019-02-04</td>\n",
       "      <td>14</td>\n",
       "    </tr>\n",
       "    <tr>\n",
       "      <th>...</th>\n",
       "      <td>...</td>\n",
       "      <td>...</td>\n",
       "      <td>...</td>\n",
       "      <td>...</td>\n",
       "      <td>...</td>\n",
       "      <td>...</td>\n",
       "      <td>...</td>\n",
       "      <td>...</td>\n",
       "      <td>...</td>\n",
       "      <td>...</td>\n",
       "      <td>...</td>\n",
       "      <td>...</td>\n",
       "      <td>...</td>\n",
       "    </tr>\n",
       "    <tr>\n",
       "      <th>49699</th>\n",
       "      <td>1</td>\n",
       "      <td>2007.0</td>\n",
       "      <td>chevrolet trailblazer</td>\n",
       "      <td>excellent</td>\n",
       "      <td>8.0</td>\n",
       "      <td>gas</td>\n",
       "      <td>NaN</td>\n",
       "      <td>automatic</td>\n",
       "      <td>SUV</td>\n",
       "      <td>black</td>\n",
       "      <td>1.0</td>\n",
       "      <td>2018-08-06</td>\n",
       "      <td>28</td>\n",
       "    </tr>\n",
       "    <tr>\n",
       "      <th>49709</th>\n",
       "      <td>1</td>\n",
       "      <td>NaN</td>\n",
       "      <td>ford f150</td>\n",
       "      <td>excellent</td>\n",
       "      <td>8.0</td>\n",
       "      <td>gas</td>\n",
       "      <td>139700.0</td>\n",
       "      <td>other</td>\n",
       "      <td>pickup</td>\n",
       "      <td>red</td>\n",
       "      <td>1.0</td>\n",
       "      <td>2019-03-11</td>\n",
       "      <td>18</td>\n",
       "    </tr>\n",
       "    <tr>\n",
       "      <th>50245</th>\n",
       "      <td>1</td>\n",
       "      <td>1986.0</td>\n",
       "      <td>chevrolet silverado</td>\n",
       "      <td>good</td>\n",
       "      <td>8.0</td>\n",
       "      <td>gas</td>\n",
       "      <td>NaN</td>\n",
       "      <td>automatic</td>\n",
       "      <td>truck</td>\n",
       "      <td>red</td>\n",
       "      <td>1.0</td>\n",
       "      <td>2018-11-30</td>\n",
       "      <td>50</td>\n",
       "    </tr>\n",
       "    <tr>\n",
       "      <th>50393</th>\n",
       "      <td>1</td>\n",
       "      <td>2003.0</td>\n",
       "      <td>gmc sierra 2500hd</td>\n",
       "      <td>good</td>\n",
       "      <td>8.0</td>\n",
       "      <td>diesel</td>\n",
       "      <td>212300.0</td>\n",
       "      <td>automatic</td>\n",
       "      <td>pickup</td>\n",
       "      <td>black</td>\n",
       "      <td>1.0</td>\n",
       "      <td>2019-04-12</td>\n",
       "      <td>28</td>\n",
       "    </tr>\n",
       "    <tr>\n",
       "      <th>51256</th>\n",
       "      <td>1</td>\n",
       "      <td>2012.0</td>\n",
       "      <td>honda civic lx</td>\n",
       "      <td>excellent</td>\n",
       "      <td>4.0</td>\n",
       "      <td>gas</td>\n",
       "      <td>71262.0</td>\n",
       "      <td>automatic</td>\n",
       "      <td>sedan</td>\n",
       "      <td>blue</td>\n",
       "      <td>NaN</td>\n",
       "      <td>2018-05-06</td>\n",
       "      <td>53</td>\n",
       "    </tr>\n",
       "  </tbody>\n",
       "</table>\n",
       "<p>798 rows × 13 columns</p>\n",
       "</div>"
      ],
      "text/plain": [
       "       price  model_year                  model  condition  cylinders    fuel  \\\n",
       "405        1      2014.0       chevrolet camaro  excellent        6.0     gas   \n",
       "3063       1      1998.0    chevrolet silverado       good        8.0     gas   \n",
       "3808       1      2007.0        chevrolet tahoe       good        8.0     gas   \n",
       "3902       1      1996.0             ford f-150       fair        NaN     gas   \n",
       "4140       1      2004.0    chevrolet silverado  excellent        8.0  diesel   \n",
       "...      ...         ...                    ...        ...        ...     ...   \n",
       "49699      1      2007.0  chevrolet trailblazer  excellent        8.0     gas   \n",
       "49709      1         NaN              ford f150  excellent        8.0     gas   \n",
       "50245      1      1986.0    chevrolet silverado       good        8.0     gas   \n",
       "50393      1      2003.0      gmc sierra 2500hd       good        8.0  diesel   \n",
       "51256      1      2012.0         honda civic lx  excellent        4.0     gas   \n",
       "\n",
       "       odometer transmission    type paint_color  is_4wd date_posted  \\\n",
       "405     71310.0    automatic   coupe         NaN     NaN  2018-07-14   \n",
       "3063   164000.0    automatic  pickup         NaN     1.0  2018-10-11   \n",
       "3808      200.0    automatic     SUV         red     NaN  2019-03-18   \n",
       "3902   163000.0       manual   truck       white     NaN  2019-02-23   \n",
       "4140    83000.0    automatic  pickup         NaN     1.0  2019-02-04   \n",
       "...         ...          ...     ...         ...     ...         ...   \n",
       "49699       NaN    automatic     SUV       black     1.0  2018-08-06   \n",
       "49709  139700.0        other  pickup         red     1.0  2019-03-11   \n",
       "50245       NaN    automatic   truck         red     1.0  2018-11-30   \n",
       "50393  212300.0    automatic  pickup       black     1.0  2019-04-12   \n",
       "51256   71262.0    automatic   sedan        blue     NaN  2018-05-06   \n",
       "\n",
       "       days_listed  \n",
       "405             29  \n",
       "3063            49  \n",
       "3808            63  \n",
       "3902            54  \n",
       "4140            14  \n",
       "...            ...  \n",
       "49699           28  \n",
       "49709           18  \n",
       "50245           50  \n",
       "50393           28  \n",
       "51256           53  \n",
       "\n",
       "[798 rows x 13 columns]"
      ]
     },
     "execution_count": 217,
     "metadata": {},
     "output_type": "execute_result"
    }
   ],
   "source": [
    "anuncios[anuncios[\"price\"]==1]"
   ]
  },
  {
   "cell_type": "code",
   "execution_count": 218,
   "metadata": {},
   "outputs": [
    {
     "data": {
      "text/plain": [
       "1.5487627365356624"
      ]
     },
     "execution_count": 218,
     "metadata": {},
     "output_type": "execute_result"
    }
   ],
   "source": [
    "porc_atipico_price=(798/51525)*100\n",
    "porc_atipico_price"
   ]
  },
  {
   "cell_type": "markdown",
   "metadata": {},
   "source": [
    "El porcentaje de datos en los que el valor de price=1, es mayor al 1%. Se considera que éste dato debe abordarse debido a la importancia de ésta variable para el análisis de los datos."
   ]
  },
  {
   "cell_type": "code",
   "execution_count": 219,
   "metadata": {},
   "outputs": [
    {
     "data": {
      "text/plain": [
       "excellent    24773\n",
       "good         20145\n",
       "like new      4742\n",
       "fair          1607\n",
       "new            143\n",
       "salvage        115\n",
       "Name: condition, dtype: int64"
      ]
     },
     "execution_count": 219,
     "metadata": {},
     "output_type": "execute_result"
    }
   ],
   "source": [
    "anuncios[\"condition\"].value_counts()"
   ]
  },
  {
   "cell_type": "markdown",
   "metadata": {},
   "source": [
    "No se identifican problemas en la variable \"condition\"."
   ]
  },
  {
   "cell_type": "code",
   "execution_count": 220,
   "metadata": {},
   "outputs": [
    {
     "data": {
      "text/plain": [
       "array(['2018-06-23', '2018-10-19', '2019-02-07', '2019-03-22',\n",
       "       '2019-04-02', '2018-06-20', '2018-12-27', '2019-01-07',\n",
       "       '2018-07-16', '2019-02-15', '2018-09-17', '2019-03-28',\n",
       "       '2019-01-14', '2019-01-31', '2018-05-15', '2018-12-30',\n",
       "       '2018-08-16', '2019-04-09', '2018-08-25', '2018-08-05',\n",
       "       '2018-08-22', '2019-01-05', '2018-05-17', '2018-06-11',\n",
       "       '2018-07-26', '2018-10-25', '2018-05-19', '2018-10-22',\n",
       "       '2019-02-18', '2019-02-19', '2018-09-13', '2018-11-12',\n",
       "       '2018-12-25', '2018-06-04', '2018-05-11', '2018-05-05',\n",
       "       '2018-07-22', '2019-03-08', '2019-03-31', '2019-01-12',\n",
       "       '2018-09-20', '2019-01-15', '2018-11-18', '2018-05-27',\n",
       "       '2018-07-19', '2019-03-10', '2018-10-09', '2018-10-18',\n",
       "       '2018-05-03', '2018-11-29', '2019-02-16', '2019-01-30',\n",
       "       '2018-07-15', '2018-05-16', '2018-07-01', '2019-04-18',\n",
       "       '2018-12-20', '2019-03-14', '2018-05-29', '2019-01-13',\n",
       "       '2019-01-23', '2018-11-07', '2018-09-23', '2018-05-09',\n",
       "       '2018-12-24', '2019-02-20', '2018-11-27', '2018-10-13',\n",
       "       '2018-08-07', '2018-07-27', '2018-06-08', '2018-10-30',\n",
       "       '2019-02-28', '2018-09-25', '2018-09-08', '2018-07-08',\n",
       "       '2018-06-02', '2019-03-13', '2018-09-15', '2018-06-30',\n",
       "       '2018-10-26', '2019-03-04', '2018-11-26', '2019-01-16',\n",
       "       '2018-06-16', '2018-07-24', '2018-05-06', '2018-07-12',\n",
       "       '2018-12-14', '2018-05-02', '2018-10-28', '2018-06-01',\n",
       "       '2018-09-10', '2019-02-27', '2018-09-22', '2019-03-29',\n",
       "       '2019-03-11', '2018-07-20', '2018-11-08', '2019-03-03',\n",
       "       '2018-08-19', '2018-09-21', '2018-11-22', '2018-06-07',\n",
       "       '2018-09-18', '2019-03-01', '2018-12-12', '2018-10-10',\n",
       "       '2018-11-15', '2019-04-15', '2018-08-31', '2018-08-11',\n",
       "       '2018-08-03', '2018-11-30', '2018-05-26', '2018-09-19',\n",
       "       '2018-11-20', '2019-04-16', '2018-07-28', '2018-06-26',\n",
       "       '2019-03-06', '2018-07-14', '2018-11-10', '2019-03-18',\n",
       "       '2018-12-16', '2018-08-17', '2018-05-23', '2019-04-11',\n",
       "       '2019-01-25', '2019-01-24', '2018-11-01', '2019-02-14',\n",
       "       '2019-01-29', '2018-06-19', '2019-04-19', '2018-06-13',\n",
       "       '2019-02-05', '2018-07-11', '2018-10-27', '2018-08-15',\n",
       "       '2018-07-31', '2018-11-02', '2019-01-17', '2018-06-29',\n",
       "       '2018-08-01', '2018-12-26', '2018-12-22', '2018-05-18',\n",
       "       '2018-06-27', '2018-12-23', '2018-06-03', '2018-11-17',\n",
       "       '2018-07-17', '2018-10-15', '2018-07-03', '2018-05-21',\n",
       "       '2018-07-04', '2019-01-03', '2019-03-20', '2019-04-10',\n",
       "       '2018-10-01', '2018-05-20', '2019-03-19', '2018-07-06',\n",
       "       '2018-11-04', '2018-09-30', '2018-09-11', '2019-02-26',\n",
       "       '2018-07-09', '2018-09-16', '2018-09-09', '2018-09-27',\n",
       "       '2018-06-17', '2019-02-13', '2019-01-08', '2019-02-03',\n",
       "       '2019-01-19', '2019-01-02', '2019-02-12', '2018-08-18',\n",
       "       '2018-08-30', '2018-07-25', '2018-11-11', '2018-05-13',\n",
       "       '2018-09-29', '2018-07-13', '2018-12-07', '2018-09-26',\n",
       "       '2018-12-09', '2018-12-06', '2018-07-07', '2018-08-24',\n",
       "       '2018-06-21', '2019-03-17', '2018-09-04', '2018-11-16',\n",
       "       '2018-12-13', '2018-11-21', '2018-08-06', '2018-08-10',\n",
       "       '2019-04-01', '2018-06-15', '2018-05-08', '2018-10-12',\n",
       "       '2019-04-06', '2018-09-28', '2019-02-08', '2018-12-31',\n",
       "       '2018-12-28', '2019-02-17', '2018-06-14', '2018-10-11',\n",
       "       '2019-03-30', '2018-05-01', '2018-12-10', '2018-06-09',\n",
       "       '2018-07-10', '2019-02-22', '2018-12-05', '2018-12-17',\n",
       "       '2018-05-12', '2018-05-10', '2018-08-02', '2019-03-16',\n",
       "       '2019-01-27', '2019-03-09', '2019-01-06', '2018-06-10',\n",
       "       '2018-09-14', '2018-11-06', '2018-10-03', '2018-08-13',\n",
       "       '2019-04-03', '2018-08-09', '2019-01-20', '2019-04-05',\n",
       "       '2018-06-22', '2018-11-09', '2018-07-23', '2018-09-06',\n",
       "       '2018-12-08', '2018-08-23', '2019-02-01', '2018-06-06',\n",
       "       '2018-09-01', '2018-05-31', '2018-11-19', '2018-08-08',\n",
       "       '2019-01-10', '2018-07-29', '2018-05-07', '2019-03-23',\n",
       "       '2018-10-24', '2018-10-23', '2018-08-14', '2019-04-14',\n",
       "       '2018-12-18', '2018-12-19', '2019-03-02', '2018-08-20',\n",
       "       '2019-03-25', '2018-10-06', '2018-05-22', '2018-08-29',\n",
       "       '2018-07-05', '2019-04-07', '2019-04-12', '2019-04-08',\n",
       "       '2018-11-24', '2018-08-12', '2019-04-13', '2018-10-16',\n",
       "       '2018-07-21', '2018-08-26', '2018-12-01', '2019-02-10',\n",
       "       '2019-02-11', '2018-08-04', '2018-06-05', '2018-11-03',\n",
       "       '2019-02-24', '2019-02-21', '2018-06-28', '2019-03-05',\n",
       "       '2018-11-28', '2019-02-25', '2018-10-29', '2018-10-04',\n",
       "       '2018-10-07', '2018-05-14', '2018-09-03', '2018-10-05',\n",
       "       '2019-02-09', '2018-06-18', '2018-10-21', '2018-06-12',\n",
       "       '2018-12-02', '2018-11-13', '2019-02-23', '2018-10-20',\n",
       "       '2018-10-17', '2018-12-03', '2019-03-24', '2019-01-01',\n",
       "       '2018-09-07', '2018-11-05', '2019-01-09', '2018-10-31',\n",
       "       '2018-12-04', '2018-12-15', '2018-08-28', '2018-11-23',\n",
       "       '2019-01-22', '2018-10-02', '2018-12-21', '2018-05-24',\n",
       "       '2018-06-24', '2019-02-06', '2018-07-30', '2018-10-14',\n",
       "       '2019-02-02', '2018-09-05', '2018-10-08', '2018-09-12',\n",
       "       '2019-01-21', '2019-03-27', '2019-01-28', '2018-05-25',\n",
       "       '2018-09-02', '2019-02-04', '2019-04-04', '2018-09-24',\n",
       "       '2018-12-29', '2018-11-14', '2019-01-04', '2019-01-18',\n",
       "       '2018-06-25', '2018-05-30', '2019-03-26', '2018-12-11',\n",
       "       '2019-01-26', '2019-03-21', '2019-03-07', '2018-05-04',\n",
       "       '2018-05-28', '2018-11-25', '2018-07-18', '2019-04-17',\n",
       "       '2019-01-11', '2019-03-15', '2018-08-21', '2019-03-12',\n",
       "       '2018-07-02', '2018-08-27'], dtype=object)"
      ]
     },
     "execution_count": 220,
     "metadata": {},
     "output_type": "execute_result"
    }
   ],
   "source": [
    "anuncios[\"date_posted\"].unique()"
   ]
  },
  {
   "cell_type": "markdown",
   "metadata": {},
   "source": [
    "El tipo de dato de la columna \"date_posted\", debe estar en tipo de dato fecha, para facilitar el análisis de los datos teniendo en cuenta la información de ésta columna."
   ]
  },
  {
   "cell_type": "code",
   "execution_count": 221,
   "metadata": {},
   "outputs": [
    {
     "data": {
      "text/plain": [
       "array([ 19,  50,  79,   9,  28,  15,  73,  68,  17,  38,  29,  37,  24,\n",
       "       111,  13,  25,  27,   8,  64,  39,  40,  43,  23,  42, 101,  20,\n",
       "        14,   7,  31, 121,  22,  44,   1,  36,  21,  16,  10,  60,  51,\n",
       "        35, 261,  71,  99,   2,  26,  48,  54,  85,  41,  53,   3,  33,\n",
       "        30,  47,  32,  18,  52, 152,  11, 100,  94,  82, 141,  70,  57,\n",
       "        62,  46,  96,  58,  34,  93,  49,  55,  67,  78,  12,   6, 108,\n",
       "        72, 112,  83,  61,  59, 130,   4,  98,   5, 164,  56,  75,  74,\n",
       "        80,  66,  63, 109,  81,  90, 127,  45,  88,  91,  77,  69,  89,\n",
       "       114,  84, 110, 140, 104, 120,  97,  76,  92, 128, 113, 129,  65,\n",
       "       115, 106, 116, 154, 151, 147, 124, 102,  87, 143,  95,  86, 132,\n",
       "       105, 107,   0, 103, 117, 155, 118, 149, 144, 122, 137, 263, 148,\n",
       "       156, 179, 126, 169, 136, 125, 131, 119, 177, 174, 173, 134, 171,\n",
       "       145, 139, 166, 244, 228, 142, 135, 162, 183, 271, 138, 123, 157,\n",
       "       201, 161, 158, 150, 181, 184, 256, 133, 146, 195, 207, 163, 206,\n",
       "       236, 160, 190, 165, 159, 153, 204, 233, 185, 221, 226, 172, 203,\n",
       "       176, 202, 240, 197, 208, 209, 188, 187, 192, 193, 225, 243, 189,\n",
       "       175, 205, 180, 267, 182, 199, 217, 210, 178, 223, 167, 170, 194,\n",
       "       168, 213, 191, 252, 200, 186])"
      ]
     },
     "execution_count": 221,
     "metadata": {},
     "output_type": "execute_result"
    }
   ],
   "source": [
    "anuncios[\"days_listed\"].unique()"
   ]
  },
  {
   "cell_type": "markdown",
   "metadata": {},
   "source": [
    "Se encuentran valores de cero, en la columna \"days_listed\"."
   ]
  },
  {
   "cell_type": "code",
   "execution_count": 222,
   "metadata": {},
   "outputs": [
    {
     "data": {
      "text/plain": [
       "54"
      ]
     },
     "execution_count": 222,
     "metadata": {},
     "output_type": "execute_result"
    }
   ],
   "source": [
    "len(anuncios[anuncios[\"days_listed\"]==0])"
   ]
  },
  {
   "cell_type": "code",
   "execution_count": 223,
   "metadata": {},
   "outputs": [
    {
     "data": {
      "text/html": [
       "<div>\n",
       "<style scoped>\n",
       "    .dataframe tbody tr th:only-of-type {\n",
       "        vertical-align: middle;\n",
       "    }\n",
       "\n",
       "    .dataframe tbody tr th {\n",
       "        vertical-align: top;\n",
       "    }\n",
       "\n",
       "    .dataframe thead th {\n",
       "        text-align: right;\n",
       "    }\n",
       "</style>\n",
       "<table border=\"1\" class=\"dataframe\">\n",
       "  <thead>\n",
       "    <tr style=\"text-align: right;\">\n",
       "      <th></th>\n",
       "      <th>price</th>\n",
       "      <th>model_year</th>\n",
       "      <th>model</th>\n",
       "      <th>condition</th>\n",
       "      <th>cylinders</th>\n",
       "      <th>fuel</th>\n",
       "      <th>odometer</th>\n",
       "      <th>transmission</th>\n",
       "      <th>type</th>\n",
       "      <th>paint_color</th>\n",
       "      <th>is_4wd</th>\n",
       "      <th>date_posted</th>\n",
       "      <th>days_listed</th>\n",
       "    </tr>\n",
       "  </thead>\n",
       "  <tbody>\n",
       "    <tr>\n",
       "      <th>1247</th>\n",
       "      <td>14995</td>\n",
       "      <td>2008.0</td>\n",
       "      <td>chevrolet silverado 1500</td>\n",
       "      <td>excellent</td>\n",
       "      <td>8.0</td>\n",
       "      <td>gas</td>\n",
       "      <td>93300.0</td>\n",
       "      <td>automatic</td>\n",
       "      <td>truck</td>\n",
       "      <td>grey</td>\n",
       "      <td>1.0</td>\n",
       "      <td>2018-05-15</td>\n",
       "      <td>0</td>\n",
       "    </tr>\n",
       "    <tr>\n",
       "      <th>1711</th>\n",
       "      <td>59589</td>\n",
       "      <td>2019.0</td>\n",
       "      <td>chevrolet silverado 2500hd</td>\n",
       "      <td>excellent</td>\n",
       "      <td>8.0</td>\n",
       "      <td>diesel</td>\n",
       "      <td>NaN</td>\n",
       "      <td>automatic</td>\n",
       "      <td>truck</td>\n",
       "      <td>white</td>\n",
       "      <td>1.0</td>\n",
       "      <td>2019-01-13</td>\n",
       "      <td>0</td>\n",
       "    </tr>\n",
       "    <tr>\n",
       "      <th>1983</th>\n",
       "      <td>14000</td>\n",
       "      <td>1999.0</td>\n",
       "      <td>ford f250</td>\n",
       "      <td>excellent</td>\n",
       "      <td>8.0</td>\n",
       "      <td>diesel</td>\n",
       "      <td>137500.0</td>\n",
       "      <td>automatic</td>\n",
       "      <td>truck</td>\n",
       "      <td>red</td>\n",
       "      <td>1.0</td>\n",
       "      <td>2018-09-27</td>\n",
       "      <td>0</td>\n",
       "    </tr>\n",
       "    <tr>\n",
       "      <th>2883</th>\n",
       "      <td>4000</td>\n",
       "      <td>2004.0</td>\n",
       "      <td>ram 1500</td>\n",
       "      <td>excellent</td>\n",
       "      <td>8.0</td>\n",
       "      <td>gas</td>\n",
       "      <td>250000.0</td>\n",
       "      <td>automatic</td>\n",
       "      <td>truck</td>\n",
       "      <td>brown</td>\n",
       "      <td>1.0</td>\n",
       "      <td>2018-08-13</td>\n",
       "      <td>0</td>\n",
       "    </tr>\n",
       "    <tr>\n",
       "      <th>3965</th>\n",
       "      <td>16750</td>\n",
       "      <td>1985.0</td>\n",
       "      <td>chevrolet corvette</td>\n",
       "      <td>like new</td>\n",
       "      <td>8.0</td>\n",
       "      <td>gas</td>\n",
       "      <td>24540.0</td>\n",
       "      <td>automatic</td>\n",
       "      <td>hatchback</td>\n",
       "      <td>white</td>\n",
       "      <td>NaN</td>\n",
       "      <td>2018-10-14</td>\n",
       "      <td>0</td>\n",
       "    </tr>\n",
       "    <tr>\n",
       "      <th>4567</th>\n",
       "      <td>5000</td>\n",
       "      <td>2007.0</td>\n",
       "      <td>toyota corolla</td>\n",
       "      <td>good</td>\n",
       "      <td>4.0</td>\n",
       "      <td>gas</td>\n",
       "      <td>223000.0</td>\n",
       "      <td>manual</td>\n",
       "      <td>sedan</td>\n",
       "      <td>silver</td>\n",
       "      <td>NaN</td>\n",
       "      <td>2018-07-11</td>\n",
       "      <td>0</td>\n",
       "    </tr>\n",
       "    <tr>\n",
       "      <th>4901</th>\n",
       "      <td>12500</td>\n",
       "      <td>2001.0</td>\n",
       "      <td>ram 1500</td>\n",
       "      <td>good</td>\n",
       "      <td>8.0</td>\n",
       "      <td>gas</td>\n",
       "      <td>99892.0</td>\n",
       "      <td>automatic</td>\n",
       "      <td>truck</td>\n",
       "      <td>black</td>\n",
       "      <td>1.0</td>\n",
       "      <td>2018-05-11</td>\n",
       "      <td>0</td>\n",
       "    </tr>\n",
       "    <tr>\n",
       "      <th>6114</th>\n",
       "      <td>500</td>\n",
       "      <td>2003.0</td>\n",
       "      <td>dodge dakota</td>\n",
       "      <td>fair</td>\n",
       "      <td>6.0</td>\n",
       "      <td>gas</td>\n",
       "      <td>215457.0</td>\n",
       "      <td>automatic</td>\n",
       "      <td>pickup</td>\n",
       "      <td>NaN</td>\n",
       "      <td>NaN</td>\n",
       "      <td>2018-10-31</td>\n",
       "      <td>0</td>\n",
       "    </tr>\n",
       "    <tr>\n",
       "      <th>6548</th>\n",
       "      <td>4800</td>\n",
       "      <td>2007.0</td>\n",
       "      <td>honda odyssey</td>\n",
       "      <td>good</td>\n",
       "      <td>6.0</td>\n",
       "      <td>gas</td>\n",
       "      <td>152400.0</td>\n",
       "      <td>automatic</td>\n",
       "      <td>mini-van</td>\n",
       "      <td>brown</td>\n",
       "      <td>NaN</td>\n",
       "      <td>2018-09-25</td>\n",
       "      <td>0</td>\n",
       "    </tr>\n",
       "    <tr>\n",
       "      <th>7036</th>\n",
       "      <td>5900</td>\n",
       "      <td>2007.0</td>\n",
       "      <td>jeep grand cherokee laredo</td>\n",
       "      <td>excellent</td>\n",
       "      <td>6.0</td>\n",
       "      <td>gas</td>\n",
       "      <td>NaN</td>\n",
       "      <td>automatic</td>\n",
       "      <td>SUV</td>\n",
       "      <td>grey</td>\n",
       "      <td>1.0</td>\n",
       "      <td>2018-07-21</td>\n",
       "      <td>0</td>\n",
       "    </tr>\n",
       "    <tr>\n",
       "      <th>9607</th>\n",
       "      <td>4999</td>\n",
       "      <td>2012.0</td>\n",
       "      <td>nissan sentra</td>\n",
       "      <td>excellent</td>\n",
       "      <td>4.0</td>\n",
       "      <td>gas</td>\n",
       "      <td>125000.0</td>\n",
       "      <td>automatic</td>\n",
       "      <td>sedan</td>\n",
       "      <td>silver</td>\n",
       "      <td>NaN</td>\n",
       "      <td>2019-03-26</td>\n",
       "      <td>0</td>\n",
       "    </tr>\n",
       "    <tr>\n",
       "      <th>9732</th>\n",
       "      <td>15000</td>\n",
       "      <td>2003.0</td>\n",
       "      <td>ford f-150</td>\n",
       "      <td>good</td>\n",
       "      <td>NaN</td>\n",
       "      <td>gas</td>\n",
       "      <td>90048.0</td>\n",
       "      <td>automatic</td>\n",
       "      <td>truck</td>\n",
       "      <td>black</td>\n",
       "      <td>NaN</td>\n",
       "      <td>2018-09-21</td>\n",
       "      <td>0</td>\n",
       "    </tr>\n",
       "    <tr>\n",
       "      <th>10722</th>\n",
       "      <td>3100</td>\n",
       "      <td>2000.0</td>\n",
       "      <td>chevrolet silverado</td>\n",
       "      <td>good</td>\n",
       "      <td>NaN</td>\n",
       "      <td>gas</td>\n",
       "      <td>211000.0</td>\n",
       "      <td>automatic</td>\n",
       "      <td>truck</td>\n",
       "      <td>white</td>\n",
       "      <td>NaN</td>\n",
       "      <td>2018-07-06</td>\n",
       "      <td>0</td>\n",
       "    </tr>\n",
       "    <tr>\n",
       "      <th>12869</th>\n",
       "      <td>21997</td>\n",
       "      <td>2014.0</td>\n",
       "      <td>honda pilot</td>\n",
       "      <td>excellent</td>\n",
       "      <td>6.0</td>\n",
       "      <td>gas</td>\n",
       "      <td>37093.0</td>\n",
       "      <td>automatic</td>\n",
       "      <td>SUV</td>\n",
       "      <td>silver</td>\n",
       "      <td>1.0</td>\n",
       "      <td>2019-03-04</td>\n",
       "      <td>0</td>\n",
       "    </tr>\n",
       "    <tr>\n",
       "      <th>14088</th>\n",
       "      <td>10500</td>\n",
       "      <td>2005.0</td>\n",
       "      <td>gmc sierra 1500</td>\n",
       "      <td>excellent</td>\n",
       "      <td>8.0</td>\n",
       "      <td>gas</td>\n",
       "      <td>NaN</td>\n",
       "      <td>automatic</td>\n",
       "      <td>pickup</td>\n",
       "      <td>black</td>\n",
       "      <td>1.0</td>\n",
       "      <td>2019-02-06</td>\n",
       "      <td>0</td>\n",
       "    </tr>\n",
       "    <tr>\n",
       "      <th>14446</th>\n",
       "      <td>17995</td>\n",
       "      <td>2011.0</td>\n",
       "      <td>ford f250</td>\n",
       "      <td>good</td>\n",
       "      <td>8.0</td>\n",
       "      <td>gas</td>\n",
       "      <td>75465.0</td>\n",
       "      <td>automatic</td>\n",
       "      <td>truck</td>\n",
       "      <td>white</td>\n",
       "      <td>1.0</td>\n",
       "      <td>2018-09-09</td>\n",
       "      <td>0</td>\n",
       "    </tr>\n",
       "    <tr>\n",
       "      <th>16046</th>\n",
       "      <td>8200</td>\n",
       "      <td>2014.0</td>\n",
       "      <td>honda accord</td>\n",
       "      <td>excellent</td>\n",
       "      <td>4.0</td>\n",
       "      <td>gas</td>\n",
       "      <td>121000.0</td>\n",
       "      <td>automatic</td>\n",
       "      <td>sedan</td>\n",
       "      <td>silver</td>\n",
       "      <td>NaN</td>\n",
       "      <td>2018-05-31</td>\n",
       "      <td>0</td>\n",
       "    </tr>\n",
       "    <tr>\n",
       "      <th>16138</th>\n",
       "      <td>3650</td>\n",
       "      <td>2013.0</td>\n",
       "      <td>kia soul</td>\n",
       "      <td>good</td>\n",
       "      <td>4.0</td>\n",
       "      <td>gas</td>\n",
       "      <td>NaN</td>\n",
       "      <td>manual</td>\n",
       "      <td>hatchback</td>\n",
       "      <td>grey</td>\n",
       "      <td>NaN</td>\n",
       "      <td>2019-01-27</td>\n",
       "      <td>0</td>\n",
       "    </tr>\n",
       "    <tr>\n",
       "      <th>16210</th>\n",
       "      <td>13995</td>\n",
       "      <td>2008.0</td>\n",
       "      <td>toyota 4runner</td>\n",
       "      <td>excellent</td>\n",
       "      <td>6.0</td>\n",
       "      <td>gas</td>\n",
       "      <td>NaN</td>\n",
       "      <td>automatic</td>\n",
       "      <td>SUV</td>\n",
       "      <td>NaN</td>\n",
       "      <td>1.0</td>\n",
       "      <td>2018-07-17</td>\n",
       "      <td>0</td>\n",
       "    </tr>\n",
       "    <tr>\n",
       "      <th>16612</th>\n",
       "      <td>11900</td>\n",
       "      <td>NaN</td>\n",
       "      <td>ford f250 super duty</td>\n",
       "      <td>good</td>\n",
       "      <td>8.0</td>\n",
       "      <td>gas</td>\n",
       "      <td>120971.0</td>\n",
       "      <td>automatic</td>\n",
       "      <td>pickup</td>\n",
       "      <td>white</td>\n",
       "      <td>NaN</td>\n",
       "      <td>2018-06-18</td>\n",
       "      <td>0</td>\n",
       "    </tr>\n",
       "    <tr>\n",
       "      <th>17339</th>\n",
       "      <td>7800</td>\n",
       "      <td>2009.0</td>\n",
       "      <td>gmc sierra</td>\n",
       "      <td>excellent</td>\n",
       "      <td>6.0</td>\n",
       "      <td>gas</td>\n",
       "      <td>142000.0</td>\n",
       "      <td>automatic</td>\n",
       "      <td>truck</td>\n",
       "      <td>red</td>\n",
       "      <td>NaN</td>\n",
       "      <td>2018-07-05</td>\n",
       "      <td>0</td>\n",
       "    </tr>\n",
       "    <tr>\n",
       "      <th>17944</th>\n",
       "      <td>14995</td>\n",
       "      <td>NaN</td>\n",
       "      <td>ford f350 super duty</td>\n",
       "      <td>excellent</td>\n",
       "      <td>8.0</td>\n",
       "      <td>gas</td>\n",
       "      <td>126650.0</td>\n",
       "      <td>automatic</td>\n",
       "      <td>truck</td>\n",
       "      <td>white</td>\n",
       "      <td>NaN</td>\n",
       "      <td>2019-03-15</td>\n",
       "      <td>0</td>\n",
       "    </tr>\n",
       "    <tr>\n",
       "      <th>19070</th>\n",
       "      <td>29999</td>\n",
       "      <td>2011.0</td>\n",
       "      <td>ford econoline</td>\n",
       "      <td>like new</td>\n",
       "      <td>10.0</td>\n",
       "      <td>gas</td>\n",
       "      <td>117000.0</td>\n",
       "      <td>automatic</td>\n",
       "      <td>van</td>\n",
       "      <td>white</td>\n",
       "      <td>NaN</td>\n",
       "      <td>2018-08-07</td>\n",
       "      <td>0</td>\n",
       "    </tr>\n",
       "    <tr>\n",
       "      <th>20817</th>\n",
       "      <td>11886</td>\n",
       "      <td>2017.0</td>\n",
       "      <td>ford fusion se</td>\n",
       "      <td>excellent</td>\n",
       "      <td>4.0</td>\n",
       "      <td>gas</td>\n",
       "      <td>72000.0</td>\n",
       "      <td>automatic</td>\n",
       "      <td>sedan</td>\n",
       "      <td>NaN</td>\n",
       "      <td>NaN</td>\n",
       "      <td>2018-10-16</td>\n",
       "      <td>0</td>\n",
       "    </tr>\n",
       "    <tr>\n",
       "      <th>21253</th>\n",
       "      <td>16995</td>\n",
       "      <td>NaN</td>\n",
       "      <td>dodge grand caravan</td>\n",
       "      <td>excellent</td>\n",
       "      <td>6.0</td>\n",
       "      <td>gas</td>\n",
       "      <td>45677.0</td>\n",
       "      <td>automatic</td>\n",
       "      <td>van</td>\n",
       "      <td>grey</td>\n",
       "      <td>NaN</td>\n",
       "      <td>2018-09-02</td>\n",
       "      <td>0</td>\n",
       "    </tr>\n",
       "    <tr>\n",
       "      <th>21840</th>\n",
       "      <td>2950</td>\n",
       "      <td>NaN</td>\n",
       "      <td>chevrolet malibu</td>\n",
       "      <td>good</td>\n",
       "      <td>4.0</td>\n",
       "      <td>gas</td>\n",
       "      <td>140000.0</td>\n",
       "      <td>automatic</td>\n",
       "      <td>sedan</td>\n",
       "      <td>NaN</td>\n",
       "      <td>NaN</td>\n",
       "      <td>2018-08-27</td>\n",
       "      <td>0</td>\n",
       "    </tr>\n",
       "    <tr>\n",
       "      <th>23195</th>\n",
       "      <td>7995</td>\n",
       "      <td>2013.0</td>\n",
       "      <td>toyota corolla</td>\n",
       "      <td>excellent</td>\n",
       "      <td>4.0</td>\n",
       "      <td>gas</td>\n",
       "      <td>102466.0</td>\n",
       "      <td>automatic</td>\n",
       "      <td>sedan</td>\n",
       "      <td>silver</td>\n",
       "      <td>NaN</td>\n",
       "      <td>2019-03-09</td>\n",
       "      <td>0</td>\n",
       "    </tr>\n",
       "    <tr>\n",
       "      <th>24144</th>\n",
       "      <td>39900</td>\n",
       "      <td>2018.0</td>\n",
       "      <td>toyota highlander</td>\n",
       "      <td>excellent</td>\n",
       "      <td>6.0</td>\n",
       "      <td>gas</td>\n",
       "      <td>7985.0</td>\n",
       "      <td>automatic</td>\n",
       "      <td>SUV</td>\n",
       "      <td>NaN</td>\n",
       "      <td>1.0</td>\n",
       "      <td>2018-05-20</td>\n",
       "      <td>0</td>\n",
       "    </tr>\n",
       "    <tr>\n",
       "      <th>25292</th>\n",
       "      <td>9950</td>\n",
       "      <td>2008.0</td>\n",
       "      <td>toyota tundra</td>\n",
       "      <td>good</td>\n",
       "      <td>6.0</td>\n",
       "      <td>gas</td>\n",
       "      <td>229000.0</td>\n",
       "      <td>automatic</td>\n",
       "      <td>truck</td>\n",
       "      <td>red</td>\n",
       "      <td>NaN</td>\n",
       "      <td>2019-04-16</td>\n",
       "      <td>0</td>\n",
       "    </tr>\n",
       "    <tr>\n",
       "      <th>26814</th>\n",
       "      <td>9995</td>\n",
       "      <td>2006.0</td>\n",
       "      <td>ram 1500</td>\n",
       "      <td>excellent</td>\n",
       "      <td>8.0</td>\n",
       "      <td>gas</td>\n",
       "      <td>101750.0</td>\n",
       "      <td>automatic</td>\n",
       "      <td>truck</td>\n",
       "      <td>black</td>\n",
       "      <td>1.0</td>\n",
       "      <td>2018-08-11</td>\n",
       "      <td>0</td>\n",
       "    </tr>\n",
       "    <tr>\n",
       "      <th>26876</th>\n",
       "      <td>8950</td>\n",
       "      <td>2005.0</td>\n",
       "      <td>chevrolet silverado 1500</td>\n",
       "      <td>good</td>\n",
       "      <td>8.0</td>\n",
       "      <td>gas</td>\n",
       "      <td>175788.0</td>\n",
       "      <td>automatic</td>\n",
       "      <td>truck</td>\n",
       "      <td>custom</td>\n",
       "      <td>1.0</td>\n",
       "      <td>2019-02-09</td>\n",
       "      <td>0</td>\n",
       "    </tr>\n",
       "    <tr>\n",
       "      <th>27137</th>\n",
       "      <td>10995</td>\n",
       "      <td>2010.0</td>\n",
       "      <td>chevrolet silverado 1500</td>\n",
       "      <td>good</td>\n",
       "      <td>8.0</td>\n",
       "      <td>gas</td>\n",
       "      <td>165178.0</td>\n",
       "      <td>automatic</td>\n",
       "      <td>truck</td>\n",
       "      <td>grey</td>\n",
       "      <td>1.0</td>\n",
       "      <td>2019-03-18</td>\n",
       "      <td>0</td>\n",
       "    </tr>\n",
       "    <tr>\n",
       "      <th>27833</th>\n",
       "      <td>2900</td>\n",
       "      <td>2009.0</td>\n",
       "      <td>honda civic</td>\n",
       "      <td>excellent</td>\n",
       "      <td>4.0</td>\n",
       "      <td>gas</td>\n",
       "      <td>190222.0</td>\n",
       "      <td>automatic</td>\n",
       "      <td>sedan</td>\n",
       "      <td>silver</td>\n",
       "      <td>NaN</td>\n",
       "      <td>2018-12-17</td>\n",
       "      <td>0</td>\n",
       "    </tr>\n",
       "    <tr>\n",
       "      <th>29377</th>\n",
       "      <td>9450</td>\n",
       "      <td>2014.0</td>\n",
       "      <td>kia sorento</td>\n",
       "      <td>excellent</td>\n",
       "      <td>4.0</td>\n",
       "      <td>gas</td>\n",
       "      <td>91776.0</td>\n",
       "      <td>automatic</td>\n",
       "      <td>SUV</td>\n",
       "      <td>silver</td>\n",
       "      <td>1.0</td>\n",
       "      <td>2018-08-27</td>\n",
       "      <td>0</td>\n",
       "    </tr>\n",
       "    <tr>\n",
       "      <th>30207</th>\n",
       "      <td>9995</td>\n",
       "      <td>2006.0</td>\n",
       "      <td>chevrolet silverado 1500</td>\n",
       "      <td>excellent</td>\n",
       "      <td>NaN</td>\n",
       "      <td>gas</td>\n",
       "      <td>115000.0</td>\n",
       "      <td>automatic</td>\n",
       "      <td>pickup</td>\n",
       "      <td>grey</td>\n",
       "      <td>1.0</td>\n",
       "      <td>2019-04-11</td>\n",
       "      <td>0</td>\n",
       "    </tr>\n",
       "    <tr>\n",
       "      <th>30668</th>\n",
       "      <td>14995</td>\n",
       "      <td>2010.0</td>\n",
       "      <td>jeep wrangler unlimited</td>\n",
       "      <td>good</td>\n",
       "      <td>6.0</td>\n",
       "      <td>gas</td>\n",
       "      <td>162.0</td>\n",
       "      <td>automatic</td>\n",
       "      <td>convertible</td>\n",
       "      <td>silver</td>\n",
       "      <td>1.0</td>\n",
       "      <td>2018-07-13</td>\n",
       "      <td>0</td>\n",
       "    </tr>\n",
       "    <tr>\n",
       "      <th>31268</th>\n",
       "      <td>26900</td>\n",
       "      <td>2014.0</td>\n",
       "      <td>chevrolet silverado 1500 crew</td>\n",
       "      <td>good</td>\n",
       "      <td>8.0</td>\n",
       "      <td>gas</td>\n",
       "      <td>68607.0</td>\n",
       "      <td>automatic</td>\n",
       "      <td>pickup</td>\n",
       "      <td>black</td>\n",
       "      <td>1.0</td>\n",
       "      <td>2018-12-31</td>\n",
       "      <td>0</td>\n",
       "    </tr>\n",
       "    <tr>\n",
       "      <th>31370</th>\n",
       "      <td>6200</td>\n",
       "      <td>2014.0</td>\n",
       "      <td>volkswagen jetta</td>\n",
       "      <td>like new</td>\n",
       "      <td>4.0</td>\n",
       "      <td>gas</td>\n",
       "      <td>54000.0</td>\n",
       "      <td>manual</td>\n",
       "      <td>sedan</td>\n",
       "      <td>NaN</td>\n",
       "      <td>NaN</td>\n",
       "      <td>2018-09-03</td>\n",
       "      <td>0</td>\n",
       "    </tr>\n",
       "    <tr>\n",
       "      <th>32377</th>\n",
       "      <td>12500</td>\n",
       "      <td>2013.0</td>\n",
       "      <td>chrysler town &amp; country</td>\n",
       "      <td>like new</td>\n",
       "      <td>6.0</td>\n",
       "      <td>gas</td>\n",
       "      <td>63778.0</td>\n",
       "      <td>automatic</td>\n",
       "      <td>mini-van</td>\n",
       "      <td>NaN</td>\n",
       "      <td>NaN</td>\n",
       "      <td>2018-09-23</td>\n",
       "      <td>0</td>\n",
       "    </tr>\n",
       "    <tr>\n",
       "      <th>33873</th>\n",
       "      <td>6995</td>\n",
       "      <td>2009.0</td>\n",
       "      <td>gmc acadia</td>\n",
       "      <td>good</td>\n",
       "      <td>6.0</td>\n",
       "      <td>gas</td>\n",
       "      <td>177676.0</td>\n",
       "      <td>automatic</td>\n",
       "      <td>SUV</td>\n",
       "      <td>custom</td>\n",
       "      <td>NaN</td>\n",
       "      <td>2018-09-16</td>\n",
       "      <td>0</td>\n",
       "    </tr>\n",
       "    <tr>\n",
       "      <th>35605</th>\n",
       "      <td>1500</td>\n",
       "      <td>1992.0</td>\n",
       "      <td>honda accord</td>\n",
       "      <td>good</td>\n",
       "      <td>4.0</td>\n",
       "      <td>gas</td>\n",
       "      <td>239199.0</td>\n",
       "      <td>automatic</td>\n",
       "      <td>sedan</td>\n",
       "      <td>red</td>\n",
       "      <td>NaN</td>\n",
       "      <td>2018-08-02</td>\n",
       "      <td>0</td>\n",
       "    </tr>\n",
       "    <tr>\n",
       "      <th>36265</th>\n",
       "      <td>24500</td>\n",
       "      <td>2018.0</td>\n",
       "      <td>chevrolet silverado</td>\n",
       "      <td>excellent</td>\n",
       "      <td>NaN</td>\n",
       "      <td>gas</td>\n",
       "      <td>30000.0</td>\n",
       "      <td>automatic</td>\n",
       "      <td>pickup</td>\n",
       "      <td>silver</td>\n",
       "      <td>1.0</td>\n",
       "      <td>2019-01-21</td>\n",
       "      <td>0</td>\n",
       "    </tr>\n",
       "    <tr>\n",
       "      <th>38822</th>\n",
       "      <td>17495</td>\n",
       "      <td>2018.0</td>\n",
       "      <td>chevrolet malibu</td>\n",
       "      <td>like new</td>\n",
       "      <td>NaN</td>\n",
       "      <td>gas</td>\n",
       "      <td>16505.0</td>\n",
       "      <td>automatic</td>\n",
       "      <td>sedan</td>\n",
       "      <td>white</td>\n",
       "      <td>NaN</td>\n",
       "      <td>2018-06-12</td>\n",
       "      <td>0</td>\n",
       "    </tr>\n",
       "    <tr>\n",
       "      <th>39040</th>\n",
       "      <td>1900</td>\n",
       "      <td>2005.0</td>\n",
       "      <td>toyota prius</td>\n",
       "      <td>fair</td>\n",
       "      <td>4.0</td>\n",
       "      <td>gas</td>\n",
       "      <td>NaN</td>\n",
       "      <td>automatic</td>\n",
       "      <td>hatchback</td>\n",
       "      <td>grey</td>\n",
       "      <td>NaN</td>\n",
       "      <td>2018-05-29</td>\n",
       "      <td>0</td>\n",
       "    </tr>\n",
       "    <tr>\n",
       "      <th>39304</th>\n",
       "      <td>21100</td>\n",
       "      <td>2017.0</td>\n",
       "      <td>chevrolet camaro lt coupe 2d</td>\n",
       "      <td>good</td>\n",
       "      <td>6.0</td>\n",
       "      <td>gas</td>\n",
       "      <td>24510.0</td>\n",
       "      <td>other</td>\n",
       "      <td>coupe</td>\n",
       "      <td>red</td>\n",
       "      <td>NaN</td>\n",
       "      <td>2019-03-23</td>\n",
       "      <td>0</td>\n",
       "    </tr>\n",
       "    <tr>\n",
       "      <th>40101</th>\n",
       "      <td>5995</td>\n",
       "      <td>2003.0</td>\n",
       "      <td>jeep grand cherokee laredo</td>\n",
       "      <td>good</td>\n",
       "      <td>6.0</td>\n",
       "      <td>gas</td>\n",
       "      <td>137252.0</td>\n",
       "      <td>automatic</td>\n",
       "      <td>SUV</td>\n",
       "      <td>blue</td>\n",
       "      <td>1.0</td>\n",
       "      <td>2018-07-31</td>\n",
       "      <td>0</td>\n",
       "    </tr>\n",
       "    <tr>\n",
       "      <th>41369</th>\n",
       "      <td>2200</td>\n",
       "      <td>2000.0</td>\n",
       "      <td>toyota sienna</td>\n",
       "      <td>like new</td>\n",
       "      <td>6.0</td>\n",
       "      <td>gas</td>\n",
       "      <td>152600.0</td>\n",
       "      <td>automatic</td>\n",
       "      <td>van</td>\n",
       "      <td>custom</td>\n",
       "      <td>NaN</td>\n",
       "      <td>2018-11-30</td>\n",
       "      <td>0</td>\n",
       "    </tr>\n",
       "    <tr>\n",
       "      <th>41940</th>\n",
       "      <td>1800</td>\n",
       "      <td>2002.0</td>\n",
       "      <td>honda civic</td>\n",
       "      <td>good</td>\n",
       "      <td>4.0</td>\n",
       "      <td>gas</td>\n",
       "      <td>238155.0</td>\n",
       "      <td>automatic</td>\n",
       "      <td>sedan</td>\n",
       "      <td>silver</td>\n",
       "      <td>NaN</td>\n",
       "      <td>2018-09-28</td>\n",
       "      <td>0</td>\n",
       "    </tr>\n",
       "    <tr>\n",
       "      <th>43581</th>\n",
       "      <td>12900</td>\n",
       "      <td>1987.0</td>\n",
       "      <td>chevrolet camaro</td>\n",
       "      <td>excellent</td>\n",
       "      <td>8.0</td>\n",
       "      <td>gas</td>\n",
       "      <td>107000.0</td>\n",
       "      <td>manual</td>\n",
       "      <td>coupe</td>\n",
       "      <td>black</td>\n",
       "      <td>NaN</td>\n",
       "      <td>2018-07-30</td>\n",
       "      <td>0</td>\n",
       "    </tr>\n",
       "    <tr>\n",
       "      <th>43590</th>\n",
       "      <td>2800</td>\n",
       "      <td>2003.0</td>\n",
       "      <td>ford mustang</td>\n",
       "      <td>fair</td>\n",
       "      <td>6.0</td>\n",
       "      <td>gas</td>\n",
       "      <td>181000.0</td>\n",
       "      <td>automatic</td>\n",
       "      <td>coupe</td>\n",
       "      <td>silver</td>\n",
       "      <td>NaN</td>\n",
       "      <td>2018-10-23</td>\n",
       "      <td>0</td>\n",
       "    </tr>\n",
       "    <tr>\n",
       "      <th>44083</th>\n",
       "      <td>28699</td>\n",
       "      <td>2013.0</td>\n",
       "      <td>jeep wrangler unlimited</td>\n",
       "      <td>like new</td>\n",
       "      <td>6.0</td>\n",
       "      <td>gas</td>\n",
       "      <td>34000.0</td>\n",
       "      <td>automatic</td>\n",
       "      <td>SUV</td>\n",
       "      <td>white</td>\n",
       "      <td>1.0</td>\n",
       "      <td>2018-08-12</td>\n",
       "      <td>0</td>\n",
       "    </tr>\n",
       "    <tr>\n",
       "      <th>44942</th>\n",
       "      <td>7600</td>\n",
       "      <td>2017.0</td>\n",
       "      <td>hyundai elantra</td>\n",
       "      <td>excellent</td>\n",
       "      <td>4.0</td>\n",
       "      <td>gas</td>\n",
       "      <td>NaN</td>\n",
       "      <td>automatic</td>\n",
       "      <td>sedan</td>\n",
       "      <td>blue</td>\n",
       "      <td>NaN</td>\n",
       "      <td>2018-10-30</td>\n",
       "      <td>0</td>\n",
       "    </tr>\n",
       "    <tr>\n",
       "      <th>48843</th>\n",
       "      <td>12000</td>\n",
       "      <td>2015.0</td>\n",
       "      <td>toyota rav4</td>\n",
       "      <td>excellent</td>\n",
       "      <td>NaN</td>\n",
       "      <td>gas</td>\n",
       "      <td>116000.0</td>\n",
       "      <td>automatic</td>\n",
       "      <td>hatchback</td>\n",
       "      <td>blue</td>\n",
       "      <td>1.0</td>\n",
       "      <td>2018-08-19</td>\n",
       "      <td>0</td>\n",
       "    </tr>\n",
       "    <tr>\n",
       "      <th>51359</th>\n",
       "      <td>2999</td>\n",
       "      <td>2004.0</td>\n",
       "      <td>ford taurus</td>\n",
       "      <td>good</td>\n",
       "      <td>6.0</td>\n",
       "      <td>gas</td>\n",
       "      <td>136000.0</td>\n",
       "      <td>automatic</td>\n",
       "      <td>sedan</td>\n",
       "      <td>NaN</td>\n",
       "      <td>NaN</td>\n",
       "      <td>2018-10-22</td>\n",
       "      <td>0</td>\n",
       "    </tr>\n",
       "  </tbody>\n",
       "</table>\n",
       "</div>"
      ],
      "text/plain": [
       "       price  model_year                          model  condition  cylinders  \\\n",
       "1247   14995      2008.0       chevrolet silverado 1500  excellent        8.0   \n",
       "1711   59589      2019.0     chevrolet silverado 2500hd  excellent        8.0   \n",
       "1983   14000      1999.0                      ford f250  excellent        8.0   \n",
       "2883    4000      2004.0                       ram 1500  excellent        8.0   \n",
       "3965   16750      1985.0             chevrolet corvette   like new        8.0   \n",
       "4567    5000      2007.0                 toyota corolla       good        4.0   \n",
       "4901   12500      2001.0                       ram 1500       good        8.0   \n",
       "6114     500      2003.0                   dodge dakota       fair        6.0   \n",
       "6548    4800      2007.0                  honda odyssey       good        6.0   \n",
       "7036    5900      2007.0     jeep grand cherokee laredo  excellent        6.0   \n",
       "9607    4999      2012.0                  nissan sentra  excellent        4.0   \n",
       "9732   15000      2003.0                     ford f-150       good        NaN   \n",
       "10722   3100      2000.0            chevrolet silverado       good        NaN   \n",
       "12869  21997      2014.0                    honda pilot  excellent        6.0   \n",
       "14088  10500      2005.0                gmc sierra 1500  excellent        8.0   \n",
       "14446  17995      2011.0                      ford f250       good        8.0   \n",
       "16046   8200      2014.0                   honda accord  excellent        4.0   \n",
       "16138   3650      2013.0                       kia soul       good        4.0   \n",
       "16210  13995      2008.0                 toyota 4runner  excellent        6.0   \n",
       "16612  11900         NaN           ford f250 super duty       good        8.0   \n",
       "17339   7800      2009.0                     gmc sierra  excellent        6.0   \n",
       "17944  14995         NaN           ford f350 super duty  excellent        8.0   \n",
       "19070  29999      2011.0                 ford econoline   like new       10.0   \n",
       "20817  11886      2017.0                 ford fusion se  excellent        4.0   \n",
       "21253  16995         NaN            dodge grand caravan  excellent        6.0   \n",
       "21840   2950         NaN               chevrolet malibu       good        4.0   \n",
       "23195   7995      2013.0                 toyota corolla  excellent        4.0   \n",
       "24144  39900      2018.0              toyota highlander  excellent        6.0   \n",
       "25292   9950      2008.0                  toyota tundra       good        6.0   \n",
       "26814   9995      2006.0                       ram 1500  excellent        8.0   \n",
       "26876   8950      2005.0       chevrolet silverado 1500       good        8.0   \n",
       "27137  10995      2010.0       chevrolet silverado 1500       good        8.0   \n",
       "27833   2900      2009.0                    honda civic  excellent        4.0   \n",
       "29377   9450      2014.0                    kia sorento  excellent        4.0   \n",
       "30207   9995      2006.0       chevrolet silverado 1500  excellent        NaN   \n",
       "30668  14995      2010.0        jeep wrangler unlimited       good        6.0   \n",
       "31268  26900      2014.0  chevrolet silverado 1500 crew       good        8.0   \n",
       "31370   6200      2014.0               volkswagen jetta   like new        4.0   \n",
       "32377  12500      2013.0        chrysler town & country   like new        6.0   \n",
       "33873   6995      2009.0                     gmc acadia       good        6.0   \n",
       "35605   1500      1992.0                   honda accord       good        4.0   \n",
       "36265  24500      2018.0            chevrolet silverado  excellent        NaN   \n",
       "38822  17495      2018.0               chevrolet malibu   like new        NaN   \n",
       "39040   1900      2005.0                   toyota prius       fair        4.0   \n",
       "39304  21100      2017.0   chevrolet camaro lt coupe 2d       good        6.0   \n",
       "40101   5995      2003.0     jeep grand cherokee laredo       good        6.0   \n",
       "41369   2200      2000.0                  toyota sienna   like new        6.0   \n",
       "41940   1800      2002.0                    honda civic       good        4.0   \n",
       "43581  12900      1987.0               chevrolet camaro  excellent        8.0   \n",
       "43590   2800      2003.0                   ford mustang       fair        6.0   \n",
       "44083  28699      2013.0        jeep wrangler unlimited   like new        6.0   \n",
       "44942   7600      2017.0                hyundai elantra  excellent        4.0   \n",
       "48843  12000      2015.0                    toyota rav4  excellent        NaN   \n",
       "51359   2999      2004.0                    ford taurus       good        6.0   \n",
       "\n",
       "         fuel  odometer transmission         type paint_color  is_4wd  \\\n",
       "1247      gas   93300.0    automatic        truck        grey     1.0   \n",
       "1711   diesel       NaN    automatic        truck       white     1.0   \n",
       "1983   diesel  137500.0    automatic        truck         red     1.0   \n",
       "2883      gas  250000.0    automatic        truck       brown     1.0   \n",
       "3965      gas   24540.0    automatic    hatchback       white     NaN   \n",
       "4567      gas  223000.0       manual        sedan      silver     NaN   \n",
       "4901      gas   99892.0    automatic        truck       black     1.0   \n",
       "6114      gas  215457.0    automatic       pickup         NaN     NaN   \n",
       "6548      gas  152400.0    automatic     mini-van       brown     NaN   \n",
       "7036      gas       NaN    automatic          SUV        grey     1.0   \n",
       "9607      gas  125000.0    automatic        sedan      silver     NaN   \n",
       "9732      gas   90048.0    automatic        truck       black     NaN   \n",
       "10722     gas  211000.0    automatic        truck       white     NaN   \n",
       "12869     gas   37093.0    automatic          SUV      silver     1.0   \n",
       "14088     gas       NaN    automatic       pickup       black     1.0   \n",
       "14446     gas   75465.0    automatic        truck       white     1.0   \n",
       "16046     gas  121000.0    automatic        sedan      silver     NaN   \n",
       "16138     gas       NaN       manual    hatchback        grey     NaN   \n",
       "16210     gas       NaN    automatic          SUV         NaN     1.0   \n",
       "16612     gas  120971.0    automatic       pickup       white     NaN   \n",
       "17339     gas  142000.0    automatic        truck         red     NaN   \n",
       "17944     gas  126650.0    automatic        truck       white     NaN   \n",
       "19070     gas  117000.0    automatic          van       white     NaN   \n",
       "20817     gas   72000.0    automatic        sedan         NaN     NaN   \n",
       "21253     gas   45677.0    automatic          van        grey     NaN   \n",
       "21840     gas  140000.0    automatic        sedan         NaN     NaN   \n",
       "23195     gas  102466.0    automatic        sedan      silver     NaN   \n",
       "24144     gas    7985.0    automatic          SUV         NaN     1.0   \n",
       "25292     gas  229000.0    automatic        truck         red     NaN   \n",
       "26814     gas  101750.0    automatic        truck       black     1.0   \n",
       "26876     gas  175788.0    automatic        truck      custom     1.0   \n",
       "27137     gas  165178.0    automatic        truck        grey     1.0   \n",
       "27833     gas  190222.0    automatic        sedan      silver     NaN   \n",
       "29377     gas   91776.0    automatic          SUV      silver     1.0   \n",
       "30207     gas  115000.0    automatic       pickup        grey     1.0   \n",
       "30668     gas     162.0    automatic  convertible      silver     1.0   \n",
       "31268     gas   68607.0    automatic       pickup       black     1.0   \n",
       "31370     gas   54000.0       manual        sedan         NaN     NaN   \n",
       "32377     gas   63778.0    automatic     mini-van         NaN     NaN   \n",
       "33873     gas  177676.0    automatic          SUV      custom     NaN   \n",
       "35605     gas  239199.0    automatic        sedan         red     NaN   \n",
       "36265     gas   30000.0    automatic       pickup      silver     1.0   \n",
       "38822     gas   16505.0    automatic        sedan       white     NaN   \n",
       "39040     gas       NaN    automatic    hatchback        grey     NaN   \n",
       "39304     gas   24510.0        other        coupe         red     NaN   \n",
       "40101     gas  137252.0    automatic          SUV        blue     1.0   \n",
       "41369     gas  152600.0    automatic          van      custom     NaN   \n",
       "41940     gas  238155.0    automatic        sedan      silver     NaN   \n",
       "43581     gas  107000.0       manual        coupe       black     NaN   \n",
       "43590     gas  181000.0    automatic        coupe      silver     NaN   \n",
       "44083     gas   34000.0    automatic          SUV       white     1.0   \n",
       "44942     gas       NaN    automatic        sedan        blue     NaN   \n",
       "48843     gas  116000.0    automatic    hatchback        blue     1.0   \n",
       "51359     gas  136000.0    automatic        sedan         NaN     NaN   \n",
       "\n",
       "      date_posted  days_listed  \n",
       "1247   2018-05-15            0  \n",
       "1711   2019-01-13            0  \n",
       "1983   2018-09-27            0  \n",
       "2883   2018-08-13            0  \n",
       "3965   2018-10-14            0  \n",
       "4567   2018-07-11            0  \n",
       "4901   2018-05-11            0  \n",
       "6114   2018-10-31            0  \n",
       "6548   2018-09-25            0  \n",
       "7036   2018-07-21            0  \n",
       "9607   2019-03-26            0  \n",
       "9732   2018-09-21            0  \n",
       "10722  2018-07-06            0  \n",
       "12869  2019-03-04            0  \n",
       "14088  2019-02-06            0  \n",
       "14446  2018-09-09            0  \n",
       "16046  2018-05-31            0  \n",
       "16138  2019-01-27            0  \n",
       "16210  2018-07-17            0  \n",
       "16612  2018-06-18            0  \n",
       "17339  2018-07-05            0  \n",
       "17944  2019-03-15            0  \n",
       "19070  2018-08-07            0  \n",
       "20817  2018-10-16            0  \n",
       "21253  2018-09-02            0  \n",
       "21840  2018-08-27            0  \n",
       "23195  2019-03-09            0  \n",
       "24144  2018-05-20            0  \n",
       "25292  2019-04-16            0  \n",
       "26814  2018-08-11            0  \n",
       "26876  2019-02-09            0  \n",
       "27137  2019-03-18            0  \n",
       "27833  2018-12-17            0  \n",
       "29377  2018-08-27            0  \n",
       "30207  2019-04-11            0  \n",
       "30668  2018-07-13            0  \n",
       "31268  2018-12-31            0  \n",
       "31370  2018-09-03            0  \n",
       "32377  2018-09-23            0  \n",
       "33873  2018-09-16            0  \n",
       "35605  2018-08-02            0  \n",
       "36265  2019-01-21            0  \n",
       "38822  2018-06-12            0  \n",
       "39040  2018-05-29            0  \n",
       "39304  2019-03-23            0  \n",
       "40101  2018-07-31            0  \n",
       "41369  2018-11-30            0  \n",
       "41940  2018-09-28            0  \n",
       "43581  2018-07-30            0  \n",
       "43590  2018-10-23            0  \n",
       "44083  2018-08-12            0  \n",
       "44942  2018-10-30            0  \n",
       "48843  2018-08-19            0  \n",
       "51359  2018-10-22            0  "
      ]
     },
     "execution_count": 223,
     "metadata": {},
     "output_type": "execute_result"
    }
   ],
   "source": [
    "anuncios[anuncios[\"days_listed\"]==0]"
   ]
  },
  {
   "cell_type": "code",
   "execution_count": 224,
   "metadata": {},
   "outputs": [
    {
     "data": {
      "text/plain": [
       "0.10480349344978165"
      ]
     },
     "execution_count": 224,
     "metadata": {},
     "output_type": "execute_result"
    }
   ],
   "source": [
    "porc_cero_days=(54/51525)*100\n",
    "porc_cero_days"
   ]
  },
  {
   "cell_type": "markdown",
   "metadata": {},
   "source": [
    "El porcentaje de datos en los que el valor de days_listed es igual a cero es menor al 1% (0.1%), éstos valores pueden atribuirse a los vehículos que aún no han sido publicados, por lo cual se decide no reemplazar éstos valores."
   ]
  },
  {
   "cell_type": "markdown",
   "metadata": {},
   "source": [
    "### Conclusiones y siguientes pasos"
   ]
  },
  {
   "cell_type": "markdown",
   "metadata": {},
   "source": [
    "Deben abordarse los datos ausentes de cada una de las columnas, especialmente en la columna \"is_4wd\" (porcentajes de valores ausentes >50%). Los porcentajes de datos ausentes también se consideran altos en las demás columnas donde se identifican datos ausentes porcentajes de valores ausentes >5%). No se encontraron datos duplicados.\n",
    "\n",
    "De acuerdo a las relaciones entre las variables, se requiere elaborar tablas dinámicas que nos relacionen la información entre las columnas y de acuerdo a éstas relaciones rellenar los valores ausentes.\n",
    "\n",
    "Los valores de cero identificados en la columna \"days_listed\", se considera que podrían estar relacionados con los vehículos que aún no se han publicado.\n",
    "\n",
    "En la columna \"odometer\", se encuentran valores de cero, lo cual se considera inconsistente, ya que éstos valores se reportan incluso para los vehículos con modelos antiguos.\n",
    "\n",
    "Hasta el momento, no se identifican valores duplicados entre los datos.\n",
    "\n",
    "En la columna \"price\", se encuentran valores iguales a 1, lo cual se considera inconsistente.\n",
    "\n",
    "Los tipos de datos para la columna \"date_posted\" deben cambiarse a tipo de dato fecha."
   ]
  },
  {
   "cell_type": "markdown",
   "metadata": {},
   "source": [
    "# Tratar los valores ausentes"
   ]
  },
  {
   "cell_type": "markdown",
   "metadata": {},
   "source": [
    "Se estudian los datos de cada columna por separado, para identificar posibles patrones en los datos y valores atípicos."
   ]
  },
  {
   "cell_type": "markdown",
   "metadata": {},
   "source": [
    "Se revisan datos de la columna **\"is_4wd\"**"
   ]
  },
  {
   "cell_type": "code",
   "execution_count": 225,
   "metadata": {},
   "outputs": [
    {
     "data": {
      "text/plain": [
       "array([ 1., nan])"
      ]
     },
     "execution_count": 225,
     "metadata": {},
     "output_type": "execute_result"
    }
   ],
   "source": [
    "anuncios[\"is_4wd\"].unique()"
   ]
  },
  {
   "cell_type": "markdown",
   "metadata": {},
   "source": [
    "Para el caso de la columna \"is_4wd\", se asume que los datos ausentes corresponden a 0, teniendo en cuenta que ésta columna debería ser de tipo booleano, donde 1 representa los vehículos que si tienen tracción en las cuatro llantas, y 0 representaría a los vehículos que no tienen tracción en las 4 ruedas."
   ]
  },
  {
   "cell_type": "markdown",
   "metadata": {},
   "source": [
    "Los datos NaN en la columna \"is_4wd\", se reemplazan por cero."
   ]
  },
  {
   "cell_type": "code",
   "execution_count": 226,
   "metadata": {},
   "outputs": [],
   "source": [
    "anuncios[\"is_4wd\"]=anuncios[\"is_4wd\"].fillna(0)"
   ]
  },
  {
   "cell_type": "code",
   "execution_count": 227,
   "metadata": {},
   "outputs": [
    {
     "data": {
      "text/plain": [
       "0"
      ]
     },
     "execution_count": 227,
     "metadata": {},
     "output_type": "execute_result"
    }
   ],
   "source": [
    "anuncios[\"is_4wd\"].isna().sum()"
   ]
  },
  {
   "cell_type": "code",
   "execution_count": 228,
   "metadata": {},
   "outputs": [
    {
     "data": {
      "text/plain": [
       "array([1., 0.])"
      ]
     },
     "execution_count": 228,
     "metadata": {},
     "output_type": "execute_result"
    }
   ],
   "source": [
    "anuncios[\"is_4wd\"].unique()"
   ]
  },
  {
   "cell_type": "markdown",
   "metadata": {},
   "source": [
    "Se han rellenado los datos ausentes en la columna \"is_4wd\""
   ]
  },
  {
   "cell_type": "markdown",
   "metadata": {},
   "source": [
    "Se revisan los datos de la columna **paint_color**"
   ]
  },
  {
   "cell_type": "code",
   "execution_count": 229,
   "metadata": {},
   "outputs": [
    {
     "data": {
      "text/plain": [
       "white     10029\n",
       "black      7692\n",
       "silver     6244\n",
       "grey       5037\n",
       "blue       4475\n",
       "red        4421\n",
       "green      1396\n",
       "brown      1223\n",
       "custom     1153\n",
       "yellow      255\n",
       "orange      231\n",
       "purple      102\n",
       "Name: paint_color, dtype: int64"
      ]
     },
     "execution_count": 229,
     "metadata": {},
     "output_type": "execute_result"
    }
   ],
   "source": [
    "anuncios[\"paint_color\"].value_counts()"
   ]
  },
  {
   "cell_type": "code",
   "execution_count": 230,
   "metadata": {},
   "outputs": [],
   "source": [
    "anuncios[\"paint_color\"]=anuncios[\"paint_color\"].fillna(\"desconocido\")"
   ]
  },
  {
   "cell_type": "markdown",
   "metadata": {},
   "source": [
    "Los datos faltantes en la columna \"paint_color\" se reemplazan por \"desconocido\", ya que es dificil saber con exactitud el color al cual puede corresponder cada vehículo."
   ]
  },
  {
   "cell_type": "code",
   "execution_count": 231,
   "metadata": {},
   "outputs": [
    {
     "data": {
      "text/plain": [
       "array(['desconocido', 'white', 'red', 'black', 'blue', 'grey', 'silver',\n",
       "       'custom', 'orange', 'yellow', 'brown', 'green', 'purple'],\n",
       "      dtype=object)"
      ]
     },
     "execution_count": 231,
     "metadata": {},
     "output_type": "execute_result"
    }
   ],
   "source": [
    "anuncios[\"paint_color\"].unique()"
   ]
  },
  {
   "cell_type": "code",
   "execution_count": 232,
   "metadata": {},
   "outputs": [
    {
     "data": {
      "text/plain": [
       "0"
      ]
     },
     "execution_count": 232,
     "metadata": {},
     "output_type": "execute_result"
    }
   ],
   "source": [
    "anuncios[\"paint_color\"].isna().sum()"
   ]
  },
  {
   "cell_type": "markdown",
   "metadata": {},
   "source": [
    "Se revisan los datos de la columna **odometer**, para atender los datos faltantes."
   ]
  },
  {
   "cell_type": "code",
   "execution_count": 233,
   "metadata": {},
   "outputs": [
    {
     "data": {
      "text/plain": [
       "count     43633.000000\n",
       "mean     115553.461738\n",
       "std       65094.611341\n",
       "min           0.000000\n",
       "25%       70000.000000\n",
       "50%      113000.000000\n",
       "75%      155000.000000\n",
       "max      990000.000000\n",
       "Name: odometer, dtype: float64"
      ]
     },
     "execution_count": 233,
     "metadata": {},
     "output_type": "execute_result"
    }
   ],
   "source": [
    "anuncios[\"odometer\"].describe()"
   ]
  },
  {
   "cell_type": "markdown",
   "metadata": {},
   "source": [
    "Se crea una tabla que relacione el kilometraje del vehículo con los tipos de vehículos."
   ]
  },
  {
   "cell_type": "code",
   "execution_count": 234,
   "metadata": {},
   "outputs": [
    {
     "data": {
      "text/html": [
       "<div>\n",
       "<style scoped>\n",
       "    .dataframe tbody tr th:only-of-type {\n",
       "        vertical-align: middle;\n",
       "    }\n",
       "\n",
       "    .dataframe tbody tr th {\n",
       "        vertical-align: top;\n",
       "    }\n",
       "\n",
       "    .dataframe thead th {\n",
       "        text-align: right;\n",
       "    }\n",
       "</style>\n",
       "<table border=\"1\" class=\"dataframe\">\n",
       "  <thead>\n",
       "    <tr style=\"text-align: right;\">\n",
       "      <th></th>\n",
       "      <th>odometer</th>\n",
       "    </tr>\n",
       "    <tr>\n",
       "      <th>condition</th>\n",
       "      <th></th>\n",
       "    </tr>\n",
       "  </thead>\n",
       "  <tbody>\n",
       "    <tr>\n",
       "      <th>excellent</th>\n",
       "      <td>106687.682258</td>\n",
       "    </tr>\n",
       "    <tr>\n",
       "      <th>fair</th>\n",
       "      <td>183062.233577</td>\n",
       "    </tr>\n",
       "    <tr>\n",
       "      <th>good</th>\n",
       "      <td>129919.930980</td>\n",
       "    </tr>\n",
       "    <tr>\n",
       "      <th>like new</th>\n",
       "      <td>79426.738166</td>\n",
       "    </tr>\n",
       "    <tr>\n",
       "      <th>new</th>\n",
       "      <td>43476.056000</td>\n",
       "    </tr>\n",
       "    <tr>\n",
       "      <th>salvage</th>\n",
       "      <td>140919.989796</td>\n",
       "    </tr>\n",
       "  </tbody>\n",
       "</table>\n",
       "</div>"
      ],
      "text/plain": [
       "                odometer\n",
       "condition               \n",
       "excellent  106687.682258\n",
       "fair       183062.233577\n",
       "good       129919.930980\n",
       "like new    79426.738166\n",
       "new         43476.056000\n",
       "salvage    140919.989796"
      ]
     },
     "execution_count": 234,
     "metadata": {},
     "output_type": "execute_result"
    }
   ],
   "source": [
    "data_odometer_condition=anuncios.pivot_table(index=\"condition\",values=\"odometer\",aggfunc=\"mean\")\n",
    "data_odometer_condition"
   ]
  },
  {
   "cell_type": "markdown",
   "metadata": {},
   "source": [
    "Se organizan los datos en orden ascendente, para ser mas visible los tipos de vehículos que presentan mas kilometraje."
   ]
  },
  {
   "cell_type": "code",
   "execution_count": 235,
   "metadata": {},
   "outputs": [
    {
     "data": {
      "text/html": [
       "<div>\n",
       "<style scoped>\n",
       "    .dataframe tbody tr th:only-of-type {\n",
       "        vertical-align: middle;\n",
       "    }\n",
       "\n",
       "    .dataframe tbody tr th {\n",
       "        vertical-align: top;\n",
       "    }\n",
       "\n",
       "    .dataframe thead th {\n",
       "        text-align: right;\n",
       "    }\n",
       "</style>\n",
       "<table border=\"1\" class=\"dataframe\">\n",
       "  <thead>\n",
       "    <tr style=\"text-align: right;\">\n",
       "      <th></th>\n",
       "      <th>odometer</th>\n",
       "    </tr>\n",
       "    <tr>\n",
       "      <th>condition</th>\n",
       "      <th></th>\n",
       "    </tr>\n",
       "  </thead>\n",
       "  <tbody>\n",
       "    <tr>\n",
       "      <th>new</th>\n",
       "      <td>43476.056000</td>\n",
       "    </tr>\n",
       "    <tr>\n",
       "      <th>like new</th>\n",
       "      <td>79426.738166</td>\n",
       "    </tr>\n",
       "    <tr>\n",
       "      <th>excellent</th>\n",
       "      <td>106687.682258</td>\n",
       "    </tr>\n",
       "    <tr>\n",
       "      <th>good</th>\n",
       "      <td>129919.930980</td>\n",
       "    </tr>\n",
       "    <tr>\n",
       "      <th>salvage</th>\n",
       "      <td>140919.989796</td>\n",
       "    </tr>\n",
       "    <tr>\n",
       "      <th>fair</th>\n",
       "      <td>183062.233577</td>\n",
       "    </tr>\n",
       "  </tbody>\n",
       "</table>\n",
       "</div>"
      ],
      "text/plain": [
       "                odometer\n",
       "condition               \n",
       "new         43476.056000\n",
       "like new    79426.738166\n",
       "excellent  106687.682258\n",
       "good       129919.930980\n",
       "salvage    140919.989796\n",
       "fair       183062.233577"
      ]
     },
     "execution_count": 235,
     "metadata": {},
     "output_type": "execute_result"
    }
   ],
   "source": [
    "data_odometer_condition.sort_values(by=\"odometer\",ascending=True)"
   ]
  },
  {
   "cell_type": "markdown",
   "metadata": {},
   "source": [
    "De acuerdo a la tabla que nos relaciona las condiciones de los vehículos con el kilometraje, los vehículos en condición \"nuevo\" presentan menos kilometrajes, y los vehículos en condición \"favorable\", presentan mayores kilometrajes."
   ]
  },
  {
   "cell_type": "markdown",
   "metadata": {},
   "source": [
    "Se crea una tabla que nos relacione los kilometrajes de los vehículos con los precios, para facilitar la manipulación de éstos datos, clasificamos los datos de la columna \"price\"."
   ]
  },
  {
   "cell_type": "code",
   "execution_count": 236,
   "metadata": {},
   "outputs": [],
   "source": [
    "def precios_vehiculos(precio):\n",
    "    if precio < 10000:\n",
    "        return \"valor económico\"\n",
    "    if precio >=10000 and precio <=15000:\n",
    "        return \"valor medio\"\n",
    "    if precio > 15000:\n",
    "        return \"costoso\"\n",
    "    "
   ]
  },
  {
   "cell_type": "code",
   "execution_count": 237,
   "metadata": {},
   "outputs": [
    {
     "name": "stdout",
     "output_type": "stream",
     "text": [
      "valor económico\n",
      "valor medio\n",
      "costoso\n"
     ]
    }
   ],
   "source": [
    "print(precios_vehiculos(9000))\n",
    "print(precios_vehiculos(12000))\n",
    "print(precios_vehiculos(16000))"
   ]
  },
  {
   "cell_type": "code",
   "execution_count": 238,
   "metadata": {},
   "outputs": [
    {
     "data": {
      "text/html": [
       "<div>\n",
       "<style scoped>\n",
       "    .dataframe tbody tr th:only-of-type {\n",
       "        vertical-align: middle;\n",
       "    }\n",
       "\n",
       "    .dataframe tbody tr th {\n",
       "        vertical-align: top;\n",
       "    }\n",
       "\n",
       "    .dataframe thead th {\n",
       "        text-align: right;\n",
       "    }\n",
       "</style>\n",
       "<table border=\"1\" class=\"dataframe\">\n",
       "  <thead>\n",
       "    <tr style=\"text-align: right;\">\n",
       "      <th></th>\n",
       "      <th>price</th>\n",
       "      <th>model_year</th>\n",
       "      <th>model</th>\n",
       "      <th>condition</th>\n",
       "      <th>cylinders</th>\n",
       "      <th>fuel</th>\n",
       "      <th>odometer</th>\n",
       "      <th>transmission</th>\n",
       "      <th>type</th>\n",
       "      <th>paint_color</th>\n",
       "      <th>is_4wd</th>\n",
       "      <th>date_posted</th>\n",
       "      <th>days_listed</th>\n",
       "      <th>precios_vehiculos</th>\n",
       "    </tr>\n",
       "  </thead>\n",
       "  <tbody>\n",
       "    <tr>\n",
       "      <th>0</th>\n",
       "      <td>9400</td>\n",
       "      <td>2011.0</td>\n",
       "      <td>bmw x5</td>\n",
       "      <td>good</td>\n",
       "      <td>6.0</td>\n",
       "      <td>gas</td>\n",
       "      <td>145000.0</td>\n",
       "      <td>automatic</td>\n",
       "      <td>SUV</td>\n",
       "      <td>desconocido</td>\n",
       "      <td>1.0</td>\n",
       "      <td>2018-06-23</td>\n",
       "      <td>19</td>\n",
       "      <td>valor económico</td>\n",
       "    </tr>\n",
       "    <tr>\n",
       "      <th>1</th>\n",
       "      <td>25500</td>\n",
       "      <td>NaN</td>\n",
       "      <td>ford f-150</td>\n",
       "      <td>good</td>\n",
       "      <td>6.0</td>\n",
       "      <td>gas</td>\n",
       "      <td>88705.0</td>\n",
       "      <td>automatic</td>\n",
       "      <td>pickup</td>\n",
       "      <td>white</td>\n",
       "      <td>1.0</td>\n",
       "      <td>2018-10-19</td>\n",
       "      <td>50</td>\n",
       "      <td>costoso</td>\n",
       "    </tr>\n",
       "    <tr>\n",
       "      <th>2</th>\n",
       "      <td>5500</td>\n",
       "      <td>2013.0</td>\n",
       "      <td>hyundai sonata</td>\n",
       "      <td>like new</td>\n",
       "      <td>4.0</td>\n",
       "      <td>gas</td>\n",
       "      <td>110000.0</td>\n",
       "      <td>automatic</td>\n",
       "      <td>sedan</td>\n",
       "      <td>red</td>\n",
       "      <td>0.0</td>\n",
       "      <td>2019-02-07</td>\n",
       "      <td>79</td>\n",
       "      <td>valor económico</td>\n",
       "    </tr>\n",
       "    <tr>\n",
       "      <th>3</th>\n",
       "      <td>1500</td>\n",
       "      <td>2003.0</td>\n",
       "      <td>ford f-150</td>\n",
       "      <td>fair</td>\n",
       "      <td>8.0</td>\n",
       "      <td>gas</td>\n",
       "      <td>NaN</td>\n",
       "      <td>automatic</td>\n",
       "      <td>pickup</td>\n",
       "      <td>desconocido</td>\n",
       "      <td>0.0</td>\n",
       "      <td>2019-03-22</td>\n",
       "      <td>9</td>\n",
       "      <td>valor económico</td>\n",
       "    </tr>\n",
       "    <tr>\n",
       "      <th>4</th>\n",
       "      <td>14900</td>\n",
       "      <td>2017.0</td>\n",
       "      <td>chrysler 200</td>\n",
       "      <td>excellent</td>\n",
       "      <td>4.0</td>\n",
       "      <td>gas</td>\n",
       "      <td>80903.0</td>\n",
       "      <td>automatic</td>\n",
       "      <td>sedan</td>\n",
       "      <td>black</td>\n",
       "      <td>0.0</td>\n",
       "      <td>2019-04-02</td>\n",
       "      <td>28</td>\n",
       "      <td>valor medio</td>\n",
       "    </tr>\n",
       "    <tr>\n",
       "      <th>...</th>\n",
       "      <td>...</td>\n",
       "      <td>...</td>\n",
       "      <td>...</td>\n",
       "      <td>...</td>\n",
       "      <td>...</td>\n",
       "      <td>...</td>\n",
       "      <td>...</td>\n",
       "      <td>...</td>\n",
       "      <td>...</td>\n",
       "      <td>...</td>\n",
       "      <td>...</td>\n",
       "      <td>...</td>\n",
       "      <td>...</td>\n",
       "      <td>...</td>\n",
       "    </tr>\n",
       "    <tr>\n",
       "      <th>51520</th>\n",
       "      <td>9249</td>\n",
       "      <td>2013.0</td>\n",
       "      <td>nissan maxima</td>\n",
       "      <td>like new</td>\n",
       "      <td>6.0</td>\n",
       "      <td>gas</td>\n",
       "      <td>88136.0</td>\n",
       "      <td>automatic</td>\n",
       "      <td>sedan</td>\n",
       "      <td>black</td>\n",
       "      <td>0.0</td>\n",
       "      <td>2018-10-03</td>\n",
       "      <td>37</td>\n",
       "      <td>valor económico</td>\n",
       "    </tr>\n",
       "    <tr>\n",
       "      <th>51521</th>\n",
       "      <td>2700</td>\n",
       "      <td>2002.0</td>\n",
       "      <td>honda civic</td>\n",
       "      <td>salvage</td>\n",
       "      <td>4.0</td>\n",
       "      <td>gas</td>\n",
       "      <td>181500.0</td>\n",
       "      <td>automatic</td>\n",
       "      <td>sedan</td>\n",
       "      <td>white</td>\n",
       "      <td>0.0</td>\n",
       "      <td>2018-11-14</td>\n",
       "      <td>22</td>\n",
       "      <td>valor económico</td>\n",
       "    </tr>\n",
       "    <tr>\n",
       "      <th>51522</th>\n",
       "      <td>3950</td>\n",
       "      <td>2009.0</td>\n",
       "      <td>hyundai sonata</td>\n",
       "      <td>excellent</td>\n",
       "      <td>4.0</td>\n",
       "      <td>gas</td>\n",
       "      <td>128000.0</td>\n",
       "      <td>automatic</td>\n",
       "      <td>sedan</td>\n",
       "      <td>blue</td>\n",
       "      <td>0.0</td>\n",
       "      <td>2018-11-15</td>\n",
       "      <td>32</td>\n",
       "      <td>valor económico</td>\n",
       "    </tr>\n",
       "    <tr>\n",
       "      <th>51523</th>\n",
       "      <td>7455</td>\n",
       "      <td>2013.0</td>\n",
       "      <td>toyota corolla</td>\n",
       "      <td>good</td>\n",
       "      <td>4.0</td>\n",
       "      <td>gas</td>\n",
       "      <td>139573.0</td>\n",
       "      <td>automatic</td>\n",
       "      <td>sedan</td>\n",
       "      <td>black</td>\n",
       "      <td>0.0</td>\n",
       "      <td>2018-07-02</td>\n",
       "      <td>71</td>\n",
       "      <td>valor económico</td>\n",
       "    </tr>\n",
       "    <tr>\n",
       "      <th>51524</th>\n",
       "      <td>6300</td>\n",
       "      <td>2014.0</td>\n",
       "      <td>nissan altima</td>\n",
       "      <td>good</td>\n",
       "      <td>4.0</td>\n",
       "      <td>gas</td>\n",
       "      <td>NaN</td>\n",
       "      <td>automatic</td>\n",
       "      <td>sedan</td>\n",
       "      <td>desconocido</td>\n",
       "      <td>0.0</td>\n",
       "      <td>2018-06-05</td>\n",
       "      <td>10</td>\n",
       "      <td>valor económico</td>\n",
       "    </tr>\n",
       "  </tbody>\n",
       "</table>\n",
       "<p>51525 rows × 14 columns</p>\n",
       "</div>"
      ],
      "text/plain": [
       "       price  model_year           model  condition  cylinders fuel  odometer  \\\n",
       "0       9400      2011.0          bmw x5       good        6.0  gas  145000.0   \n",
       "1      25500         NaN      ford f-150       good        6.0  gas   88705.0   \n",
       "2       5500      2013.0  hyundai sonata   like new        4.0  gas  110000.0   \n",
       "3       1500      2003.0      ford f-150       fair        8.0  gas       NaN   \n",
       "4      14900      2017.0    chrysler 200  excellent        4.0  gas   80903.0   \n",
       "...      ...         ...             ...        ...        ...  ...       ...   \n",
       "51520   9249      2013.0   nissan maxima   like new        6.0  gas   88136.0   \n",
       "51521   2700      2002.0     honda civic    salvage        4.0  gas  181500.0   \n",
       "51522   3950      2009.0  hyundai sonata  excellent        4.0  gas  128000.0   \n",
       "51523   7455      2013.0  toyota corolla       good        4.0  gas  139573.0   \n",
       "51524   6300      2014.0   nissan altima       good        4.0  gas       NaN   \n",
       "\n",
       "      transmission    type  paint_color  is_4wd date_posted  days_listed  \\\n",
       "0        automatic     SUV  desconocido     1.0  2018-06-23           19   \n",
       "1        automatic  pickup        white     1.0  2018-10-19           50   \n",
       "2        automatic   sedan          red     0.0  2019-02-07           79   \n",
       "3        automatic  pickup  desconocido     0.0  2019-03-22            9   \n",
       "4        automatic   sedan        black     0.0  2019-04-02           28   \n",
       "...            ...     ...          ...     ...         ...          ...   \n",
       "51520    automatic   sedan        black     0.0  2018-10-03           37   \n",
       "51521    automatic   sedan        white     0.0  2018-11-14           22   \n",
       "51522    automatic   sedan         blue     0.0  2018-11-15           32   \n",
       "51523    automatic   sedan        black     0.0  2018-07-02           71   \n",
       "51524    automatic   sedan  desconocido     0.0  2018-06-05           10   \n",
       "\n",
       "      precios_vehiculos  \n",
       "0       valor económico  \n",
       "1               costoso  \n",
       "2       valor económico  \n",
       "3       valor económico  \n",
       "4           valor medio  \n",
       "...                 ...  \n",
       "51520   valor económico  \n",
       "51521   valor económico  \n",
       "51522   valor económico  \n",
       "51523   valor económico  \n",
       "51524   valor económico  \n",
       "\n",
       "[51525 rows x 14 columns]"
      ]
     },
     "execution_count": 238,
     "metadata": {},
     "output_type": "execute_result"
    }
   ],
   "source": [
    "anuncios[\"precios_vehiculos\"]=anuncios[\"price\"].apply(precios_vehiculos)\n",
    "anuncios"
   ]
  },
  {
   "cell_type": "code",
   "execution_count": 239,
   "metadata": {},
   "outputs": [
    {
     "data": {
      "text/plain": [
       "valor económico    28045\n",
       "costoso            14624\n",
       "valor medio         8856\n",
       "Name: precios_vehiculos, dtype: int64"
      ]
     },
     "execution_count": 239,
     "metadata": {},
     "output_type": "execute_result"
    }
   ],
   "source": [
    "anuncios[\"precios_vehiculos\"].value_counts()"
   ]
  },
  {
   "cell_type": "markdown",
   "metadata": {},
   "source": [
    "De acuerdo a la categorización de los datos, la mayoría de los datos tienen un precio económico (precio < 10000)."
   ]
  },
  {
   "cell_type": "markdown",
   "metadata": {},
   "source": [
    "Se considera que el kilometraje del vehículo puede tener relación con el precio del vehículo."
   ]
  },
  {
   "cell_type": "code",
   "execution_count": 240,
   "metadata": {},
   "outputs": [
    {
     "data": {
      "text/html": [
       "<div>\n",
       "<style scoped>\n",
       "    .dataframe tbody tr th:only-of-type {\n",
       "        vertical-align: middle;\n",
       "    }\n",
       "\n",
       "    .dataframe tbody tr th {\n",
       "        vertical-align: top;\n",
       "    }\n",
       "\n",
       "    .dataframe thead th {\n",
       "        text-align: right;\n",
       "    }\n",
       "</style>\n",
       "<table border=\"1\" class=\"dataframe\">\n",
       "  <thead>\n",
       "    <tr style=\"text-align: right;\">\n",
       "      <th></th>\n",
       "      <th>odometer</th>\n",
       "    </tr>\n",
       "    <tr>\n",
       "      <th>precios_vehiculos</th>\n",
       "      <th></th>\n",
       "    </tr>\n",
       "  </thead>\n",
       "  <tbody>\n",
       "    <tr>\n",
       "      <th>costoso</th>\n",
       "      <td>75646.756946</td>\n",
       "    </tr>\n",
       "    <tr>\n",
       "      <th>valor económico</th>\n",
       "      <td>138519.103440</td>\n",
       "    </tr>\n",
       "    <tr>\n",
       "      <th>valor medio</th>\n",
       "      <td>108856.244272</td>\n",
       "    </tr>\n",
       "  </tbody>\n",
       "</table>\n",
       "</div>"
      ],
      "text/plain": [
       "                        odometer\n",
       "precios_vehiculos               \n",
       "costoso             75646.756946\n",
       "valor económico    138519.103440\n",
       "valor medio        108856.244272"
      ]
     },
     "execution_count": 240,
     "metadata": {},
     "output_type": "execute_result"
    }
   ],
   "source": [
    "data_odometer_price=anuncios.pivot_table(index=\"precios_vehiculos\",values=\"odometer\",aggfunc=\"mean\")\n",
    "data_odometer_price"
   ]
  },
  {
   "cell_type": "markdown",
   "metadata": {},
   "source": [
    "Efectivamente, se evidencia que entre mas costoso es el vehículo menos kilometraje tiene el vehículo."
   ]
  },
  {
   "cell_type": "markdown",
   "metadata": {},
   "source": [
    "Se decide rellenar los datos ausentes en odometer con la información de los precios de los vehículos."
   ]
  },
  {
   "cell_type": "code",
   "execution_count": 241,
   "metadata": {},
   "outputs": [],
   "source": [
    "def ausentes_odometer(row):\n",
    "    precios_vehiculos=row[\"precios_vehiculos\"]\n",
    "    odometer=row[\"odometer\"]\n",
    "    if pd.isna(odometer):\n",
    "        return data_odometer_price[\"odometer\"][precios_vehiculos]\n",
    "    return odometer"
   ]
  },
  {
   "cell_type": "code",
   "execution_count": 242,
   "metadata": {},
   "outputs": [
    {
     "data": {
      "text/plain": [
       "138519.10343956552"
      ]
     },
     "execution_count": 242,
     "metadata": {},
     "output_type": "execute_result"
    }
   ],
   "source": [
    "ausentes_odometer(anuncios.iloc[3]) #se comprueba el funcionamiento de la función."
   ]
  },
  {
   "cell_type": "markdown",
   "metadata": {},
   "source": [
    "Se aplica la función a cada fila."
   ]
  },
  {
   "cell_type": "code",
   "execution_count": 243,
   "metadata": {},
   "outputs": [
    {
     "data": {
      "text/plain": [
       "0        145000.00000\n",
       "1         88705.00000\n",
       "2        110000.00000\n",
       "3        138519.10344\n",
       "4         80903.00000\n",
       "             ...     \n",
       "51520     88136.00000\n",
       "51521    181500.00000\n",
       "51522    128000.00000\n",
       "51523    139573.00000\n",
       "51524    138519.10344\n",
       "Length: 51525, dtype: float64"
      ]
     },
     "execution_count": 243,
     "metadata": {},
     "output_type": "execute_result"
    }
   ],
   "source": [
    "anuncios.apply(ausentes_odometer, axis=1)"
   ]
  },
  {
   "cell_type": "markdown",
   "metadata": {},
   "source": [
    "Se aplica la función para rellenar los datos ausentes."
   ]
  },
  {
   "cell_type": "code",
   "execution_count": 244,
   "metadata": {},
   "outputs": [],
   "source": [
    "anuncios[\"odometer\"]=anuncios.apply(ausentes_odometer, axis=1)"
   ]
  },
  {
   "cell_type": "code",
   "execution_count": 245,
   "metadata": {},
   "outputs": [
    {
     "data": {
      "text/plain": [
       "0"
      ]
     },
     "execution_count": 245,
     "metadata": {},
     "output_type": "execute_result"
    }
   ],
   "source": [
    "anuncios[\"odometer\"].isna().sum() # se comprueba que no hayan datos ausentes en la columna odometer."
   ]
  },
  {
   "cell_type": "markdown",
   "metadata": {},
   "source": [
    "Se revisan los datos en la columna **cylinders**, para rellenar los datos ausentes en la columna."
   ]
  },
  {
   "cell_type": "code",
   "execution_count": 246,
   "metadata": {},
   "outputs": [
    {
     "data": {
      "text/plain": [
       "count    46265.000000\n",
       "mean         6.125235\n",
       "std          1.660360\n",
       "min          3.000000\n",
       "25%          4.000000\n",
       "50%          6.000000\n",
       "75%          8.000000\n",
       "max         12.000000\n",
       "Name: cylinders, dtype: float64"
      ]
     },
     "execution_count": 246,
     "metadata": {},
     "output_type": "execute_result"
    }
   ],
   "source": [
    "anuncios[\"cylinders\"].describe()"
   ]
  },
  {
   "cell_type": "markdown",
   "metadata": {},
   "source": [
    "Se revisan las relaciones de los cilindros con los tipos de vehículos, ya que generalmente un vehículo tipo pickup o camioneta posee mas cilindros. \n",
    "\n",
    "Para establecer la relación, se decide utilizar la media, debido a que los datos no varían demasiado de acuerdo a la desviación estándar y cercanía de la media y la mediana."
   ]
  },
  {
   "cell_type": "code",
   "execution_count": 247,
   "metadata": {},
   "outputs": [
    {
     "data": {
      "text/html": [
       "<div>\n",
       "<style scoped>\n",
       "    .dataframe tbody tr th:only-of-type {\n",
       "        vertical-align: middle;\n",
       "    }\n",
       "\n",
       "    .dataframe tbody tr th {\n",
       "        vertical-align: top;\n",
       "    }\n",
       "\n",
       "    .dataframe thead th {\n",
       "        text-align: right;\n",
       "    }\n",
       "</style>\n",
       "<table border=\"1\" class=\"dataframe\">\n",
       "  <thead>\n",
       "    <tr style=\"text-align: right;\">\n",
       "      <th></th>\n",
       "      <th>cylinders</th>\n",
       "    </tr>\n",
       "    <tr>\n",
       "      <th>type</th>\n",
       "      <th></th>\n",
       "    </tr>\n",
       "  </thead>\n",
       "  <tbody>\n",
       "    <tr>\n",
       "      <th>SUV</th>\n",
       "      <td>6.0</td>\n",
       "    </tr>\n",
       "    <tr>\n",
       "      <th>bus</th>\n",
       "      <td>10.0</td>\n",
       "    </tr>\n",
       "    <tr>\n",
       "      <th>convertible</th>\n",
       "      <td>8.0</td>\n",
       "    </tr>\n",
       "    <tr>\n",
       "      <th>coupe</th>\n",
       "      <td>6.0</td>\n",
       "    </tr>\n",
       "    <tr>\n",
       "      <th>hatchback</th>\n",
       "      <td>4.0</td>\n",
       "    </tr>\n",
       "    <tr>\n",
       "      <th>mini-van</th>\n",
       "      <td>6.0</td>\n",
       "    </tr>\n",
       "    <tr>\n",
       "      <th>offroad</th>\n",
       "      <td>6.0</td>\n",
       "    </tr>\n",
       "    <tr>\n",
       "      <th>other</th>\n",
       "      <td>6.0</td>\n",
       "    </tr>\n",
       "    <tr>\n",
       "      <th>pickup</th>\n",
       "      <td>8.0</td>\n",
       "    </tr>\n",
       "    <tr>\n",
       "      <th>sedan</th>\n",
       "      <td>4.0</td>\n",
       "    </tr>\n",
       "    <tr>\n",
       "      <th>truck</th>\n",
       "      <td>8.0</td>\n",
       "    </tr>\n",
       "    <tr>\n",
       "      <th>van</th>\n",
       "      <td>6.0</td>\n",
       "    </tr>\n",
       "    <tr>\n",
       "      <th>wagon</th>\n",
       "      <td>4.0</td>\n",
       "    </tr>\n",
       "  </tbody>\n",
       "</table>\n",
       "</div>"
      ],
      "text/plain": [
       "             cylinders\n",
       "type                  \n",
       "SUV                6.0\n",
       "bus               10.0\n",
       "convertible        8.0\n",
       "coupe              6.0\n",
       "hatchback          4.0\n",
       "mini-van           6.0\n",
       "offroad            6.0\n",
       "other              6.0\n",
       "pickup             8.0\n",
       "sedan              4.0\n",
       "truck              8.0\n",
       "van                6.0\n",
       "wagon              4.0"
      ]
     },
     "execution_count": 247,
     "metadata": {},
     "output_type": "execute_result"
    }
   ],
   "source": [
    "data_cylinders_type=anuncios.pivot_table(index=\"type\",values=\"cylinders\",aggfunc=\"median\")\n",
    "data_cylinders_type"
   ]
  },
  {
   "cell_type": "markdown",
   "metadata": {},
   "source": [
    "Se evidencia que los vehículos tipo bus, pickup, truck y convertible cuentan con mayor número de cilindros."
   ]
  },
  {
   "cell_type": "markdown",
   "metadata": {},
   "source": [
    "Se decide rellenar los datos ausentes de la columna \"cylinders\" en relación con los tipos de vehículos."
   ]
  },
  {
   "cell_type": "code",
   "execution_count": 248,
   "metadata": {},
   "outputs": [],
   "source": [
    "def ausentes_cylinders(row):\n",
    "    type=row[\"type\"]\n",
    "    cylinders=row[\"cylinders\"]\n",
    "    if pd.isna(cylinders):\n",
    "        return data_cylinders_type[\"cylinders\"][type]\n",
    "    return cylinders"
   ]
  },
  {
   "cell_type": "code",
   "execution_count": 249,
   "metadata": {},
   "outputs": [
    {
     "data": {
      "text/plain": [
       "6.0"
      ]
     },
     "execution_count": 249,
     "metadata": {},
     "output_type": "execute_result"
    }
   ],
   "source": [
    "ausentes_cylinders(anuncios.iloc[9])"
   ]
  },
  {
   "cell_type": "code",
   "execution_count": 250,
   "metadata": {},
   "outputs": [
    {
     "data": {
      "text/plain": [
       "0        6.0\n",
       "1        6.0\n",
       "2        4.0\n",
       "3        8.0\n",
       "4        4.0\n",
       "        ... \n",
       "51520    6.0\n",
       "51521    4.0\n",
       "51522    4.0\n",
       "51523    4.0\n",
       "51524    4.0\n",
       "Length: 51525, dtype: float64"
      ]
     },
     "execution_count": 250,
     "metadata": {},
     "output_type": "execute_result"
    }
   ],
   "source": [
    "anuncios.apply(ausentes_cylinders, axis=1)"
   ]
  },
  {
   "cell_type": "code",
   "execution_count": 251,
   "metadata": {},
   "outputs": [],
   "source": [
    "anuncios[\"cylinders\"]=anuncios.apply(ausentes_cylinders, axis=1)"
   ]
  },
  {
   "cell_type": "code",
   "execution_count": 252,
   "metadata": {},
   "outputs": [
    {
     "data": {
      "text/plain": [
       "0"
      ]
     },
     "execution_count": 252,
     "metadata": {},
     "output_type": "execute_result"
    }
   ],
   "source": [
    "anuncios[\"cylinders\"].isna().sum()"
   ]
  },
  {
   "cell_type": "markdown",
   "metadata": {},
   "source": [
    "Se revisan los datos de la columna **model_year**"
   ]
  },
  {
   "cell_type": "code",
   "execution_count": 253,
   "metadata": {},
   "outputs": [
    {
     "data": {
      "text/plain": [
       "array([2011.,   nan, 2013., 2003., 2017., 2014., 2015., 2012., 2008.,\n",
       "       2018., 2009., 2010., 2007., 2004., 2005., 2001., 2006., 1966.,\n",
       "       1994., 2019., 2000., 2016., 1993., 1999., 1997., 2002., 1981.,\n",
       "       1995., 1996., 1975., 1998., 1985., 1977., 1987., 1974., 1990.,\n",
       "       1992., 1991., 1972., 1967., 1988., 1969., 1989., 1978., 1965.,\n",
       "       1979., 1968., 1986., 1980., 1964., 1963., 1984., 1982., 1973.,\n",
       "       1970., 1955., 1971., 1976., 1983., 1954., 1962., 1948., 1960.,\n",
       "       1908., 1961., 1936., 1949., 1958., 1929.])"
      ]
     },
     "execution_count": 253,
     "metadata": {},
     "output_type": "execute_result"
    }
   ],
   "source": [
    "anuncios[\"model_year\"].unique()"
   ]
  },
  {
   "cell_type": "code",
   "execution_count": 254,
   "metadata": {},
   "outputs": [
    {
     "data": {
      "text/plain": [
       "count    47906.000000\n",
       "mean      2009.750470\n",
       "std          6.282065\n",
       "min       1908.000000\n",
       "25%       2006.000000\n",
       "50%       2011.000000\n",
       "75%       2014.000000\n",
       "max       2019.000000\n",
       "Name: model_year, dtype: float64"
      ]
     },
     "execution_count": 254,
     "metadata": {},
     "output_type": "execute_result"
    }
   ],
   "source": [
    "anuncios[\"model_year\"].describe()"
   ]
  },
  {
   "cell_type": "markdown",
   "metadata": {},
   "source": [
    "Verificamos los años de los modelos de los vehículos,  de acuerdo a los precios de los vehículos ya que generalmente los vehículos con modelos mas actuales, suelen ser mas costosos.\n",
    "\n",
    "Se decide hallar la mediana, debido a que según la información estadística de la columna \"model_year\", la desviación estándar se considera alta."
   ]
  },
  {
   "cell_type": "code",
   "execution_count": 255,
   "metadata": {},
   "outputs": [
    {
     "data": {
      "text/html": [
       "<div>\n",
       "<style scoped>\n",
       "    .dataframe tbody tr th:only-of-type {\n",
       "        vertical-align: middle;\n",
       "    }\n",
       "\n",
       "    .dataframe tbody tr th {\n",
       "        vertical-align: top;\n",
       "    }\n",
       "\n",
       "    .dataframe thead th {\n",
       "        text-align: right;\n",
       "    }\n",
       "</style>\n",
       "<table border=\"1\" class=\"dataframe\">\n",
       "  <thead>\n",
       "    <tr style=\"text-align: right;\">\n",
       "      <th></th>\n",
       "      <th>model_year</th>\n",
       "    </tr>\n",
       "    <tr>\n",
       "      <th>precios_vehiculos</th>\n",
       "      <th></th>\n",
       "    </tr>\n",
       "  </thead>\n",
       "  <tbody>\n",
       "    <tr>\n",
       "      <th>costoso</th>\n",
       "      <td>2015.0</td>\n",
       "    </tr>\n",
       "    <tr>\n",
       "      <th>valor económico</th>\n",
       "      <td>2008.0</td>\n",
       "    </tr>\n",
       "    <tr>\n",
       "      <th>valor medio</th>\n",
       "      <td>2012.0</td>\n",
       "    </tr>\n",
       "  </tbody>\n",
       "</table>\n",
       "</div>"
      ],
      "text/plain": [
       "                   model_year\n",
       "precios_vehiculos            \n",
       "costoso                2015.0\n",
       "valor económico        2008.0\n",
       "valor medio            2012.0"
      ]
     },
     "execution_count": 255,
     "metadata": {},
     "output_type": "execute_result"
    }
   ],
   "source": [
    "data_model_price=anuncios.pivot_table(index=\"precios_vehiculos\",values=\"model_year\",aggfunc=\"median\")\n",
    "data_model_price"
   ]
  },
  {
   "cell_type": "markdown",
   "metadata": {},
   "source": [
    "Se verifica además la relación de los años del modelo con la columna del modelo."
   ]
  },
  {
   "cell_type": "code",
   "execution_count": 256,
   "metadata": {},
   "outputs": [
    {
     "data": {
      "text/html": [
       "<div>\n",
       "<style scoped>\n",
       "    .dataframe tbody tr th:only-of-type {\n",
       "        vertical-align: middle;\n",
       "    }\n",
       "\n",
       "    .dataframe tbody tr th {\n",
       "        vertical-align: top;\n",
       "    }\n",
       "\n",
       "    .dataframe thead th {\n",
       "        text-align: right;\n",
       "    }\n",
       "</style>\n",
       "<table border=\"1\" class=\"dataframe\">\n",
       "  <thead>\n",
       "    <tr style=\"text-align: right;\">\n",
       "      <th></th>\n",
       "      <th>model_year</th>\n",
       "    </tr>\n",
       "    <tr>\n",
       "      <th>model</th>\n",
       "      <th></th>\n",
       "    </tr>\n",
       "  </thead>\n",
       "  <tbody>\n",
       "    <tr>\n",
       "      <th>acura tl</th>\n",
       "      <td>2007.0</td>\n",
       "    </tr>\n",
       "    <tr>\n",
       "      <th>bmw x5</th>\n",
       "      <td>2010.0</td>\n",
       "    </tr>\n",
       "    <tr>\n",
       "      <th>buick enclave</th>\n",
       "      <td>2012.0</td>\n",
       "    </tr>\n",
       "    <tr>\n",
       "      <th>cadillac escalade</th>\n",
       "      <td>2009.0</td>\n",
       "    </tr>\n",
       "    <tr>\n",
       "      <th>chevrolet camaro</th>\n",
       "      <td>2013.0</td>\n",
       "    </tr>\n",
       "    <tr>\n",
       "      <th>...</th>\n",
       "      <td>...</td>\n",
       "    </tr>\n",
       "    <tr>\n",
       "      <th>toyota sienna</th>\n",
       "      <td>2008.0</td>\n",
       "    </tr>\n",
       "    <tr>\n",
       "      <th>toyota tacoma</th>\n",
       "      <td>2010.0</td>\n",
       "    </tr>\n",
       "    <tr>\n",
       "      <th>toyota tundra</th>\n",
       "      <td>2009.0</td>\n",
       "    </tr>\n",
       "    <tr>\n",
       "      <th>volkswagen jetta</th>\n",
       "      <td>2012.0</td>\n",
       "    </tr>\n",
       "    <tr>\n",
       "      <th>volkswagen passat</th>\n",
       "      <td>2013.0</td>\n",
       "    </tr>\n",
       "  </tbody>\n",
       "</table>\n",
       "<p>100 rows × 1 columns</p>\n",
       "</div>"
      ],
      "text/plain": [
       "                   model_year\n",
       "model                        \n",
       "acura tl               2007.0\n",
       "bmw x5                 2010.0\n",
       "buick enclave          2012.0\n",
       "cadillac escalade      2009.0\n",
       "chevrolet camaro       2013.0\n",
       "...                       ...\n",
       "toyota sienna          2008.0\n",
       "toyota tacoma          2010.0\n",
       "toyota tundra          2009.0\n",
       "volkswagen jetta       2012.0\n",
       "volkswagen passat      2013.0\n",
       "\n",
       "[100 rows x 1 columns]"
      ]
     },
     "execution_count": 256,
     "metadata": {},
     "output_type": "execute_result"
    }
   ],
   "source": [
    "data_modely_model=anuncios.pivot_table(index=\"model\",values=\"model_year\",aggfunc=\"median\")\n",
    "data_modely_model"
   ]
  },
  {
   "cell_type": "markdown",
   "metadata": {},
   "source": [
    "Se decide rellenar los datos ausentes de acuerdo a los modelos de los vehículos, ya que se consideran que pueden tener mas relación."
   ]
  },
  {
   "cell_type": "code",
   "execution_count": 257,
   "metadata": {},
   "outputs": [],
   "source": [
    "def ausentes_model_year(row):\n",
    "    model=row[\"model\"]\n",
    "    model_year=row[\"model_year\"]\n",
    "    if pd.isna(model_year):\n",
    "        return data_modely_model[\"model_year\"][model]\n",
    "    return model_year"
   ]
  },
  {
   "cell_type": "code",
   "execution_count": 258,
   "metadata": {},
   "outputs": [
    {
     "data": {
      "text/plain": [
       "2011.0"
      ]
     },
     "execution_count": 258,
     "metadata": {},
     "output_type": "execute_result"
    }
   ],
   "source": [
    "ausentes_model_year(anuncios.iloc[1])"
   ]
  },
  {
   "cell_type": "code",
   "execution_count": 259,
   "metadata": {},
   "outputs": [
    {
     "data": {
      "text/plain": [
       "0        2011.0\n",
       "1        2011.0\n",
       "2        2013.0\n",
       "3        2003.0\n",
       "4        2017.0\n",
       "          ...  \n",
       "51520    2013.0\n",
       "51521    2002.0\n",
       "51522    2009.0\n",
       "51523    2013.0\n",
       "51524    2014.0\n",
       "Length: 51525, dtype: float64"
      ]
     },
     "execution_count": 259,
     "metadata": {},
     "output_type": "execute_result"
    }
   ],
   "source": [
    "anuncios.apply(ausentes_model_year, axis=1)"
   ]
  },
  {
   "cell_type": "code",
   "execution_count": 260,
   "metadata": {},
   "outputs": [],
   "source": [
    "anuncios[\"model_year\"]=anuncios.apply(ausentes_model_year,axis=1)"
   ]
  },
  {
   "cell_type": "code",
   "execution_count": 261,
   "metadata": {},
   "outputs": [
    {
     "data": {
      "text/plain": [
       "0"
      ]
     },
     "execution_count": 261,
     "metadata": {},
     "output_type": "execute_result"
    }
   ],
   "source": [
    "anuncios[\"model_year\"].isna().sum()"
   ]
  },
  {
   "cell_type": "markdown",
   "metadata": {},
   "source": [
    "Se revisa nuevamente el dataframe para validar que hayamos atendido la totalidad de datos ausentes."
   ]
  },
  {
   "cell_type": "code",
   "execution_count": 262,
   "metadata": {},
   "outputs": [
    {
     "name": "stdout",
     "output_type": "stream",
     "text": [
      "<class 'pandas.core.frame.DataFrame'>\n",
      "RangeIndex: 51525 entries, 0 to 51524\n",
      "Data columns (total 14 columns):\n",
      " #   Column             Non-Null Count  Dtype  \n",
      "---  ------             --------------  -----  \n",
      " 0   price              51525 non-null  int64  \n",
      " 1   model_year         51525 non-null  float64\n",
      " 2   model              51525 non-null  object \n",
      " 3   condition          51525 non-null  object \n",
      " 4   cylinders          51525 non-null  float64\n",
      " 5   fuel               51525 non-null  object \n",
      " 6   odometer           51525 non-null  float64\n",
      " 7   transmission       51525 non-null  object \n",
      " 8   type               51525 non-null  object \n",
      " 9   paint_color        51525 non-null  object \n",
      " 10  is_4wd             51525 non-null  float64\n",
      " 11  date_posted        51525 non-null  object \n",
      " 12  days_listed        51525 non-null  int64  \n",
      " 13  precios_vehiculos  51525 non-null  object \n",
      "dtypes: float64(4), int64(2), object(8)\n",
      "memory usage: 5.5+ MB\n"
     ]
    }
   ],
   "source": [
    "anuncios.info()"
   ]
  },
  {
   "cell_type": "markdown",
   "metadata": {},
   "source": [
    "# Corregir los tipos de datos"
   ]
  },
  {
   "cell_type": "markdown",
   "metadata": {},
   "source": [
    "Se corrigen los tipos de datos en las columnas model_year, cylinders, is_4wd y date_posted"
   ]
  },
  {
   "cell_type": "code",
   "execution_count": 263,
   "metadata": {},
   "outputs": [],
   "source": [
    "anuncios[\"model_year\"]=anuncios[\"model_year\"].astype(int) # se corrige el tipo de dato en la columna \"model_year\""
   ]
  },
  {
   "cell_type": "code",
   "execution_count": 264,
   "metadata": {},
   "outputs": [
    {
     "data": {
      "text/plain": [
       "dtype('int64')"
      ]
     },
     "execution_count": 264,
     "metadata": {},
     "output_type": "execute_result"
    }
   ],
   "source": [
    "anuncios[\"model_year\"].dtypes"
   ]
  },
  {
   "cell_type": "code",
   "execution_count": 265,
   "metadata": {},
   "outputs": [],
   "source": [
    "anuncios[\"cylinders\"]=anuncios[\"cylinders\"].astype(int) # se corrige el tipo de dato en la columna \"cylinders\""
   ]
  },
  {
   "cell_type": "code",
   "execution_count": 266,
   "metadata": {},
   "outputs": [
    {
     "data": {
      "text/plain": [
       "dtype('int64')"
      ]
     },
     "execution_count": 266,
     "metadata": {},
     "output_type": "execute_result"
    }
   ],
   "source": [
    "anuncios[\"cylinders\"].dtypes"
   ]
  },
  {
   "cell_type": "code",
   "execution_count": 267,
   "metadata": {},
   "outputs": [],
   "source": [
    "anuncios[\"is_4wd\"]=anuncios[\"is_4wd\"].astype(bool) # El tipo de dato de la columna \"is_4wd\", se convierte a tipo booleano. "
   ]
  },
  {
   "cell_type": "code",
   "execution_count": 268,
   "metadata": {},
   "outputs": [
    {
     "data": {
      "text/plain": [
       "dtype('bool')"
      ]
     },
     "execution_count": 268,
     "metadata": {},
     "output_type": "execute_result"
    }
   ],
   "source": [
    "anuncios[\"is_4wd\"].dtypes"
   ]
  },
  {
   "cell_type": "code",
   "execution_count": 269,
   "metadata": {},
   "outputs": [
    {
     "data": {
      "text/plain": [
       "0       2018-06-23\n",
       "1       2018-10-19\n",
       "2       2019-02-07\n",
       "3       2019-03-22\n",
       "4       2019-04-02\n",
       "           ...    \n",
       "51520   2018-10-03\n",
       "51521   2018-11-14\n",
       "51522   2018-11-15\n",
       "51523   2018-07-02\n",
       "51524   2018-06-05\n",
       "Name: date_posted, Length: 51525, dtype: datetime64[ns]"
      ]
     },
     "execution_count": 269,
     "metadata": {},
     "output_type": "execute_result"
    }
   ],
   "source": [
    "pd.to_datetime(anuncios[\"date_posted\"],format='%Y.%m.%d') # El tipo de dato de la columna date_posted se pasa a tipo fecha."
   ]
  },
  {
   "cell_type": "code",
   "execution_count": 270,
   "metadata": {},
   "outputs": [],
   "source": [
    "anuncios[\"date_posted\"]=pd.to_datetime(anuncios[\"date_posted\"], format='%Y.%m.%d')"
   ]
  },
  {
   "cell_type": "code",
   "execution_count": 271,
   "metadata": {},
   "outputs": [
    {
     "data": {
      "text/plain": [
       "0   2018-06-23\n",
       "1   2018-10-19\n",
       "2   2019-02-07\n",
       "3   2019-03-22\n",
       "4   2019-04-02\n",
       "5   2018-06-20\n",
       "6   2018-12-27\n",
       "7   2019-01-07\n",
       "8   2018-07-16\n",
       "9   2019-02-15\n",
       "Name: date_posted, dtype: datetime64[ns]"
      ]
     },
     "execution_count": 271,
     "metadata": {},
     "output_type": "execute_result"
    }
   ],
   "source": [
    "anuncios[\"date_posted\"].head(10)"
   ]
  },
  {
   "cell_type": "code",
   "execution_count": 272,
   "metadata": {},
   "outputs": [
    {
     "name": "stdout",
     "output_type": "stream",
     "text": [
      "<class 'pandas.core.frame.DataFrame'>\n",
      "RangeIndex: 51525 entries, 0 to 51524\n",
      "Data columns (total 14 columns):\n",
      " #   Column             Non-Null Count  Dtype         \n",
      "---  ------             --------------  -----         \n",
      " 0   price              51525 non-null  int64         \n",
      " 1   model_year         51525 non-null  int64         \n",
      " 2   model              51525 non-null  object        \n",
      " 3   condition          51525 non-null  object        \n",
      " 4   cylinders          51525 non-null  int64         \n",
      " 5   fuel               51525 non-null  object        \n",
      " 6   odometer           51525 non-null  float64       \n",
      " 7   transmission       51525 non-null  object        \n",
      " 8   type               51525 non-null  object        \n",
      " 9   paint_color        51525 non-null  object        \n",
      " 10  is_4wd             51525 non-null  bool          \n",
      " 11  date_posted        51525 non-null  datetime64[ns]\n",
      " 12  days_listed        51525 non-null  int64         \n",
      " 13  precios_vehiculos  51525 non-null  object        \n",
      "dtypes: bool(1), datetime64[ns](1), float64(1), int64(4), object(7)\n",
      "memory usage: 5.2+ MB\n"
     ]
    }
   ],
   "source": [
    "anuncios.info()"
   ]
  },
  {
   "cell_type": "code",
   "execution_count": 273,
   "metadata": {},
   "outputs": [
    {
     "data": {
      "text/html": [
       "<div>\n",
       "<style scoped>\n",
       "    .dataframe tbody tr th:only-of-type {\n",
       "        vertical-align: middle;\n",
       "    }\n",
       "\n",
       "    .dataframe tbody tr th {\n",
       "        vertical-align: top;\n",
       "    }\n",
       "\n",
       "    .dataframe thead th {\n",
       "        text-align: right;\n",
       "    }\n",
       "</style>\n",
       "<table border=\"1\" class=\"dataframe\">\n",
       "  <thead>\n",
       "    <tr style=\"text-align: right;\">\n",
       "      <th></th>\n",
       "      <th>price</th>\n",
       "      <th>model_year</th>\n",
       "      <th>model</th>\n",
       "      <th>condition</th>\n",
       "      <th>cylinders</th>\n",
       "      <th>fuel</th>\n",
       "      <th>odometer</th>\n",
       "      <th>transmission</th>\n",
       "      <th>type</th>\n",
       "      <th>paint_color</th>\n",
       "      <th>is_4wd</th>\n",
       "      <th>date_posted</th>\n",
       "      <th>days_listed</th>\n",
       "      <th>precios_vehiculos</th>\n",
       "    </tr>\n",
       "  </thead>\n",
       "  <tbody>\n",
       "    <tr>\n",
       "      <th>0</th>\n",
       "      <td>9400</td>\n",
       "      <td>2011</td>\n",
       "      <td>bmw x5</td>\n",
       "      <td>good</td>\n",
       "      <td>6</td>\n",
       "      <td>gas</td>\n",
       "      <td>145000.00000</td>\n",
       "      <td>automatic</td>\n",
       "      <td>SUV</td>\n",
       "      <td>desconocido</td>\n",
       "      <td>True</td>\n",
       "      <td>2018-06-23</td>\n",
       "      <td>19</td>\n",
       "      <td>valor económico</td>\n",
       "    </tr>\n",
       "    <tr>\n",
       "      <th>1</th>\n",
       "      <td>25500</td>\n",
       "      <td>2011</td>\n",
       "      <td>ford f-150</td>\n",
       "      <td>good</td>\n",
       "      <td>6</td>\n",
       "      <td>gas</td>\n",
       "      <td>88705.00000</td>\n",
       "      <td>automatic</td>\n",
       "      <td>pickup</td>\n",
       "      <td>white</td>\n",
       "      <td>True</td>\n",
       "      <td>2018-10-19</td>\n",
       "      <td>50</td>\n",
       "      <td>costoso</td>\n",
       "    </tr>\n",
       "    <tr>\n",
       "      <th>2</th>\n",
       "      <td>5500</td>\n",
       "      <td>2013</td>\n",
       "      <td>hyundai sonata</td>\n",
       "      <td>like new</td>\n",
       "      <td>4</td>\n",
       "      <td>gas</td>\n",
       "      <td>110000.00000</td>\n",
       "      <td>automatic</td>\n",
       "      <td>sedan</td>\n",
       "      <td>red</td>\n",
       "      <td>False</td>\n",
       "      <td>2019-02-07</td>\n",
       "      <td>79</td>\n",
       "      <td>valor económico</td>\n",
       "    </tr>\n",
       "    <tr>\n",
       "      <th>3</th>\n",
       "      <td>1500</td>\n",
       "      <td>2003</td>\n",
       "      <td>ford f-150</td>\n",
       "      <td>fair</td>\n",
       "      <td>8</td>\n",
       "      <td>gas</td>\n",
       "      <td>138519.10344</td>\n",
       "      <td>automatic</td>\n",
       "      <td>pickup</td>\n",
       "      <td>desconocido</td>\n",
       "      <td>False</td>\n",
       "      <td>2019-03-22</td>\n",
       "      <td>9</td>\n",
       "      <td>valor económico</td>\n",
       "    </tr>\n",
       "    <tr>\n",
       "      <th>4</th>\n",
       "      <td>14900</td>\n",
       "      <td>2017</td>\n",
       "      <td>chrysler 200</td>\n",
       "      <td>excellent</td>\n",
       "      <td>4</td>\n",
       "      <td>gas</td>\n",
       "      <td>80903.00000</td>\n",
       "      <td>automatic</td>\n",
       "      <td>sedan</td>\n",
       "      <td>black</td>\n",
       "      <td>False</td>\n",
       "      <td>2019-04-02</td>\n",
       "      <td>28</td>\n",
       "      <td>valor medio</td>\n",
       "    </tr>\n",
       "    <tr>\n",
       "      <th>5</th>\n",
       "      <td>14990</td>\n",
       "      <td>2014</td>\n",
       "      <td>chrysler 300</td>\n",
       "      <td>excellent</td>\n",
       "      <td>6</td>\n",
       "      <td>gas</td>\n",
       "      <td>57954.00000</td>\n",
       "      <td>automatic</td>\n",
       "      <td>sedan</td>\n",
       "      <td>black</td>\n",
       "      <td>True</td>\n",
       "      <td>2018-06-20</td>\n",
       "      <td>15</td>\n",
       "      <td>valor medio</td>\n",
       "    </tr>\n",
       "    <tr>\n",
       "      <th>6</th>\n",
       "      <td>12990</td>\n",
       "      <td>2015</td>\n",
       "      <td>toyota camry</td>\n",
       "      <td>excellent</td>\n",
       "      <td>4</td>\n",
       "      <td>gas</td>\n",
       "      <td>79212.00000</td>\n",
       "      <td>automatic</td>\n",
       "      <td>sedan</td>\n",
       "      <td>white</td>\n",
       "      <td>False</td>\n",
       "      <td>2018-12-27</td>\n",
       "      <td>73</td>\n",
       "      <td>valor medio</td>\n",
       "    </tr>\n",
       "    <tr>\n",
       "      <th>7</th>\n",
       "      <td>15990</td>\n",
       "      <td>2013</td>\n",
       "      <td>honda pilot</td>\n",
       "      <td>excellent</td>\n",
       "      <td>6</td>\n",
       "      <td>gas</td>\n",
       "      <td>109473.00000</td>\n",
       "      <td>automatic</td>\n",
       "      <td>SUV</td>\n",
       "      <td>black</td>\n",
       "      <td>True</td>\n",
       "      <td>2019-01-07</td>\n",
       "      <td>68</td>\n",
       "      <td>costoso</td>\n",
       "    </tr>\n",
       "    <tr>\n",
       "      <th>8</th>\n",
       "      <td>11500</td>\n",
       "      <td>2012</td>\n",
       "      <td>kia sorento</td>\n",
       "      <td>excellent</td>\n",
       "      <td>4</td>\n",
       "      <td>gas</td>\n",
       "      <td>104174.00000</td>\n",
       "      <td>automatic</td>\n",
       "      <td>SUV</td>\n",
       "      <td>desconocido</td>\n",
       "      <td>True</td>\n",
       "      <td>2018-07-16</td>\n",
       "      <td>19</td>\n",
       "      <td>valor medio</td>\n",
       "    </tr>\n",
       "    <tr>\n",
       "      <th>9</th>\n",
       "      <td>9200</td>\n",
       "      <td>2008</td>\n",
       "      <td>honda pilot</td>\n",
       "      <td>excellent</td>\n",
       "      <td>6</td>\n",
       "      <td>gas</td>\n",
       "      <td>147191.00000</td>\n",
       "      <td>automatic</td>\n",
       "      <td>SUV</td>\n",
       "      <td>blue</td>\n",
       "      <td>True</td>\n",
       "      <td>2019-02-15</td>\n",
       "      <td>17</td>\n",
       "      <td>valor económico</td>\n",
       "    </tr>\n",
       "  </tbody>\n",
       "</table>\n",
       "</div>"
      ],
      "text/plain": [
       "   price  model_year           model  condition  cylinders fuel      odometer  \\\n",
       "0   9400        2011          bmw x5       good          6  gas  145000.00000   \n",
       "1  25500        2011      ford f-150       good          6  gas   88705.00000   \n",
       "2   5500        2013  hyundai sonata   like new          4  gas  110000.00000   \n",
       "3   1500        2003      ford f-150       fair          8  gas  138519.10344   \n",
       "4  14900        2017    chrysler 200  excellent          4  gas   80903.00000   \n",
       "5  14990        2014    chrysler 300  excellent          6  gas   57954.00000   \n",
       "6  12990        2015    toyota camry  excellent          4  gas   79212.00000   \n",
       "7  15990        2013     honda pilot  excellent          6  gas  109473.00000   \n",
       "8  11500        2012     kia sorento  excellent          4  gas  104174.00000   \n",
       "9   9200        2008     honda pilot  excellent          6  gas  147191.00000   \n",
       "\n",
       "  transmission    type  paint_color  is_4wd date_posted  days_listed  \\\n",
       "0    automatic     SUV  desconocido    True  2018-06-23           19   \n",
       "1    automatic  pickup        white    True  2018-10-19           50   \n",
       "2    automatic   sedan          red   False  2019-02-07           79   \n",
       "3    automatic  pickup  desconocido   False  2019-03-22            9   \n",
       "4    automatic   sedan        black   False  2019-04-02           28   \n",
       "5    automatic   sedan        black    True  2018-06-20           15   \n",
       "6    automatic   sedan        white   False  2018-12-27           73   \n",
       "7    automatic     SUV        black    True  2019-01-07           68   \n",
       "8    automatic     SUV  desconocido    True  2018-07-16           19   \n",
       "9    automatic     SUV         blue    True  2019-02-15           17   \n",
       "\n",
       "  precios_vehiculos  \n",
       "0   valor económico  \n",
       "1           costoso  \n",
       "2   valor económico  \n",
       "3   valor económico  \n",
       "4       valor medio  \n",
       "5       valor medio  \n",
       "6       valor medio  \n",
       "7           costoso  \n",
       "8       valor medio  \n",
       "9   valor económico  "
      ]
     },
     "execution_count": 273,
     "metadata": {},
     "output_type": "execute_result"
    }
   ],
   "source": [
    "anuncios.head(10)"
   ]
  },
  {
   "cell_type": "markdown",
   "metadata": {},
   "source": [
    "# Enriquecer datos"
   ]
  },
  {
   "cell_type": "markdown",
   "metadata": {},
   "source": [
    "Se agregan factores adicionales para el análisis de los datos."
   ]
  },
  {
   "cell_type": "code",
   "execution_count": 274,
   "metadata": {},
   "outputs": [],
   "source": [
    " anuncios[\"año\"]=anuncios[\"date_posted\"].dt.year # Agrega valores de fecha y hora para cuando se colocó el anuncio"
   ]
  },
  {
   "cell_type": "markdown",
   "metadata": {},
   "source": [
    "Se agrega una columna que nos relacione el año en el que los anuncios de los vehículos fueron publicados."
   ]
  },
  {
   "cell_type": "code",
   "execution_count": 275,
   "metadata": {},
   "outputs": [],
   "source": [
    "anuncios[\"mes\"]=anuncios[\"date_posted\"].dt.month"
   ]
  },
  {
   "cell_type": "markdown",
   "metadata": {},
   "source": [
    "Se agrega una columna que nos relacione el mes en el que el anuncio del vehículo fue publicado."
   ]
  },
  {
   "cell_type": "code",
   "execution_count": 276,
   "metadata": {},
   "outputs": [],
   "source": [
    "anuncios[\"day\"]=anuncios[\"date_posted\"].dt.day"
   ]
  },
  {
   "cell_type": "markdown",
   "metadata": {},
   "source": [
    "Se agrega una columna que nos relacione el día en el que el anuncio del vehículo fue publicado."
   ]
  },
  {
   "cell_type": "code",
   "execution_count": 277,
   "metadata": {},
   "outputs": [],
   "source": [
    "anuncios[\"antiguedad\"]=(anuncios[\"año\"]-anuncios[\"model_year\"]) + 1 # Agrega los años del vehículo cuando el anuncio se colocó"
   ]
  },
  {
   "cell_type": "markdown",
   "metadata": {},
   "source": [
    "Se agrega una columna que nos relacione la antiguedad del vehículo en el momento en el que se publica el anuncio."
   ]
  },
  {
   "cell_type": "code",
   "execution_count": 278,
   "metadata": {},
   "outputs": [],
   "source": [
    "anuncios[\"millaje_promedio\"]=anuncios[\"odometer\"]/(anuncios[\"antiguedad\"]) # Agrega el millaje promedio del vehículo por año"
   ]
  },
  {
   "cell_type": "markdown",
   "metadata": {},
   "source": [
    "Se agrega una columna que nos relacione el millaje promedio de los vehículos según la antiguedad."
   ]
  },
  {
   "cell_type": "code",
   "execution_count": 279,
   "metadata": {},
   "outputs": [
    {
     "data": {
      "text/plain": [
       "array(['good', 'like new', 'fair', 'excellent', 'salvage', 'new'],\n",
       "      dtype=object)"
      ]
     },
     "execution_count": 279,
     "metadata": {},
     "output_type": "execute_result"
    }
   ],
   "source": [
    "anuncios[\"condition\"].unique()# Podría ser útil reemplazar los valores de condición con algo que se pueda manipular más fácilmente"
   ]
  },
  {
   "cell_type": "code",
   "execution_count": 280,
   "metadata": {},
   "outputs": [],
   "source": [
    "ids_values_condition={\n",
    "    \"new\":6,\n",
    "    \"like new\":5,\n",
    "    \"excellent\":4,\n",
    "    \"good\":3,\n",
    "    \"fair\":2,\n",
    "    \"salvage\":1\n",
    "}"
   ]
  },
  {
   "cell_type": "code",
   "execution_count": 281,
   "metadata": {},
   "outputs": [],
   "source": [
    "anuncios[\"ids_condition\"]=anuncios[\"condition\"].replace(ids_values_condition)"
   ]
  },
  {
   "cell_type": "code",
   "execution_count": 282,
   "metadata": {},
   "outputs": [
    {
     "data": {
      "text/html": [
       "<div>\n",
       "<style scoped>\n",
       "    .dataframe tbody tr th:only-of-type {\n",
       "        vertical-align: middle;\n",
       "    }\n",
       "\n",
       "    .dataframe tbody tr th {\n",
       "        vertical-align: top;\n",
       "    }\n",
       "\n",
       "    .dataframe thead th {\n",
       "        text-align: right;\n",
       "    }\n",
       "</style>\n",
       "<table border=\"1\" class=\"dataframe\">\n",
       "  <thead>\n",
       "    <tr style=\"text-align: right;\">\n",
       "      <th></th>\n",
       "      <th>price</th>\n",
       "      <th>model_year</th>\n",
       "      <th>model</th>\n",
       "      <th>condition</th>\n",
       "      <th>cylinders</th>\n",
       "      <th>fuel</th>\n",
       "      <th>odometer</th>\n",
       "      <th>transmission</th>\n",
       "      <th>type</th>\n",
       "      <th>paint_color</th>\n",
       "      <th>is_4wd</th>\n",
       "      <th>date_posted</th>\n",
       "      <th>days_listed</th>\n",
       "      <th>precios_vehiculos</th>\n",
       "      <th>año</th>\n",
       "      <th>mes</th>\n",
       "      <th>day</th>\n",
       "      <th>antiguedad</th>\n",
       "      <th>millaje_promedio</th>\n",
       "      <th>ids_condition</th>\n",
       "    </tr>\n",
       "  </thead>\n",
       "  <tbody>\n",
       "    <tr>\n",
       "      <th>0</th>\n",
       "      <td>9400</td>\n",
       "      <td>2011</td>\n",
       "      <td>bmw x5</td>\n",
       "      <td>good</td>\n",
       "      <td>6</td>\n",
       "      <td>gas</td>\n",
       "      <td>145000.00000</td>\n",
       "      <td>automatic</td>\n",
       "      <td>SUV</td>\n",
       "      <td>desconocido</td>\n",
       "      <td>True</td>\n",
       "      <td>2018-06-23</td>\n",
       "      <td>19</td>\n",
       "      <td>valor económico</td>\n",
       "      <td>2018</td>\n",
       "      <td>6</td>\n",
       "      <td>23</td>\n",
       "      <td>8</td>\n",
       "      <td>18125.000000</td>\n",
       "      <td>3</td>\n",
       "    </tr>\n",
       "    <tr>\n",
       "      <th>1</th>\n",
       "      <td>25500</td>\n",
       "      <td>2011</td>\n",
       "      <td>ford f-150</td>\n",
       "      <td>good</td>\n",
       "      <td>6</td>\n",
       "      <td>gas</td>\n",
       "      <td>88705.00000</td>\n",
       "      <td>automatic</td>\n",
       "      <td>pickup</td>\n",
       "      <td>white</td>\n",
       "      <td>True</td>\n",
       "      <td>2018-10-19</td>\n",
       "      <td>50</td>\n",
       "      <td>costoso</td>\n",
       "      <td>2018</td>\n",
       "      <td>10</td>\n",
       "      <td>19</td>\n",
       "      <td>8</td>\n",
       "      <td>11088.125000</td>\n",
       "      <td>3</td>\n",
       "    </tr>\n",
       "    <tr>\n",
       "      <th>2</th>\n",
       "      <td>5500</td>\n",
       "      <td>2013</td>\n",
       "      <td>hyundai sonata</td>\n",
       "      <td>like new</td>\n",
       "      <td>4</td>\n",
       "      <td>gas</td>\n",
       "      <td>110000.00000</td>\n",
       "      <td>automatic</td>\n",
       "      <td>sedan</td>\n",
       "      <td>red</td>\n",
       "      <td>False</td>\n",
       "      <td>2019-02-07</td>\n",
       "      <td>79</td>\n",
       "      <td>valor económico</td>\n",
       "      <td>2019</td>\n",
       "      <td>2</td>\n",
       "      <td>7</td>\n",
       "      <td>7</td>\n",
       "      <td>15714.285714</td>\n",
       "      <td>5</td>\n",
       "    </tr>\n",
       "    <tr>\n",
       "      <th>3</th>\n",
       "      <td>1500</td>\n",
       "      <td>2003</td>\n",
       "      <td>ford f-150</td>\n",
       "      <td>fair</td>\n",
       "      <td>8</td>\n",
       "      <td>gas</td>\n",
       "      <td>138519.10344</td>\n",
       "      <td>automatic</td>\n",
       "      <td>pickup</td>\n",
       "      <td>desconocido</td>\n",
       "      <td>False</td>\n",
       "      <td>2019-03-22</td>\n",
       "      <td>9</td>\n",
       "      <td>valor económico</td>\n",
       "      <td>2019</td>\n",
       "      <td>3</td>\n",
       "      <td>22</td>\n",
       "      <td>17</td>\n",
       "      <td>8148.182555</td>\n",
       "      <td>2</td>\n",
       "    </tr>\n",
       "    <tr>\n",
       "      <th>4</th>\n",
       "      <td>14900</td>\n",
       "      <td>2017</td>\n",
       "      <td>chrysler 200</td>\n",
       "      <td>excellent</td>\n",
       "      <td>4</td>\n",
       "      <td>gas</td>\n",
       "      <td>80903.00000</td>\n",
       "      <td>automatic</td>\n",
       "      <td>sedan</td>\n",
       "      <td>black</td>\n",
       "      <td>False</td>\n",
       "      <td>2019-04-02</td>\n",
       "      <td>28</td>\n",
       "      <td>valor medio</td>\n",
       "      <td>2019</td>\n",
       "      <td>4</td>\n",
       "      <td>2</td>\n",
       "      <td>3</td>\n",
       "      <td>26967.666667</td>\n",
       "      <td>4</td>\n",
       "    </tr>\n",
       "  </tbody>\n",
       "</table>\n",
       "</div>"
      ],
      "text/plain": [
       "   price  model_year           model  condition  cylinders fuel      odometer  \\\n",
       "0   9400        2011          bmw x5       good          6  gas  145000.00000   \n",
       "1  25500        2011      ford f-150       good          6  gas   88705.00000   \n",
       "2   5500        2013  hyundai sonata   like new          4  gas  110000.00000   \n",
       "3   1500        2003      ford f-150       fair          8  gas  138519.10344   \n",
       "4  14900        2017    chrysler 200  excellent          4  gas   80903.00000   \n",
       "\n",
       "  transmission    type  paint_color  is_4wd date_posted  days_listed  \\\n",
       "0    automatic     SUV  desconocido    True  2018-06-23           19   \n",
       "1    automatic  pickup        white    True  2018-10-19           50   \n",
       "2    automatic   sedan          red   False  2019-02-07           79   \n",
       "3    automatic  pickup  desconocido   False  2019-03-22            9   \n",
       "4    automatic   sedan        black   False  2019-04-02           28   \n",
       "\n",
       "  precios_vehiculos   año  mes  day  antiguedad  millaje_promedio  \\\n",
       "0   valor económico  2018    6   23           8      18125.000000   \n",
       "1           costoso  2018   10   19           8      11088.125000   \n",
       "2   valor económico  2019    2    7           7      15714.285714   \n",
       "3   valor económico  2019    3   22          17       8148.182555   \n",
       "4       valor medio  2019    4    2           3      26967.666667   \n",
       "\n",
       "   ids_condition  \n",
       "0              3  \n",
       "1              3  \n",
       "2              5  \n",
       "3              2  \n",
       "4              4  "
      ]
     },
     "execution_count": 282,
     "metadata": {},
     "output_type": "execute_result"
    }
   ],
   "source": [
    "anuncios.head()"
   ]
  },
  {
   "cell_type": "markdown",
   "metadata": {},
   "source": [
    "# Comprobar datos limpios"
   ]
  },
  {
   "cell_type": "markdown",
   "metadata": {},
   "source": [
    "Se revisan nuevamente los datos."
   ]
  },
  {
   "cell_type": "code",
   "execution_count": 283,
   "metadata": {},
   "outputs": [
    {
     "name": "stdout",
     "output_type": "stream",
     "text": [
      "<class 'pandas.core.frame.DataFrame'>\n",
      "RangeIndex: 51525 entries, 0 to 51524\n",
      "Data columns (total 20 columns):\n",
      " #   Column             Non-Null Count  Dtype         \n",
      "---  ------             --------------  -----         \n",
      " 0   price              51525 non-null  int64         \n",
      " 1   model_year         51525 non-null  int64         \n",
      " 2   model              51525 non-null  object        \n",
      " 3   condition          51525 non-null  object        \n",
      " 4   cylinders          51525 non-null  int64         \n",
      " 5   fuel               51525 non-null  object        \n",
      " 6   odometer           51525 non-null  float64       \n",
      " 7   transmission       51525 non-null  object        \n",
      " 8   type               51525 non-null  object        \n",
      " 9   paint_color        51525 non-null  object        \n",
      " 10  is_4wd             51525 non-null  bool          \n",
      " 11  date_posted        51525 non-null  datetime64[ns]\n",
      " 12  days_listed        51525 non-null  int64         \n",
      " 13  precios_vehiculos  51525 non-null  object        \n",
      " 14  año                51525 non-null  int64         \n",
      " 15  mes                51525 non-null  int64         \n",
      " 16  day                51525 non-null  int64         \n",
      " 17  antiguedad         51525 non-null  int64         \n",
      " 18  millaje_promedio   51525 non-null  float64       \n",
      " 19  ids_condition      51525 non-null  int64         \n",
      "dtypes: bool(1), datetime64[ns](1), float64(2), int64(9), object(7)\n",
      "memory usage: 7.5+ MB\n"
     ]
    }
   ],
   "source": [
    "anuncios.info()# imprime la información general/resumida sobre el DataFrame"
   ]
  },
  {
   "cell_type": "markdown",
   "metadata": {},
   "source": [
    "En la columna **millaje_promedio** se identifican datos ausentes."
   ]
  },
  {
   "cell_type": "markdown",
   "metadata": {},
   "source": [
    "Se identifica que los datos ausentes en la columna millaje_promedio, se encuentran en las filas en las que tanto la antiguedad como el kilometraje se encuentran en cero. La antiguedad es igual a cero debido a que el año del modelo corresponde al mismo año en el que el anuncio del vehículo se publica. Para el caso del kilometraje, se tiene pendiente atender éste valor atípico para organizar éstos dos datos ausentes en la columna \"millaje_promedio\"."
   ]
  },
  {
   "cell_type": "markdown",
   "metadata": {},
   "source": [
    "Para atender el problema identificado en la columna millaje promedio se suma el valor de 1 a la columna \"antiguedad\" para que no se genere un error y no se cuente con valores ausentes."
   ]
  },
  {
   "cell_type": "code",
   "execution_count": 284,
   "metadata": {},
   "outputs": [
    {
     "data": {
      "text/html": [
       "<div>\n",
       "<style scoped>\n",
       "    .dataframe tbody tr th:only-of-type {\n",
       "        vertical-align: middle;\n",
       "    }\n",
       "\n",
       "    .dataframe tbody tr th {\n",
       "        vertical-align: top;\n",
       "    }\n",
       "\n",
       "    .dataframe thead th {\n",
       "        text-align: right;\n",
       "    }\n",
       "</style>\n",
       "<table border=\"1\" class=\"dataframe\">\n",
       "  <thead>\n",
       "    <tr style=\"text-align: right;\">\n",
       "      <th></th>\n",
       "      <th>price</th>\n",
       "      <th>model_year</th>\n",
       "      <th>model</th>\n",
       "      <th>condition</th>\n",
       "      <th>cylinders</th>\n",
       "      <th>fuel</th>\n",
       "      <th>odometer</th>\n",
       "      <th>transmission</th>\n",
       "      <th>type</th>\n",
       "      <th>paint_color</th>\n",
       "      <th>is_4wd</th>\n",
       "      <th>date_posted</th>\n",
       "      <th>days_listed</th>\n",
       "      <th>precios_vehiculos</th>\n",
       "      <th>año</th>\n",
       "      <th>mes</th>\n",
       "      <th>day</th>\n",
       "      <th>antiguedad</th>\n",
       "      <th>millaje_promedio</th>\n",
       "      <th>ids_condition</th>\n",
       "    </tr>\n",
       "  </thead>\n",
       "  <tbody>\n",
       "    <tr>\n",
       "      <th>0</th>\n",
       "      <td>9400</td>\n",
       "      <td>2011</td>\n",
       "      <td>bmw x5</td>\n",
       "      <td>good</td>\n",
       "      <td>6</td>\n",
       "      <td>gas</td>\n",
       "      <td>145000.00000</td>\n",
       "      <td>automatic</td>\n",
       "      <td>SUV</td>\n",
       "      <td>desconocido</td>\n",
       "      <td>True</td>\n",
       "      <td>2018-06-23</td>\n",
       "      <td>19</td>\n",
       "      <td>valor económico</td>\n",
       "      <td>2018</td>\n",
       "      <td>6</td>\n",
       "      <td>23</td>\n",
       "      <td>8</td>\n",
       "      <td>18125.000000</td>\n",
       "      <td>3</td>\n",
       "    </tr>\n",
       "    <tr>\n",
       "      <th>1</th>\n",
       "      <td>25500</td>\n",
       "      <td>2011</td>\n",
       "      <td>ford f-150</td>\n",
       "      <td>good</td>\n",
       "      <td>6</td>\n",
       "      <td>gas</td>\n",
       "      <td>88705.00000</td>\n",
       "      <td>automatic</td>\n",
       "      <td>pickup</td>\n",
       "      <td>white</td>\n",
       "      <td>True</td>\n",
       "      <td>2018-10-19</td>\n",
       "      <td>50</td>\n",
       "      <td>costoso</td>\n",
       "      <td>2018</td>\n",
       "      <td>10</td>\n",
       "      <td>19</td>\n",
       "      <td>8</td>\n",
       "      <td>11088.125000</td>\n",
       "      <td>3</td>\n",
       "    </tr>\n",
       "    <tr>\n",
       "      <th>2</th>\n",
       "      <td>5500</td>\n",
       "      <td>2013</td>\n",
       "      <td>hyundai sonata</td>\n",
       "      <td>like new</td>\n",
       "      <td>4</td>\n",
       "      <td>gas</td>\n",
       "      <td>110000.00000</td>\n",
       "      <td>automatic</td>\n",
       "      <td>sedan</td>\n",
       "      <td>red</td>\n",
       "      <td>False</td>\n",
       "      <td>2019-02-07</td>\n",
       "      <td>79</td>\n",
       "      <td>valor económico</td>\n",
       "      <td>2019</td>\n",
       "      <td>2</td>\n",
       "      <td>7</td>\n",
       "      <td>7</td>\n",
       "      <td>15714.285714</td>\n",
       "      <td>5</td>\n",
       "    </tr>\n",
       "    <tr>\n",
       "      <th>3</th>\n",
       "      <td>1500</td>\n",
       "      <td>2003</td>\n",
       "      <td>ford f-150</td>\n",
       "      <td>fair</td>\n",
       "      <td>8</td>\n",
       "      <td>gas</td>\n",
       "      <td>138519.10344</td>\n",
       "      <td>automatic</td>\n",
       "      <td>pickup</td>\n",
       "      <td>desconocido</td>\n",
       "      <td>False</td>\n",
       "      <td>2019-03-22</td>\n",
       "      <td>9</td>\n",
       "      <td>valor económico</td>\n",
       "      <td>2019</td>\n",
       "      <td>3</td>\n",
       "      <td>22</td>\n",
       "      <td>17</td>\n",
       "      <td>8148.182555</td>\n",
       "      <td>2</td>\n",
       "    </tr>\n",
       "    <tr>\n",
       "      <th>4</th>\n",
       "      <td>14900</td>\n",
       "      <td>2017</td>\n",
       "      <td>chrysler 200</td>\n",
       "      <td>excellent</td>\n",
       "      <td>4</td>\n",
       "      <td>gas</td>\n",
       "      <td>80903.00000</td>\n",
       "      <td>automatic</td>\n",
       "      <td>sedan</td>\n",
       "      <td>black</td>\n",
       "      <td>False</td>\n",
       "      <td>2019-04-02</td>\n",
       "      <td>28</td>\n",
       "      <td>valor medio</td>\n",
       "      <td>2019</td>\n",
       "      <td>4</td>\n",
       "      <td>2</td>\n",
       "      <td>3</td>\n",
       "      <td>26967.666667</td>\n",
       "      <td>4</td>\n",
       "    </tr>\n",
       "    <tr>\n",
       "      <th>5</th>\n",
       "      <td>14990</td>\n",
       "      <td>2014</td>\n",
       "      <td>chrysler 300</td>\n",
       "      <td>excellent</td>\n",
       "      <td>6</td>\n",
       "      <td>gas</td>\n",
       "      <td>57954.00000</td>\n",
       "      <td>automatic</td>\n",
       "      <td>sedan</td>\n",
       "      <td>black</td>\n",
       "      <td>True</td>\n",
       "      <td>2018-06-20</td>\n",
       "      <td>15</td>\n",
       "      <td>valor medio</td>\n",
       "      <td>2018</td>\n",
       "      <td>6</td>\n",
       "      <td>20</td>\n",
       "      <td>5</td>\n",
       "      <td>11590.800000</td>\n",
       "      <td>4</td>\n",
       "    </tr>\n",
       "    <tr>\n",
       "      <th>6</th>\n",
       "      <td>12990</td>\n",
       "      <td>2015</td>\n",
       "      <td>toyota camry</td>\n",
       "      <td>excellent</td>\n",
       "      <td>4</td>\n",
       "      <td>gas</td>\n",
       "      <td>79212.00000</td>\n",
       "      <td>automatic</td>\n",
       "      <td>sedan</td>\n",
       "      <td>white</td>\n",
       "      <td>False</td>\n",
       "      <td>2018-12-27</td>\n",
       "      <td>73</td>\n",
       "      <td>valor medio</td>\n",
       "      <td>2018</td>\n",
       "      <td>12</td>\n",
       "      <td>27</td>\n",
       "      <td>4</td>\n",
       "      <td>19803.000000</td>\n",
       "      <td>4</td>\n",
       "    </tr>\n",
       "    <tr>\n",
       "      <th>7</th>\n",
       "      <td>15990</td>\n",
       "      <td>2013</td>\n",
       "      <td>honda pilot</td>\n",
       "      <td>excellent</td>\n",
       "      <td>6</td>\n",
       "      <td>gas</td>\n",
       "      <td>109473.00000</td>\n",
       "      <td>automatic</td>\n",
       "      <td>SUV</td>\n",
       "      <td>black</td>\n",
       "      <td>True</td>\n",
       "      <td>2019-01-07</td>\n",
       "      <td>68</td>\n",
       "      <td>costoso</td>\n",
       "      <td>2019</td>\n",
       "      <td>1</td>\n",
       "      <td>7</td>\n",
       "      <td>7</td>\n",
       "      <td>15639.000000</td>\n",
       "      <td>4</td>\n",
       "    </tr>\n",
       "    <tr>\n",
       "      <th>8</th>\n",
       "      <td>11500</td>\n",
       "      <td>2012</td>\n",
       "      <td>kia sorento</td>\n",
       "      <td>excellent</td>\n",
       "      <td>4</td>\n",
       "      <td>gas</td>\n",
       "      <td>104174.00000</td>\n",
       "      <td>automatic</td>\n",
       "      <td>SUV</td>\n",
       "      <td>desconocido</td>\n",
       "      <td>True</td>\n",
       "      <td>2018-07-16</td>\n",
       "      <td>19</td>\n",
       "      <td>valor medio</td>\n",
       "      <td>2018</td>\n",
       "      <td>7</td>\n",
       "      <td>16</td>\n",
       "      <td>7</td>\n",
       "      <td>14882.000000</td>\n",
       "      <td>4</td>\n",
       "    </tr>\n",
       "    <tr>\n",
       "      <th>9</th>\n",
       "      <td>9200</td>\n",
       "      <td>2008</td>\n",
       "      <td>honda pilot</td>\n",
       "      <td>excellent</td>\n",
       "      <td>6</td>\n",
       "      <td>gas</td>\n",
       "      <td>147191.00000</td>\n",
       "      <td>automatic</td>\n",
       "      <td>SUV</td>\n",
       "      <td>blue</td>\n",
       "      <td>True</td>\n",
       "      <td>2019-02-15</td>\n",
       "      <td>17</td>\n",
       "      <td>valor económico</td>\n",
       "      <td>2019</td>\n",
       "      <td>2</td>\n",
       "      <td>15</td>\n",
       "      <td>12</td>\n",
       "      <td>12265.916667</td>\n",
       "      <td>4</td>\n",
       "    </tr>\n",
       "  </tbody>\n",
       "</table>\n",
       "</div>"
      ],
      "text/plain": [
       "   price  model_year           model  condition  cylinders fuel      odometer  \\\n",
       "0   9400        2011          bmw x5       good          6  gas  145000.00000   \n",
       "1  25500        2011      ford f-150       good          6  gas   88705.00000   \n",
       "2   5500        2013  hyundai sonata   like new          4  gas  110000.00000   \n",
       "3   1500        2003      ford f-150       fair          8  gas  138519.10344   \n",
       "4  14900        2017    chrysler 200  excellent          4  gas   80903.00000   \n",
       "5  14990        2014    chrysler 300  excellent          6  gas   57954.00000   \n",
       "6  12990        2015    toyota camry  excellent          4  gas   79212.00000   \n",
       "7  15990        2013     honda pilot  excellent          6  gas  109473.00000   \n",
       "8  11500        2012     kia sorento  excellent          4  gas  104174.00000   \n",
       "9   9200        2008     honda pilot  excellent          6  gas  147191.00000   \n",
       "\n",
       "  transmission    type  paint_color  is_4wd date_posted  days_listed  \\\n",
       "0    automatic     SUV  desconocido    True  2018-06-23           19   \n",
       "1    automatic  pickup        white    True  2018-10-19           50   \n",
       "2    automatic   sedan          red   False  2019-02-07           79   \n",
       "3    automatic  pickup  desconocido   False  2019-03-22            9   \n",
       "4    automatic   sedan        black   False  2019-04-02           28   \n",
       "5    automatic   sedan        black    True  2018-06-20           15   \n",
       "6    automatic   sedan        white   False  2018-12-27           73   \n",
       "7    automatic     SUV        black    True  2019-01-07           68   \n",
       "8    automatic     SUV  desconocido    True  2018-07-16           19   \n",
       "9    automatic     SUV         blue    True  2019-02-15           17   \n",
       "\n",
       "  precios_vehiculos   año  mes  day  antiguedad  millaje_promedio  \\\n",
       "0   valor económico  2018    6   23           8      18125.000000   \n",
       "1           costoso  2018   10   19           8      11088.125000   \n",
       "2   valor económico  2019    2    7           7      15714.285714   \n",
       "3   valor económico  2019    3   22          17       8148.182555   \n",
       "4       valor medio  2019    4    2           3      26967.666667   \n",
       "5       valor medio  2018    6   20           5      11590.800000   \n",
       "6       valor medio  2018   12   27           4      19803.000000   \n",
       "7           costoso  2019    1    7           7      15639.000000   \n",
       "8       valor medio  2018    7   16           7      14882.000000   \n",
       "9   valor económico  2019    2   15          12      12265.916667   \n",
       "\n",
       "   ids_condition  \n",
       "0              3  \n",
       "1              3  \n",
       "2              5  \n",
       "3              2  \n",
       "4              4  \n",
       "5              4  \n",
       "6              4  \n",
       "7              4  \n",
       "8              4  \n",
       "9              4  "
      ]
     },
     "execution_count": 284,
     "metadata": {},
     "output_type": "execute_result"
    }
   ],
   "source": [
    "anuncios.head(10)# imprimir una muestra de datos"
   ]
  },
  {
   "cell_type": "markdown",
   "metadata": {},
   "source": [
    "# Estudiar parámetros principales\n",
    "\n",
    "Se revisan algunas columnas, para identificar posibles valores atípicos.\n",
    "\n",
    "Los parámetros son:\n",
    "- Precio\n",
    "- Los años del vehículo cuando el anuncio se colocó\n",
    "- Millaje\n",
    "- Número de cilindros\n",
    "- Estado"
   ]
  },
  {
   "cell_type": "markdown",
   "metadata": {},
   "source": [
    "Importamos la librería matplotlib para trazar los gráficos, para realizar un análisis mas completo con la utilización de los histogramas."
   ]
  },
  {
   "cell_type": "code",
   "execution_count": 285,
   "metadata": {},
   "outputs": [],
   "source": [
    "import matplotlib.pyplot as plt # Importamos librería matplotlib."
   ]
  },
  {
   "cell_type": "code",
   "execution_count": 286,
   "metadata": {
    "scrolled": true
   },
   "outputs": [
    {
     "data": {
      "image/png": "[encoded data removed]",
      "text/plain": [
       "<Figure size 1080x432 with 1 Axes>"
      ]
     },
     "metadata": {
      "needs_background": "light"
     },
     "output_type": "display_data"
    }
   ],
   "source": [
    "anuncios[\"price\"].hist(bins=100,figsize=(15,6)) # Creamos histograma de la columna \"price\".\n",
    "plt.title(\"Histograma precios de los vehículos\")\n",
    "plt.xlabel(\"Precios de los vehículos\")\n",
    "plt.ylabel(\"Frecuencias\")\n",
    "plt.show()"
   ]
  },
  {
   "cell_type": "markdown",
   "metadata": {},
   "source": [
    "De acuerdo al histograma que nos muestra la información de la columna \"price\", se identifican mayores frecuencias en los vehículos económicos, entre menor valor del vehículo, mayor es la frecuencia (sesgado positivo). En la zona de la mediana del histograma, se presenta gran variabilidad entre los datos, y ésto puede mostrar posibles errores en los datos. Algunos de los datos se encuentran lejos de la mayor cantidad de valores."
   ]
  },
  {
   "cell_type": "code",
   "execution_count": 287,
   "metadata": {},
   "outputs": [
    {
     "data": {
      "text/plain": [
       "count     51525.000000\n",
       "mean      12132.464920\n",
       "std       10040.803015\n",
       "min           1.000000\n",
       "25%        5000.000000\n",
       "50%        9000.000000\n",
       "75%       16839.000000\n",
       "max      375000.000000\n",
       "Name: price, dtype: float64"
      ]
     },
     "execution_count": 287,
     "metadata": {},
     "output_type": "execute_result"
    }
   ],
   "source": [
    "anuncios[\"price\"].describe()"
   ]
  },
  {
   "cell_type": "markdown",
   "metadata": {},
   "source": [
    "La información estadística de la columna \"price\", nos muestra un valor en la desviación estántar muy grande, lo cual puede atribuirse a los valores que se encontraron atípicos en ésta columna (valores iguales a 1). Los valores de la media y la mediana son además muy diferentes."
   ]
  },
  {
   "cell_type": "code",
   "execution_count": 288,
   "metadata": {
    "scrolled": true
   },
   "outputs": [
    {
     "data": {
      "image/png": "[encoded data removed]",
      "text/plain": [
       "<Figure size 1080x432 with 1 Axes>"
      ]
     },
     "metadata": {
      "needs_background": "light"
     },
     "output_type": "display_data"
    }
   ],
   "source": [
    "anuncios[\"antiguedad\"].hist(bins=100,figsize=(15,6)) #creamos histograma de la columna antiguedad.\n",
    "plt.title(\"Histograma antiguedades de los vehículos\")\n",
    "plt.xlabel(\"Antiguedades de los vehículos\")\n",
    "plt.ylabel(\"Frecuencias\")\n",
    "plt.xlim(0,100)\n",
    "plt.show()"
   ]
  },
  {
   "cell_type": "markdown",
   "metadata": {},
   "source": [
    "De acuerdo al histograma que nos muestra la variación de los datos de la columna \"antiguedad\", se identifican dos picos en los datos en el valor de cero y alrededor de 15. Se identifican valores muy alejados de los valores mas comunes entre los datos, lo cual se considera atípico."
   ]
  },
  {
   "cell_type": "code",
   "execution_count": 289,
   "metadata": {},
   "outputs": [
    {
     "data": {
      "text/plain": [
       "count    51525.000000\n",
       "mean         9.513906\n",
       "std          6.112976\n",
       "min          1.000000\n",
       "25%          5.000000\n",
       "50%          9.000000\n",
       "75%         13.000000\n",
       "max        111.000000\n",
       "Name: antiguedad, dtype: float64"
      ]
     },
     "execution_count": 289,
     "metadata": {},
     "output_type": "execute_result"
    }
   ],
   "source": [
    "anuncios[\"antiguedad\"].describe()"
   ]
  },
  {
   "cell_type": "code",
   "execution_count": 290,
   "metadata": {
    "scrolled": true
   },
   "outputs": [
    {
     "data": {
      "image/png": "[encoded data removed]",
      "text/plain": [
       "<Figure size 1080x432 with 1 Axes>"
      ]
     },
     "metadata": {
      "needs_background": "light"
     },
     "output_type": "display_data"
    }
   ],
   "source": [
    "anuncios[\"odometer\"].hist(bins=100,figsize=(15,6)) #creamos histograma de la columna odometer.\n",
    "plt.title(\"Histograma kilometraje de los vehículos\")\n",
    "plt.xlabel(\"Kilometrajes de los vehículos\")\n",
    "plt.ylabel(\"Frecuencias\")\n",
    "plt.show()"
   ]
  },
  {
   "cell_type": "markdown",
   "metadata": {},
   "source": [
    "De acuerdo al histograma que nos muestra la variación de los datos de la columna \"millaje\", gran cantidad de los datos se encuentran por debajo de 1, lo cual no se considera que sea algo normal en los valores, ya que ésto genera una gran viariación entre los datos."
   ]
  },
  {
   "cell_type": "code",
   "execution_count": 291,
   "metadata": {},
   "outputs": [
    {
     "data": {
      "text/plain": [
       "count     51525.000000\n",
       "mean     115576.076251\n",
       "std       60841.077731\n",
       "min           0.000000\n",
       "25%       75646.756946\n",
       "50%      114119.000000\n",
       "75%      146541.000000\n",
       "max      990000.000000\n",
       "Name: odometer, dtype: float64"
      ]
     },
     "execution_count": 291,
     "metadata": {},
     "output_type": "execute_result"
    }
   ],
   "source": [
    "anuncios[\"odometer\"].describe()"
   ]
  },
  {
   "cell_type": "code",
   "execution_count": 292,
   "metadata": {
    "scrolled": true
   },
   "outputs": [
    {
     "data": {
      "image/png": "[encoded data removed]",
      "text/plain": [
       "<Figure size 1080x432 with 1 Axes>"
      ]
     },
     "metadata": {
      "needs_background": "light"
     },
     "output_type": "display_data"
    }
   ],
   "source": [
    "anuncios[\"cylinders\"].hist(bins=100,figsize=(15,6)) #creamos histograma de la columna cylinders.\n",
    "plt.title(\"Histograma número de cilindros de los vehículos\")\n",
    "plt.xlabel(\"Número de cilindros de los vehículos\")\n",
    "plt.ylabel(\"Frecuencias\")\n",
    "plt.show()"
   ]
  },
  {
   "cell_type": "markdown",
   "metadata": {},
   "source": [
    "De acuerdo al histograma que nos relaciona el número de cilindros en los vehículos, se muestra que la mayoría de los vehículos cuentan con 4, 6 y 8 cilindros. Según la información del histograma, no se identifican valores atípicos para ésta columna."
   ]
  },
  {
   "cell_type": "code",
   "execution_count": 293,
   "metadata": {},
   "outputs": [
    {
     "data": {
      "text/plain": [
       "count    51525.000000\n",
       "mean         6.130810\n",
       "std          1.658414\n",
       "min          3.000000\n",
       "25%          4.000000\n",
       "50%          6.000000\n",
       "75%          8.000000\n",
       "max         12.000000\n",
       "Name: cylinders, dtype: float64"
      ]
     },
     "execution_count": 293,
     "metadata": {},
     "output_type": "execute_result"
    }
   ],
   "source": [
    "anuncios[\"cylinders\"].describe()"
   ]
  },
  {
   "cell_type": "markdown",
   "metadata": {},
   "source": [
    "Si analizamos la información estadística de ésta columna, los valores de la media y la mediana son muy cercanos, y la desviación estándar se considera baja."
   ]
  },
  {
   "cell_type": "code",
   "execution_count": 294,
   "metadata": {
    "scrolled": true
   },
   "outputs": [
    {
     "data": {
      "image/png": "[encoded data removed]",
      "text/plain": [
       "<Figure size 1080x432 with 1 Axes>"
      ]
     },
     "metadata": {
      "needs_background": "light"
     },
     "output_type": "display_data"
    }
   ],
   "source": [
    "anuncios[\"ids_condition\"].hist(bins=100,figsize=(15,6)) #creamos histograma de la columna ids_condition.\n",
    "plt.title(\"Histograma condiciones de los vehículos\")\n",
    "plt.xlabel(\"Condiciones de los vehículos\")\n",
    "plt.ylabel(\"Frecuencia\")\n",
    "plt.show()"
   ]
  },
  {
   "cell_type": "markdown",
   "metadata": {},
   "source": [
    "De acuerdo al histograma que nos relaciona las condiciones de los vehiculos, la mayoría de los vehículos presentan una categoría 4 (excelente) y categoría 3 (buena). El gráfico nos muestra que pocos vehículos se encuentran en categoría 1 (salvable) y categoría 6 (nuevo)."
   ]
  },
  {
   "cell_type": "code",
   "execution_count": 295,
   "metadata": {},
   "outputs": [
    {
     "data": {
      "text/plain": [
       "count    51525.000000\n",
       "mean         3.637535\n",
       "std          0.712447\n",
       "min          1.000000\n",
       "25%          3.000000\n",
       "50%          4.000000\n",
       "75%          4.000000\n",
       "max          6.000000\n",
       "Name: ids_condition, dtype: float64"
      ]
     },
     "execution_count": 295,
     "metadata": {},
     "output_type": "execute_result"
    }
   ],
   "source": [
    "anuncios[\"ids_condition\"].describe()"
   ]
  },
  {
   "cell_type": "markdown",
   "metadata": {},
   "source": [
    "Al revisar la información estadística de la columna \"ids_condition\", se encuentra una desviación estándar baja. La mediana es mas grande que la media (sesgo negativo)."
   ]
  },
  {
   "cell_type": "markdown",
   "metadata": {},
   "source": [
    "## Estudiar y tratar valores atípicos"
   ]
  },
  {
   "cell_type": "markdown",
   "metadata": {},
   "source": [
    "De acuerdo a los resultados anteriores, se identifican posibles valores atípicos en las columnas \"price\",\"antiguedad\" y \"odometer\". Para éstas columnas se identifican los valores atípicos."
   ]
  },
  {
   "cell_type": "markdown",
   "metadata": {},
   "source": [
    "**Valores atípicos columna price.**"
   ]
  },
  {
   "cell_type": "code",
   "execution_count": 296,
   "metadata": {},
   "outputs": [],
   "source": [
    "Q1price=anuncios[\"price\"].quantile(0.25)\n",
    "Q3price=anuncios[\"price\"].quantile(0.75)\n",
    "IQRprice=Q3price-Q1price\n",
    "limprice1=Q1price-1.5*IQRprice\n",
    "limprice2=Q3price+1.5*IQRprice"
   ]
  },
  {
   "cell_type": "code",
   "execution_count": 297,
   "metadata": {},
   "outputs": [
    {
     "data": {
      "text/plain": [
       "-12758.5"
      ]
     },
     "execution_count": 297,
     "metadata": {},
     "output_type": "execute_result"
    }
   ],
   "source": [
    "limprice1 # límites inferiores para valores atípicos de la columna price."
   ]
  },
  {
   "cell_type": "code",
   "execution_count": 298,
   "metadata": {},
   "outputs": [
    {
     "data": {
      "text/plain": [
       "34597.5"
      ]
     },
     "execution_count": 298,
     "metadata": {},
     "output_type": "execute_result"
    }
   ],
   "source": [
    "limprice2 # límites superiores para valores atípicos de la columna price."
   ]
  },
  {
   "cell_type": "markdown",
   "metadata": {},
   "source": [
    "**Valores atípcios columna antiguedad.**"
   ]
  },
  {
   "cell_type": "code",
   "execution_count": 299,
   "metadata": {},
   "outputs": [],
   "source": [
    "Q1antiguedad=anuncios[\"antiguedad\"].quantile(0.25)\n",
    "Q3antiguedad=anuncios[\"antiguedad\"].quantile(0.75)\n",
    "IQRantiguedad=Q3antiguedad-Q1antiguedad\n",
    "limantiguedad1=Q1antiguedad-1.5*IQRantiguedad\n",
    "limantiguedad2=Q3antiguedad+1.5*IQRantiguedad"
   ]
  },
  {
   "cell_type": "code",
   "execution_count": 300,
   "metadata": {},
   "outputs": [
    {
     "data": {
      "text/plain": [
       "-7.0"
      ]
     },
     "execution_count": 300,
     "metadata": {},
     "output_type": "execute_result"
    }
   ],
   "source": [
    "limantiguedad1 #limite inferior de la columna antiguedad."
   ]
  },
  {
   "cell_type": "code",
   "execution_count": 301,
   "metadata": {},
   "outputs": [
    {
     "data": {
      "text/plain": [
       "25.0"
      ]
     },
     "execution_count": 301,
     "metadata": {},
     "output_type": "execute_result"
    }
   ],
   "source": [
    "limantiguedad2 #limite superior de la columna antiguedad."
   ]
  },
  {
   "cell_type": "markdown",
   "metadata": {},
   "source": [
    "**Valores atípicos columna odometer.**"
   ]
  },
  {
   "cell_type": "code",
   "execution_count": 302,
   "metadata": {},
   "outputs": [],
   "source": [
    "Q1odometer=anuncios[\"odometer\"].quantile(0.25)\n",
    "Q3odometer=anuncios[\"odometer\"].quantile(0.75)\n",
    "IQRodometer=Q3odometer-Q1odometer\n",
    "limodometer1=Q1odometer-1.5*IQRodometer\n",
    "limodometer2=Q3odometer+1.5*IQRodometer"
   ]
  },
  {
   "cell_type": "code",
   "execution_count": 303,
   "metadata": {},
   "outputs": [
    {
     "data": {
      "text/plain": [
       "-30694.60763469439"
      ]
     },
     "execution_count": 303,
     "metadata": {},
     "output_type": "execute_result"
    }
   ],
   "source": [
    "limodometer1 #limite inferior columna odometer."
   ]
  },
  {
   "cell_type": "code",
   "execution_count": 304,
   "metadata": {},
   "outputs": [
    {
     "data": {
      "text/plain": [
       "252882.36458081665"
      ]
     },
     "execution_count": 304,
     "metadata": {},
     "output_type": "execute_result"
    }
   ],
   "source": [
    "limodometer2 #limite superior columna odometer."
   ]
  },
  {
   "cell_type": "markdown",
   "metadata": {},
   "source": [
    "Se filtran los datos límites inferiores y superiores identificados en cada columna, para crear un nuevo dataframe."
   ]
  },
  {
   "cell_type": "markdown",
   "metadata": {},
   "source": [
    "Datos filtrados para la columna price."
   ]
  },
  {
   "cell_type": "code",
   "execution_count": 305,
   "metadata": {
    "scrolled": true
   },
   "outputs": [
    {
     "data": {
      "text/html": [
       "<div>\n",
       "<style scoped>\n",
       "    .dataframe tbody tr th:only-of-type {\n",
       "        vertical-align: middle;\n",
       "    }\n",
       "\n",
       "    .dataframe tbody tr th {\n",
       "        vertical-align: top;\n",
       "    }\n",
       "\n",
       "    .dataframe thead th {\n",
       "        text-align: right;\n",
       "    }\n",
       "</style>\n",
       "<table border=\"1\" class=\"dataframe\">\n",
       "  <thead>\n",
       "    <tr style=\"text-align: right;\">\n",
       "      <th></th>\n",
       "      <th>price</th>\n",
       "      <th>model_year</th>\n",
       "      <th>model</th>\n",
       "      <th>condition</th>\n",
       "      <th>cylinders</th>\n",
       "      <th>fuel</th>\n",
       "      <th>odometer</th>\n",
       "      <th>transmission</th>\n",
       "      <th>type</th>\n",
       "      <th>paint_color</th>\n",
       "      <th>is_4wd</th>\n",
       "      <th>date_posted</th>\n",
       "      <th>days_listed</th>\n",
       "      <th>precios_vehiculos</th>\n",
       "      <th>año</th>\n",
       "      <th>mes</th>\n",
       "      <th>day</th>\n",
       "      <th>antiguedad</th>\n",
       "      <th>millaje_promedio</th>\n",
       "      <th>ids_condition</th>\n",
       "    </tr>\n",
       "  </thead>\n",
       "  <tbody>\n",
       "    <tr>\n",
       "      <th>0</th>\n",
       "      <td>9400</td>\n",
       "      <td>2011</td>\n",
       "      <td>bmw x5</td>\n",
       "      <td>good</td>\n",
       "      <td>6</td>\n",
       "      <td>gas</td>\n",
       "      <td>145000.00000</td>\n",
       "      <td>automatic</td>\n",
       "      <td>SUV</td>\n",
       "      <td>desconocido</td>\n",
       "      <td>True</td>\n",
       "      <td>2018-06-23</td>\n",
       "      <td>19</td>\n",
       "      <td>valor económico</td>\n",
       "      <td>2018</td>\n",
       "      <td>6</td>\n",
       "      <td>23</td>\n",
       "      <td>8</td>\n",
       "      <td>18125.000000</td>\n",
       "      <td>3</td>\n",
       "    </tr>\n",
       "    <tr>\n",
       "      <th>1</th>\n",
       "      <td>25500</td>\n",
       "      <td>2011</td>\n",
       "      <td>ford f-150</td>\n",
       "      <td>good</td>\n",
       "      <td>6</td>\n",
       "      <td>gas</td>\n",
       "      <td>88705.00000</td>\n",
       "      <td>automatic</td>\n",
       "      <td>pickup</td>\n",
       "      <td>white</td>\n",
       "      <td>True</td>\n",
       "      <td>2018-10-19</td>\n",
       "      <td>50</td>\n",
       "      <td>costoso</td>\n",
       "      <td>2018</td>\n",
       "      <td>10</td>\n",
       "      <td>19</td>\n",
       "      <td>8</td>\n",
       "      <td>11088.125000</td>\n",
       "      <td>3</td>\n",
       "    </tr>\n",
       "    <tr>\n",
       "      <th>2</th>\n",
       "      <td>5500</td>\n",
       "      <td>2013</td>\n",
       "      <td>hyundai sonata</td>\n",
       "      <td>like new</td>\n",
       "      <td>4</td>\n",
       "      <td>gas</td>\n",
       "      <td>110000.00000</td>\n",
       "      <td>automatic</td>\n",
       "      <td>sedan</td>\n",
       "      <td>red</td>\n",
       "      <td>False</td>\n",
       "      <td>2019-02-07</td>\n",
       "      <td>79</td>\n",
       "      <td>valor económico</td>\n",
       "      <td>2019</td>\n",
       "      <td>2</td>\n",
       "      <td>7</td>\n",
       "      <td>7</td>\n",
       "      <td>15714.285714</td>\n",
       "      <td>5</td>\n",
       "    </tr>\n",
       "    <tr>\n",
       "      <th>3</th>\n",
       "      <td>1500</td>\n",
       "      <td>2003</td>\n",
       "      <td>ford f-150</td>\n",
       "      <td>fair</td>\n",
       "      <td>8</td>\n",
       "      <td>gas</td>\n",
       "      <td>138519.10344</td>\n",
       "      <td>automatic</td>\n",
       "      <td>pickup</td>\n",
       "      <td>desconocido</td>\n",
       "      <td>False</td>\n",
       "      <td>2019-03-22</td>\n",
       "      <td>9</td>\n",
       "      <td>valor económico</td>\n",
       "      <td>2019</td>\n",
       "      <td>3</td>\n",
       "      <td>22</td>\n",
       "      <td>17</td>\n",
       "      <td>8148.182555</td>\n",
       "      <td>2</td>\n",
       "    </tr>\n",
       "    <tr>\n",
       "      <th>4</th>\n",
       "      <td>14900</td>\n",
       "      <td>2017</td>\n",
       "      <td>chrysler 200</td>\n",
       "      <td>excellent</td>\n",
       "      <td>4</td>\n",
       "      <td>gas</td>\n",
       "      <td>80903.00000</td>\n",
       "      <td>automatic</td>\n",
       "      <td>sedan</td>\n",
       "      <td>black</td>\n",
       "      <td>False</td>\n",
       "      <td>2019-04-02</td>\n",
       "      <td>28</td>\n",
       "      <td>valor medio</td>\n",
       "      <td>2019</td>\n",
       "      <td>4</td>\n",
       "      <td>2</td>\n",
       "      <td>3</td>\n",
       "      <td>26967.666667</td>\n",
       "      <td>4</td>\n",
       "    </tr>\n",
       "    <tr>\n",
       "      <th>...</th>\n",
       "      <td>...</td>\n",
       "      <td>...</td>\n",
       "      <td>...</td>\n",
       "      <td>...</td>\n",
       "      <td>...</td>\n",
       "      <td>...</td>\n",
       "      <td>...</td>\n",
       "      <td>...</td>\n",
       "      <td>...</td>\n",
       "      <td>...</td>\n",
       "      <td>...</td>\n",
       "      <td>...</td>\n",
       "      <td>...</td>\n",
       "      <td>...</td>\n",
       "      <td>...</td>\n",
       "      <td>...</td>\n",
       "      <td>...</td>\n",
       "      <td>...</td>\n",
       "      <td>...</td>\n",
       "      <td>...</td>\n",
       "    </tr>\n",
       "    <tr>\n",
       "      <th>51520</th>\n",
       "      <td>9249</td>\n",
       "      <td>2013</td>\n",
       "      <td>nissan maxima</td>\n",
       "      <td>like new</td>\n",
       "      <td>6</td>\n",
       "      <td>gas</td>\n",
       "      <td>88136.00000</td>\n",
       "      <td>automatic</td>\n",
       "      <td>sedan</td>\n",
       "      <td>black</td>\n",
       "      <td>False</td>\n",
       "      <td>2018-10-03</td>\n",
       "      <td>37</td>\n",
       "      <td>valor económico</td>\n",
       "      <td>2018</td>\n",
       "      <td>10</td>\n",
       "      <td>3</td>\n",
       "      <td>6</td>\n",
       "      <td>14689.333333</td>\n",
       "      <td>5</td>\n",
       "    </tr>\n",
       "    <tr>\n",
       "      <th>51521</th>\n",
       "      <td>2700</td>\n",
       "      <td>2002</td>\n",
       "      <td>honda civic</td>\n",
       "      <td>salvage</td>\n",
       "      <td>4</td>\n",
       "      <td>gas</td>\n",
       "      <td>181500.00000</td>\n",
       "      <td>automatic</td>\n",
       "      <td>sedan</td>\n",
       "      <td>white</td>\n",
       "      <td>False</td>\n",
       "      <td>2018-11-14</td>\n",
       "      <td>22</td>\n",
       "      <td>valor económico</td>\n",
       "      <td>2018</td>\n",
       "      <td>11</td>\n",
       "      <td>14</td>\n",
       "      <td>17</td>\n",
       "      <td>10676.470588</td>\n",
       "      <td>1</td>\n",
       "    </tr>\n",
       "    <tr>\n",
       "      <th>51522</th>\n",
       "      <td>3950</td>\n",
       "      <td>2009</td>\n",
       "      <td>hyundai sonata</td>\n",
       "      <td>excellent</td>\n",
       "      <td>4</td>\n",
       "      <td>gas</td>\n",
       "      <td>128000.00000</td>\n",
       "      <td>automatic</td>\n",
       "      <td>sedan</td>\n",
       "      <td>blue</td>\n",
       "      <td>False</td>\n",
       "      <td>2018-11-15</td>\n",
       "      <td>32</td>\n",
       "      <td>valor económico</td>\n",
       "      <td>2018</td>\n",
       "      <td>11</td>\n",
       "      <td>15</td>\n",
       "      <td>10</td>\n",
       "      <td>12800.000000</td>\n",
       "      <td>4</td>\n",
       "    </tr>\n",
       "    <tr>\n",
       "      <th>51523</th>\n",
       "      <td>7455</td>\n",
       "      <td>2013</td>\n",
       "      <td>toyota corolla</td>\n",
       "      <td>good</td>\n",
       "      <td>4</td>\n",
       "      <td>gas</td>\n",
       "      <td>139573.00000</td>\n",
       "      <td>automatic</td>\n",
       "      <td>sedan</td>\n",
       "      <td>black</td>\n",
       "      <td>False</td>\n",
       "      <td>2018-07-02</td>\n",
       "      <td>71</td>\n",
       "      <td>valor económico</td>\n",
       "      <td>2018</td>\n",
       "      <td>7</td>\n",
       "      <td>2</td>\n",
       "      <td>6</td>\n",
       "      <td>23262.166667</td>\n",
       "      <td>3</td>\n",
       "    </tr>\n",
       "    <tr>\n",
       "      <th>51524</th>\n",
       "      <td>6300</td>\n",
       "      <td>2014</td>\n",
       "      <td>nissan altima</td>\n",
       "      <td>good</td>\n",
       "      <td>4</td>\n",
       "      <td>gas</td>\n",
       "      <td>138519.10344</td>\n",
       "      <td>automatic</td>\n",
       "      <td>sedan</td>\n",
       "      <td>desconocido</td>\n",
       "      <td>False</td>\n",
       "      <td>2018-06-05</td>\n",
       "      <td>10</td>\n",
       "      <td>valor económico</td>\n",
       "      <td>2018</td>\n",
       "      <td>6</td>\n",
       "      <td>5</td>\n",
       "      <td>5</td>\n",
       "      <td>27703.820688</td>\n",
       "      <td>3</td>\n",
       "    </tr>\n",
       "  </tbody>\n",
       "</table>\n",
       "<p>49879 rows × 20 columns</p>\n",
       "</div>"
      ],
      "text/plain": [
       "       price  model_year           model  condition  cylinders fuel  \\\n",
       "0       9400        2011          bmw x5       good          6  gas   \n",
       "1      25500        2011      ford f-150       good          6  gas   \n",
       "2       5500        2013  hyundai sonata   like new          4  gas   \n",
       "3       1500        2003      ford f-150       fair          8  gas   \n",
       "4      14900        2017    chrysler 200  excellent          4  gas   \n",
       "...      ...         ...             ...        ...        ...  ...   \n",
       "51520   9249        2013   nissan maxima   like new          6  gas   \n",
       "51521   2700        2002     honda civic    salvage          4  gas   \n",
       "51522   3950        2009  hyundai sonata  excellent          4  gas   \n",
       "51523   7455        2013  toyota corolla       good          4  gas   \n",
       "51524   6300        2014   nissan altima       good          4  gas   \n",
       "\n",
       "           odometer transmission    type  paint_color  is_4wd date_posted  \\\n",
       "0      145000.00000    automatic     SUV  desconocido    True  2018-06-23   \n",
       "1       88705.00000    automatic  pickup        white    True  2018-10-19   \n",
       "2      110000.00000    automatic   sedan          red   False  2019-02-07   \n",
       "3      138519.10344    automatic  pickup  desconocido   False  2019-03-22   \n",
       "4       80903.00000    automatic   sedan        black   False  2019-04-02   \n",
       "...             ...          ...     ...          ...     ...         ...   \n",
       "51520   88136.00000    automatic   sedan        black   False  2018-10-03   \n",
       "51521  181500.00000    automatic   sedan        white   False  2018-11-14   \n",
       "51522  128000.00000    automatic   sedan         blue   False  2018-11-15   \n",
       "51523  139573.00000    automatic   sedan        black   False  2018-07-02   \n",
       "51524  138519.10344    automatic   sedan  desconocido   False  2018-06-05   \n",
       "\n",
       "       days_listed precios_vehiculos   año  mes  day  antiguedad  \\\n",
       "0               19   valor económico  2018    6   23           8   \n",
       "1               50           costoso  2018   10   19           8   \n",
       "2               79   valor económico  2019    2    7           7   \n",
       "3                9   valor económico  2019    3   22          17   \n",
       "4               28       valor medio  2019    4    2           3   \n",
       "...            ...               ...   ...  ...  ...         ...   \n",
       "51520           37   valor económico  2018   10    3           6   \n",
       "51521           22   valor económico  2018   11   14          17   \n",
       "51522           32   valor económico  2018   11   15          10   \n",
       "51523           71   valor económico  2018    7    2           6   \n",
       "51524           10   valor económico  2018    6    5           5   \n",
       "\n",
       "       millaje_promedio  ids_condition  \n",
       "0          18125.000000              3  \n",
       "1          11088.125000              3  \n",
       "2          15714.285714              5  \n",
       "3           8148.182555              2  \n",
       "4          26967.666667              4  \n",
       "...                 ...            ...  \n",
       "51520      14689.333333              5  \n",
       "51521      10676.470588              1  \n",
       "51522      12800.000000              4  \n",
       "51523      23262.166667              3  \n",
       "51524      27703.820688              3  \n",
       "\n",
       "[49879 rows x 20 columns]"
      ]
     },
     "execution_count": 305,
     "metadata": {},
     "output_type": "execute_result"
    }
   ],
   "source": [
    "anuncios.query(\"price >= -12758.5 and price <= 34597.5\")# Almacena los datos sin valores atípicos en un DataFrame separado"
   ]
  },
  {
   "cell_type": "markdown",
   "metadata": {},
   "source": [
    "Datos filtrados para la columna antiguedad."
   ]
  },
  {
   "cell_type": "code",
   "execution_count": 306,
   "metadata": {
    "scrolled": true
   },
   "outputs": [
    {
     "data": {
      "text/html": [
       "<div>\n",
       "<style scoped>\n",
       "    .dataframe tbody tr th:only-of-type {\n",
       "        vertical-align: middle;\n",
       "    }\n",
       "\n",
       "    .dataframe tbody tr th {\n",
       "        vertical-align: top;\n",
       "    }\n",
       "\n",
       "    .dataframe thead th {\n",
       "        text-align: right;\n",
       "    }\n",
       "</style>\n",
       "<table border=\"1\" class=\"dataframe\">\n",
       "  <thead>\n",
       "    <tr style=\"text-align: right;\">\n",
       "      <th></th>\n",
       "      <th>price</th>\n",
       "      <th>model_year</th>\n",
       "      <th>model</th>\n",
       "      <th>condition</th>\n",
       "      <th>cylinders</th>\n",
       "      <th>fuel</th>\n",
       "      <th>odometer</th>\n",
       "      <th>transmission</th>\n",
       "      <th>type</th>\n",
       "      <th>paint_color</th>\n",
       "      <th>is_4wd</th>\n",
       "      <th>date_posted</th>\n",
       "      <th>days_listed</th>\n",
       "      <th>precios_vehiculos</th>\n",
       "      <th>año</th>\n",
       "      <th>mes</th>\n",
       "      <th>day</th>\n",
       "      <th>antiguedad</th>\n",
       "      <th>millaje_promedio</th>\n",
       "      <th>ids_condition</th>\n",
       "    </tr>\n",
       "  </thead>\n",
       "  <tbody>\n",
       "    <tr>\n",
       "      <th>0</th>\n",
       "      <td>9400</td>\n",
       "      <td>2011</td>\n",
       "      <td>bmw x5</td>\n",
       "      <td>good</td>\n",
       "      <td>6</td>\n",
       "      <td>gas</td>\n",
       "      <td>145000.00000</td>\n",
       "      <td>automatic</td>\n",
       "      <td>SUV</td>\n",
       "      <td>desconocido</td>\n",
       "      <td>True</td>\n",
       "      <td>2018-06-23</td>\n",
       "      <td>19</td>\n",
       "      <td>valor económico</td>\n",
       "      <td>2018</td>\n",
       "      <td>6</td>\n",
       "      <td>23</td>\n",
       "      <td>8</td>\n",
       "      <td>18125.000000</td>\n",
       "      <td>3</td>\n",
       "    </tr>\n",
       "    <tr>\n",
       "      <th>1</th>\n",
       "      <td>25500</td>\n",
       "      <td>2011</td>\n",
       "      <td>ford f-150</td>\n",
       "      <td>good</td>\n",
       "      <td>6</td>\n",
       "      <td>gas</td>\n",
       "      <td>88705.00000</td>\n",
       "      <td>automatic</td>\n",
       "      <td>pickup</td>\n",
       "      <td>white</td>\n",
       "      <td>True</td>\n",
       "      <td>2018-10-19</td>\n",
       "      <td>50</td>\n",
       "      <td>costoso</td>\n",
       "      <td>2018</td>\n",
       "      <td>10</td>\n",
       "      <td>19</td>\n",
       "      <td>8</td>\n",
       "      <td>11088.125000</td>\n",
       "      <td>3</td>\n",
       "    </tr>\n",
       "    <tr>\n",
       "      <th>2</th>\n",
       "      <td>5500</td>\n",
       "      <td>2013</td>\n",
       "      <td>hyundai sonata</td>\n",
       "      <td>like new</td>\n",
       "      <td>4</td>\n",
       "      <td>gas</td>\n",
       "      <td>110000.00000</td>\n",
       "      <td>automatic</td>\n",
       "      <td>sedan</td>\n",
       "      <td>red</td>\n",
       "      <td>False</td>\n",
       "      <td>2019-02-07</td>\n",
       "      <td>79</td>\n",
       "      <td>valor económico</td>\n",
       "      <td>2019</td>\n",
       "      <td>2</td>\n",
       "      <td>7</td>\n",
       "      <td>7</td>\n",
       "      <td>15714.285714</td>\n",
       "      <td>5</td>\n",
       "    </tr>\n",
       "    <tr>\n",
       "      <th>3</th>\n",
       "      <td>1500</td>\n",
       "      <td>2003</td>\n",
       "      <td>ford f-150</td>\n",
       "      <td>fair</td>\n",
       "      <td>8</td>\n",
       "      <td>gas</td>\n",
       "      <td>138519.10344</td>\n",
       "      <td>automatic</td>\n",
       "      <td>pickup</td>\n",
       "      <td>desconocido</td>\n",
       "      <td>False</td>\n",
       "      <td>2019-03-22</td>\n",
       "      <td>9</td>\n",
       "      <td>valor económico</td>\n",
       "      <td>2019</td>\n",
       "      <td>3</td>\n",
       "      <td>22</td>\n",
       "      <td>17</td>\n",
       "      <td>8148.182555</td>\n",
       "      <td>2</td>\n",
       "    </tr>\n",
       "    <tr>\n",
       "      <th>4</th>\n",
       "      <td>14900</td>\n",
       "      <td>2017</td>\n",
       "      <td>chrysler 200</td>\n",
       "      <td>excellent</td>\n",
       "      <td>4</td>\n",
       "      <td>gas</td>\n",
       "      <td>80903.00000</td>\n",
       "      <td>automatic</td>\n",
       "      <td>sedan</td>\n",
       "      <td>black</td>\n",
       "      <td>False</td>\n",
       "      <td>2019-04-02</td>\n",
       "      <td>28</td>\n",
       "      <td>valor medio</td>\n",
       "      <td>2019</td>\n",
       "      <td>4</td>\n",
       "      <td>2</td>\n",
       "      <td>3</td>\n",
       "      <td>26967.666667</td>\n",
       "      <td>4</td>\n",
       "    </tr>\n",
       "    <tr>\n",
       "      <th>...</th>\n",
       "      <td>...</td>\n",
       "      <td>...</td>\n",
       "      <td>...</td>\n",
       "      <td>...</td>\n",
       "      <td>...</td>\n",
       "      <td>...</td>\n",
       "      <td>...</td>\n",
       "      <td>...</td>\n",
       "      <td>...</td>\n",
       "      <td>...</td>\n",
       "      <td>...</td>\n",
       "      <td>...</td>\n",
       "      <td>...</td>\n",
       "      <td>...</td>\n",
       "      <td>...</td>\n",
       "      <td>...</td>\n",
       "      <td>...</td>\n",
       "      <td>...</td>\n",
       "      <td>...</td>\n",
       "      <td>...</td>\n",
       "    </tr>\n",
       "    <tr>\n",
       "      <th>51520</th>\n",
       "      <td>9249</td>\n",
       "      <td>2013</td>\n",
       "      <td>nissan maxima</td>\n",
       "      <td>like new</td>\n",
       "      <td>6</td>\n",
       "      <td>gas</td>\n",
       "      <td>88136.00000</td>\n",
       "      <td>automatic</td>\n",
       "      <td>sedan</td>\n",
       "      <td>black</td>\n",
       "      <td>False</td>\n",
       "      <td>2018-10-03</td>\n",
       "      <td>37</td>\n",
       "      <td>valor económico</td>\n",
       "      <td>2018</td>\n",
       "      <td>10</td>\n",
       "      <td>3</td>\n",
       "      <td>6</td>\n",
       "      <td>14689.333333</td>\n",
       "      <td>5</td>\n",
       "    </tr>\n",
       "    <tr>\n",
       "      <th>51521</th>\n",
       "      <td>2700</td>\n",
       "      <td>2002</td>\n",
       "      <td>honda civic</td>\n",
       "      <td>salvage</td>\n",
       "      <td>4</td>\n",
       "      <td>gas</td>\n",
       "      <td>181500.00000</td>\n",
       "      <td>automatic</td>\n",
       "      <td>sedan</td>\n",
       "      <td>white</td>\n",
       "      <td>False</td>\n",
       "      <td>2018-11-14</td>\n",
       "      <td>22</td>\n",
       "      <td>valor económico</td>\n",
       "      <td>2018</td>\n",
       "      <td>11</td>\n",
       "      <td>14</td>\n",
       "      <td>17</td>\n",
       "      <td>10676.470588</td>\n",
       "      <td>1</td>\n",
       "    </tr>\n",
       "    <tr>\n",
       "      <th>51522</th>\n",
       "      <td>3950</td>\n",
       "      <td>2009</td>\n",
       "      <td>hyundai sonata</td>\n",
       "      <td>excellent</td>\n",
       "      <td>4</td>\n",
       "      <td>gas</td>\n",
       "      <td>128000.00000</td>\n",
       "      <td>automatic</td>\n",
       "      <td>sedan</td>\n",
       "      <td>blue</td>\n",
       "      <td>False</td>\n",
       "      <td>2018-11-15</td>\n",
       "      <td>32</td>\n",
       "      <td>valor económico</td>\n",
       "      <td>2018</td>\n",
       "      <td>11</td>\n",
       "      <td>15</td>\n",
       "      <td>10</td>\n",
       "      <td>12800.000000</td>\n",
       "      <td>4</td>\n",
       "    </tr>\n",
       "    <tr>\n",
       "      <th>51523</th>\n",
       "      <td>7455</td>\n",
       "      <td>2013</td>\n",
       "      <td>toyota corolla</td>\n",
       "      <td>good</td>\n",
       "      <td>4</td>\n",
       "      <td>gas</td>\n",
       "      <td>139573.00000</td>\n",
       "      <td>automatic</td>\n",
       "      <td>sedan</td>\n",
       "      <td>black</td>\n",
       "      <td>False</td>\n",
       "      <td>2018-07-02</td>\n",
       "      <td>71</td>\n",
       "      <td>valor económico</td>\n",
       "      <td>2018</td>\n",
       "      <td>7</td>\n",
       "      <td>2</td>\n",
       "      <td>6</td>\n",
       "      <td>23262.166667</td>\n",
       "      <td>3</td>\n",
       "    </tr>\n",
       "    <tr>\n",
       "      <th>51524</th>\n",
       "      <td>6300</td>\n",
       "      <td>2014</td>\n",
       "      <td>nissan altima</td>\n",
       "      <td>good</td>\n",
       "      <td>4</td>\n",
       "      <td>gas</td>\n",
       "      <td>138519.10344</td>\n",
       "      <td>automatic</td>\n",
       "      <td>sedan</td>\n",
       "      <td>desconocido</td>\n",
       "      <td>False</td>\n",
       "      <td>2018-06-05</td>\n",
       "      <td>10</td>\n",
       "      <td>valor económico</td>\n",
       "      <td>2018</td>\n",
       "      <td>6</td>\n",
       "      <td>5</td>\n",
       "      <td>5</td>\n",
       "      <td>27703.820688</td>\n",
       "      <td>3</td>\n",
       "    </tr>\n",
       "  </tbody>\n",
       "</table>\n",
       "<p>50638 rows × 20 columns</p>\n",
       "</div>"
      ],
      "text/plain": [
       "       price  model_year           model  condition  cylinders fuel  \\\n",
       "0       9400        2011          bmw x5       good          6  gas   \n",
       "1      25500        2011      ford f-150       good          6  gas   \n",
       "2       5500        2013  hyundai sonata   like new          4  gas   \n",
       "3       1500        2003      ford f-150       fair          8  gas   \n",
       "4      14900        2017    chrysler 200  excellent          4  gas   \n",
       "...      ...         ...             ...        ...        ...  ...   \n",
       "51520   9249        2013   nissan maxima   like new          6  gas   \n",
       "51521   2700        2002     honda civic    salvage          4  gas   \n",
       "51522   3950        2009  hyundai sonata  excellent          4  gas   \n",
       "51523   7455        2013  toyota corolla       good          4  gas   \n",
       "51524   6300        2014   nissan altima       good          4  gas   \n",
       "\n",
       "           odometer transmission    type  paint_color  is_4wd date_posted  \\\n",
       "0      145000.00000    automatic     SUV  desconocido    True  2018-06-23   \n",
       "1       88705.00000    automatic  pickup        white    True  2018-10-19   \n",
       "2      110000.00000    automatic   sedan          red   False  2019-02-07   \n",
       "3      138519.10344    automatic  pickup  desconocido   False  2019-03-22   \n",
       "4       80903.00000    automatic   sedan        black   False  2019-04-02   \n",
       "...             ...          ...     ...          ...     ...         ...   \n",
       "51520   88136.00000    automatic   sedan        black   False  2018-10-03   \n",
       "51521  181500.00000    automatic   sedan        white   False  2018-11-14   \n",
       "51522  128000.00000    automatic   sedan         blue   False  2018-11-15   \n",
       "51523  139573.00000    automatic   sedan        black   False  2018-07-02   \n",
       "51524  138519.10344    automatic   sedan  desconocido   False  2018-06-05   \n",
       "\n",
       "       days_listed precios_vehiculos   año  mes  day  antiguedad  \\\n",
       "0               19   valor económico  2018    6   23           8   \n",
       "1               50           costoso  2018   10   19           8   \n",
       "2               79   valor económico  2019    2    7           7   \n",
       "3                9   valor económico  2019    3   22          17   \n",
       "4               28       valor medio  2019    4    2           3   \n",
       "...            ...               ...   ...  ...  ...         ...   \n",
       "51520           37   valor económico  2018   10    3           6   \n",
       "51521           22   valor económico  2018   11   14          17   \n",
       "51522           32   valor económico  2018   11   15          10   \n",
       "51523           71   valor económico  2018    7    2           6   \n",
       "51524           10   valor económico  2018    6    5           5   \n",
       "\n",
       "       millaje_promedio  ids_condition  \n",
       "0          18125.000000              3  \n",
       "1          11088.125000              3  \n",
       "2          15714.285714              5  \n",
       "3           8148.182555              2  \n",
       "4          26967.666667              4  \n",
       "...                 ...            ...  \n",
       "51520      14689.333333              5  \n",
       "51521      10676.470588              1  \n",
       "51522      12800.000000              4  \n",
       "51523      23262.166667              3  \n",
       "51524      27703.820688              3  \n",
       "\n",
       "[50638 rows x 20 columns]"
      ]
     },
     "execution_count": 306,
     "metadata": {},
     "output_type": "execute_result"
    }
   ],
   "source": [
    "anuncios.query(\"antiguedad >= -8.0 and antiguedad <= 24.0\")"
   ]
  },
  {
   "cell_type": "markdown",
   "metadata": {},
   "source": [
    "Datos filtrados para la columna odometer."
   ]
  },
  {
   "cell_type": "code",
   "execution_count": 307,
   "metadata": {},
   "outputs": [
    {
     "data": {
      "text/html": [
       "<div>\n",
       "<style scoped>\n",
       "    .dataframe tbody tr th:only-of-type {\n",
       "        vertical-align: middle;\n",
       "    }\n",
       "\n",
       "    .dataframe tbody tr th {\n",
       "        vertical-align: top;\n",
       "    }\n",
       "\n",
       "    .dataframe thead th {\n",
       "        text-align: right;\n",
       "    }\n",
       "</style>\n",
       "<table border=\"1\" class=\"dataframe\">\n",
       "  <thead>\n",
       "    <tr style=\"text-align: right;\">\n",
       "      <th></th>\n",
       "      <th>price</th>\n",
       "      <th>model_year</th>\n",
       "      <th>model</th>\n",
       "      <th>condition</th>\n",
       "      <th>cylinders</th>\n",
       "      <th>fuel</th>\n",
       "      <th>odometer</th>\n",
       "      <th>transmission</th>\n",
       "      <th>type</th>\n",
       "      <th>paint_color</th>\n",
       "      <th>is_4wd</th>\n",
       "      <th>date_posted</th>\n",
       "      <th>days_listed</th>\n",
       "      <th>precios_vehiculos</th>\n",
       "      <th>año</th>\n",
       "      <th>mes</th>\n",
       "      <th>day</th>\n",
       "      <th>antiguedad</th>\n",
       "      <th>millaje_promedio</th>\n",
       "      <th>ids_condition</th>\n",
       "    </tr>\n",
       "  </thead>\n",
       "  <tbody>\n",
       "    <tr>\n",
       "      <th>0</th>\n",
       "      <td>9400</td>\n",
       "      <td>2011</td>\n",
       "      <td>bmw x5</td>\n",
       "      <td>good</td>\n",
       "      <td>6</td>\n",
       "      <td>gas</td>\n",
       "      <td>145000.00000</td>\n",
       "      <td>automatic</td>\n",
       "      <td>SUV</td>\n",
       "      <td>desconocido</td>\n",
       "      <td>True</td>\n",
       "      <td>2018-06-23</td>\n",
       "      <td>19</td>\n",
       "      <td>valor económico</td>\n",
       "      <td>2018</td>\n",
       "      <td>6</td>\n",
       "      <td>23</td>\n",
       "      <td>8</td>\n",
       "      <td>18125.000000</td>\n",
       "      <td>3</td>\n",
       "    </tr>\n",
       "    <tr>\n",
       "      <th>1</th>\n",
       "      <td>25500</td>\n",
       "      <td>2011</td>\n",
       "      <td>ford f-150</td>\n",
       "      <td>good</td>\n",
       "      <td>6</td>\n",
       "      <td>gas</td>\n",
       "      <td>88705.00000</td>\n",
       "      <td>automatic</td>\n",
       "      <td>pickup</td>\n",
       "      <td>white</td>\n",
       "      <td>True</td>\n",
       "      <td>2018-10-19</td>\n",
       "      <td>50</td>\n",
       "      <td>costoso</td>\n",
       "      <td>2018</td>\n",
       "      <td>10</td>\n",
       "      <td>19</td>\n",
       "      <td>8</td>\n",
       "      <td>11088.125000</td>\n",
       "      <td>3</td>\n",
       "    </tr>\n",
       "    <tr>\n",
       "      <th>2</th>\n",
       "      <td>5500</td>\n",
       "      <td>2013</td>\n",
       "      <td>hyundai sonata</td>\n",
       "      <td>like new</td>\n",
       "      <td>4</td>\n",
       "      <td>gas</td>\n",
       "      <td>110000.00000</td>\n",
       "      <td>automatic</td>\n",
       "      <td>sedan</td>\n",
       "      <td>red</td>\n",
       "      <td>False</td>\n",
       "      <td>2019-02-07</td>\n",
       "      <td>79</td>\n",
       "      <td>valor económico</td>\n",
       "      <td>2019</td>\n",
       "      <td>2</td>\n",
       "      <td>7</td>\n",
       "      <td>7</td>\n",
       "      <td>15714.285714</td>\n",
       "      <td>5</td>\n",
       "    </tr>\n",
       "    <tr>\n",
       "      <th>3</th>\n",
       "      <td>1500</td>\n",
       "      <td>2003</td>\n",
       "      <td>ford f-150</td>\n",
       "      <td>fair</td>\n",
       "      <td>8</td>\n",
       "      <td>gas</td>\n",
       "      <td>138519.10344</td>\n",
       "      <td>automatic</td>\n",
       "      <td>pickup</td>\n",
       "      <td>desconocido</td>\n",
       "      <td>False</td>\n",
       "      <td>2019-03-22</td>\n",
       "      <td>9</td>\n",
       "      <td>valor económico</td>\n",
       "      <td>2019</td>\n",
       "      <td>3</td>\n",
       "      <td>22</td>\n",
       "      <td>17</td>\n",
       "      <td>8148.182555</td>\n",
       "      <td>2</td>\n",
       "    </tr>\n",
       "    <tr>\n",
       "      <th>4</th>\n",
       "      <td>14900</td>\n",
       "      <td>2017</td>\n",
       "      <td>chrysler 200</td>\n",
       "      <td>excellent</td>\n",
       "      <td>4</td>\n",
       "      <td>gas</td>\n",
       "      <td>80903.00000</td>\n",
       "      <td>automatic</td>\n",
       "      <td>sedan</td>\n",
       "      <td>black</td>\n",
       "      <td>False</td>\n",
       "      <td>2019-04-02</td>\n",
       "      <td>28</td>\n",
       "      <td>valor medio</td>\n",
       "      <td>2019</td>\n",
       "      <td>4</td>\n",
       "      <td>2</td>\n",
       "      <td>3</td>\n",
       "      <td>26967.666667</td>\n",
       "      <td>4</td>\n",
       "    </tr>\n",
       "    <tr>\n",
       "      <th>...</th>\n",
       "      <td>...</td>\n",
       "      <td>...</td>\n",
       "      <td>...</td>\n",
       "      <td>...</td>\n",
       "      <td>...</td>\n",
       "      <td>...</td>\n",
       "      <td>...</td>\n",
       "      <td>...</td>\n",
       "      <td>...</td>\n",
       "      <td>...</td>\n",
       "      <td>...</td>\n",
       "      <td>...</td>\n",
       "      <td>...</td>\n",
       "      <td>...</td>\n",
       "      <td>...</td>\n",
       "      <td>...</td>\n",
       "      <td>...</td>\n",
       "      <td>...</td>\n",
       "      <td>...</td>\n",
       "      <td>...</td>\n",
       "    </tr>\n",
       "    <tr>\n",
       "      <th>51520</th>\n",
       "      <td>9249</td>\n",
       "      <td>2013</td>\n",
       "      <td>nissan maxima</td>\n",
       "      <td>like new</td>\n",
       "      <td>6</td>\n",
       "      <td>gas</td>\n",
       "      <td>88136.00000</td>\n",
       "      <td>automatic</td>\n",
       "      <td>sedan</td>\n",
       "      <td>black</td>\n",
       "      <td>False</td>\n",
       "      <td>2018-10-03</td>\n",
       "      <td>37</td>\n",
       "      <td>valor económico</td>\n",
       "      <td>2018</td>\n",
       "      <td>10</td>\n",
       "      <td>3</td>\n",
       "      <td>6</td>\n",
       "      <td>14689.333333</td>\n",
       "      <td>5</td>\n",
       "    </tr>\n",
       "    <tr>\n",
       "      <th>51521</th>\n",
       "      <td>2700</td>\n",
       "      <td>2002</td>\n",
       "      <td>honda civic</td>\n",
       "      <td>salvage</td>\n",
       "      <td>4</td>\n",
       "      <td>gas</td>\n",
       "      <td>181500.00000</td>\n",
       "      <td>automatic</td>\n",
       "      <td>sedan</td>\n",
       "      <td>white</td>\n",
       "      <td>False</td>\n",
       "      <td>2018-11-14</td>\n",
       "      <td>22</td>\n",
       "      <td>valor económico</td>\n",
       "      <td>2018</td>\n",
       "      <td>11</td>\n",
       "      <td>14</td>\n",
       "      <td>17</td>\n",
       "      <td>10676.470588</td>\n",
       "      <td>1</td>\n",
       "    </tr>\n",
       "    <tr>\n",
       "      <th>51522</th>\n",
       "      <td>3950</td>\n",
       "      <td>2009</td>\n",
       "      <td>hyundai sonata</td>\n",
       "      <td>excellent</td>\n",
       "      <td>4</td>\n",
       "      <td>gas</td>\n",
       "      <td>128000.00000</td>\n",
       "      <td>automatic</td>\n",
       "      <td>sedan</td>\n",
       "      <td>blue</td>\n",
       "      <td>False</td>\n",
       "      <td>2018-11-15</td>\n",
       "      <td>32</td>\n",
       "      <td>valor económico</td>\n",
       "      <td>2018</td>\n",
       "      <td>11</td>\n",
       "      <td>15</td>\n",
       "      <td>10</td>\n",
       "      <td>12800.000000</td>\n",
       "      <td>4</td>\n",
       "    </tr>\n",
       "    <tr>\n",
       "      <th>51523</th>\n",
       "      <td>7455</td>\n",
       "      <td>2013</td>\n",
       "      <td>toyota corolla</td>\n",
       "      <td>good</td>\n",
       "      <td>4</td>\n",
       "      <td>gas</td>\n",
       "      <td>139573.00000</td>\n",
       "      <td>automatic</td>\n",
       "      <td>sedan</td>\n",
       "      <td>black</td>\n",
       "      <td>False</td>\n",
       "      <td>2018-07-02</td>\n",
       "      <td>71</td>\n",
       "      <td>valor económico</td>\n",
       "      <td>2018</td>\n",
       "      <td>7</td>\n",
       "      <td>2</td>\n",
       "      <td>6</td>\n",
       "      <td>23262.166667</td>\n",
       "      <td>3</td>\n",
       "    </tr>\n",
       "    <tr>\n",
       "      <th>51524</th>\n",
       "      <td>6300</td>\n",
       "      <td>2014</td>\n",
       "      <td>nissan altima</td>\n",
       "      <td>good</td>\n",
       "      <td>4</td>\n",
       "      <td>gas</td>\n",
       "      <td>138519.10344</td>\n",
       "      <td>automatic</td>\n",
       "      <td>sedan</td>\n",
       "      <td>desconocido</td>\n",
       "      <td>False</td>\n",
       "      <td>2018-06-05</td>\n",
       "      <td>10</td>\n",
       "      <td>valor económico</td>\n",
       "      <td>2018</td>\n",
       "      <td>6</td>\n",
       "      <td>5</td>\n",
       "      <td>5</td>\n",
       "      <td>27703.820688</td>\n",
       "      <td>3</td>\n",
       "    </tr>\n",
       "  </tbody>\n",
       "</table>\n",
       "<p>50524 rows × 20 columns</p>\n",
       "</div>"
      ],
      "text/plain": [
       "       price  model_year           model  condition  cylinders fuel  \\\n",
       "0       9400        2011          bmw x5       good          6  gas   \n",
       "1      25500        2011      ford f-150       good          6  gas   \n",
       "2       5500        2013  hyundai sonata   like new          4  gas   \n",
       "3       1500        2003      ford f-150       fair          8  gas   \n",
       "4      14900        2017    chrysler 200  excellent          4  gas   \n",
       "...      ...         ...             ...        ...        ...  ...   \n",
       "51520   9249        2013   nissan maxima   like new          6  gas   \n",
       "51521   2700        2002     honda civic    salvage          4  gas   \n",
       "51522   3950        2009  hyundai sonata  excellent          4  gas   \n",
       "51523   7455        2013  toyota corolla       good          4  gas   \n",
       "51524   6300        2014   nissan altima       good          4  gas   \n",
       "\n",
       "           odometer transmission    type  paint_color  is_4wd date_posted  \\\n",
       "0      145000.00000    automatic     SUV  desconocido    True  2018-06-23   \n",
       "1       88705.00000    automatic  pickup        white    True  2018-10-19   \n",
       "2      110000.00000    automatic   sedan          red   False  2019-02-07   \n",
       "3      138519.10344    automatic  pickup  desconocido   False  2019-03-22   \n",
       "4       80903.00000    automatic   sedan        black   False  2019-04-02   \n",
       "...             ...          ...     ...          ...     ...         ...   \n",
       "51520   88136.00000    automatic   sedan        black   False  2018-10-03   \n",
       "51521  181500.00000    automatic   sedan        white   False  2018-11-14   \n",
       "51522  128000.00000    automatic   sedan         blue   False  2018-11-15   \n",
       "51523  139573.00000    automatic   sedan        black   False  2018-07-02   \n",
       "51524  138519.10344    automatic   sedan  desconocido   False  2018-06-05   \n",
       "\n",
       "       days_listed precios_vehiculos   año  mes  day  antiguedad  \\\n",
       "0               19   valor económico  2018    6   23           8   \n",
       "1               50           costoso  2018   10   19           8   \n",
       "2               79   valor económico  2019    2    7           7   \n",
       "3                9   valor económico  2019    3   22          17   \n",
       "4               28       valor medio  2019    4    2           3   \n",
       "...            ...               ...   ...  ...  ...         ...   \n",
       "51520           37   valor económico  2018   10    3           6   \n",
       "51521           22   valor económico  2018   11   14          17   \n",
       "51522           32   valor económico  2018   11   15          10   \n",
       "51523           71   valor económico  2018    7    2           6   \n",
       "51524           10   valor económico  2018    6    5           5   \n",
       "\n",
       "       millaje_promedio  ids_condition  \n",
       "0          18125.000000              3  \n",
       "1          11088.125000              3  \n",
       "2          15714.285714              5  \n",
       "3           8148.182555              2  \n",
       "4          26967.666667              4  \n",
       "...                 ...            ...  \n",
       "51520      14689.333333              5  \n",
       "51521      10676.470588              1  \n",
       "51522      12800.000000              4  \n",
       "51523      23262.166667              3  \n",
       "51524      27703.820688              3  \n",
       "\n",
       "[50524 rows x 20 columns]"
      ]
     },
     "execution_count": 307,
     "metadata": {},
     "output_type": "execute_result"
    }
   ],
   "source": [
    "anuncios.query(\"odometer >= -30694.60763469439 and odometer <= 252882.36458081665\")"
   ]
  },
  {
   "cell_type": "markdown",
   "metadata": {},
   "source": [
    "## Estudiar parámetros principales sin valores atípicos"
   ]
  },
  {
   "cell_type": "markdown",
   "metadata": {},
   "source": [
    "Se trazan nuevamente histogramas para las columnas donde se identificaron valores atípicos, filtrando éstos valores para visualizar los cambios."
   ]
  },
  {
   "cell_type": "code",
   "execution_count": 308,
   "metadata": {},
   "outputs": [
    {
     "data": {
      "image/png": "[encoded data removed]",
      "text/plain": [
       "<Figure size 432x288 with 1 Axes>"
      ]
     },
     "metadata": {
      "needs_background": "light"
     },
     "output_type": "display_data"
    }
   ],
   "source": [
    "anuncios.query(\"price >= -12758.5 and price <= 34597.5\")[\"price\"].hist(bins=100)\n",
    "plt.title(\"Histograma precios sin atípicos\")\n",
    "plt.xlabel(\"Precios de los vehículos\")\n",
    "plt.ylabel(\"Frecuencias\")\n",
    "plt.show()"
   ]
  },
  {
   "cell_type": "markdown",
   "metadata": {},
   "source": [
    "Al revisar el histograma de la columna \"price\" sin los valores atípicos, se encuentra que la mayor cantidad de vehículos se encuentra entre unos rangos de precios entre los 5000 y 10000. En éste histograma no se evidencian datos por lejos de donde se concentran la mayor cantidad de los valores. El histograma presenta un sesgo positivo a la derecha. "
   ]
  },
  {
   "cell_type": "markdown",
   "metadata": {},
   "source": [
    "Se trazan los dos histogramas, para los valores de precios con valores atipicos y sin valores atipicos."
   ]
  },
  {
   "cell_type": "code",
   "execution_count": 309,
   "metadata": {},
   "outputs": [
    {
     "data": {
      "image/png": "[encoded data removed]",
      "text/plain": [
       "<Figure size 432x288 with 1 Axes>"
      ]
     },
     "metadata": {
      "needs_background": "light"
     },
     "output_type": "display_data"
    }
   ],
   "source": [
    "plt.hist(anuncios[\"price\"],label=\"precios con atipicos\",alpha=0.7,edgecolor=\"red\")\n",
    "plt.hist(anuncios.query(\"price >= -12758.5 and price <= 34597.5\")[\"price\"],label=\"precios sin atipicos\",alpha=0.7,edgecolor=\"green\")\n",
    "plt.legend()\n",
    "plt.show()"
   ]
  },
  {
   "cell_type": "code",
   "execution_count": 310,
   "metadata": {},
   "outputs": [
    {
     "data": {
      "image/png": "[encoded data removed]",
      "text/plain": [
       "<Figure size 432x288 with 1 Axes>"
      ]
     },
     "metadata": {
      "needs_background": "light"
     },
     "output_type": "display_data"
    }
   ],
   "source": [
    "anuncios.query(\"antiguedad >= -8.0 and antiguedad <= 24.0 \")[\"antiguedad\"].hist(bins=100)\n",
    "plt.title(\"Histograma antiguedades sin atipicos\")\n",
    "plt.xlabel(\"Antiguedades de los vehículos\")\n",
    "plt.ylabel(\"Frecuencias\")\n",
    "plt.show()"
   ]
  },
  {
   "cell_type": "markdown",
   "metadata": {},
   "source": [
    "Para el histograma de la columna antiguedad, sin los valores atipicos se evidencia que la mayoría de los vehículos tienen unas antiguedades entre 5 y alrededor de 7 años. Se evidencia que menor cantidad de vehiculos tienen una antiguedad superior a los 20 años. El histograma tiene un sesgo positivo a la derecha.No se visualizan datos lejos de la mayor cantidad de los valores."
   ]
  },
  {
   "cell_type": "markdown",
   "metadata": {},
   "source": [
    "Se trazan los dos histogramas, para los valores de antiguedades de los vehiculos con datos atipicos y sin datos atipicos."
   ]
  },
  {
   "cell_type": "code",
   "execution_count": 311,
   "metadata": {},
   "outputs": [
    {
     "data": {
      "image/png": "[encoded data removed]",
      "text/plain": [
       "<Figure size 432x288 with 1 Axes>"
      ]
     },
     "metadata": {
      "needs_background": "light"
     },
     "output_type": "display_data"
    }
   ],
   "source": [
    "plt.hist(anuncios[\"antiguedad\"],label=\"antiguedades con atipicos\",alpha=0.7,edgecolor=\"red\")\n",
    "plt.hist(anuncios.query(\"antiguedad >= -8.0 and antiguedad <= 24.0\")[\"antiguedad\"],label=\"antiguedades sin atipicos\",alpha=0.7,edgecolor=\"green\")\n",
    "plt.legend()\n",
    "plt.show()"
   ]
  },
  {
   "cell_type": "code",
   "execution_count": 312,
   "metadata": {},
   "outputs": [
    {
     "data": {
      "image/png": "[encoded data removed]",
      "text/plain": [
       "<Figure size 432x288 with 1 Axes>"
      ]
     },
     "metadata": {
      "needs_background": "light"
     },
     "output_type": "display_data"
    }
   ],
   "source": [
    "anuncios.query(\"odometer >= -30694.60763469439 and odometer <= 252882.36458081665\")[\"odometer\"].hist(bins=100)\n",
    "plt.title\n",
    "plt.show()"
   ]
  },
  {
   "cell_type": "markdown",
   "metadata": {},
   "source": [
    "De acuerdo al histograma que nos relaciona los kilometrajes de los vehiculos sin valores atipicos, se identifican mayores frecuencias para los vehiculos con kilometrajes cercanos a los 75000 y los 130000. Se encuentran pocos vehiculos con kilomtrajes mayores a los 200000. No se visualizan datos lejanos a las zonas donde se reportan los valores."
   ]
  },
  {
   "cell_type": "code",
   "execution_count": 313,
   "metadata": {},
   "outputs": [
    {
     "data": {
      "image/png": "[encoded data removed]",
      "text/plain": [
       "<Figure size 432x288 with 1 Axes>"
      ]
     },
     "metadata": {
      "needs_background": "light"
     },
     "output_type": "display_data"
    }
   ],
   "source": [
    "plt.hist(anuncios[\"odometer\"],label=\"kilometrajes con atipicos\",alpha=0.7,edgecolor=\"red\")\n",
    "plt.hist(anuncios.query(\"odometer >= -30694.60763469439 and odometer <= 252882.36458081665\")[\"odometer\"],label=\"kilometrajes sin atipicos\",alpha=0.7,edgecolor=\"green\")\n",
    "plt.legend()\n",
    "plt.show()"
   ]
  },
  {
   "cell_type": "markdown",
   "metadata": {},
   "source": [
    "### Periodo de colocación de los anuncios"
   ]
  },
  {
   "cell_type": "markdown",
   "metadata": {},
   "source": [
    "Calculamos la media y la mediana a la columna \"days_listed\", lo cual permitirá revisar cuántos días generalmente son mostrados los anuncios de los vehículos y revisamos además cuantos días se consideran que son demasiados para tener publicado un anuncio."
   ]
  },
  {
   "cell_type": "code",
   "execution_count": 314,
   "metadata": {},
   "outputs": [
    {
     "data": {
      "text/plain": [
       "39.55475982532751"
      ]
     },
     "execution_count": 314,
     "metadata": {},
     "output_type": "execute_result"
    }
   ],
   "source": [
    "anuncios[\"days_listed\"].mean()"
   ]
  },
  {
   "cell_type": "code",
   "execution_count": 315,
   "metadata": {},
   "outputs": [
    {
     "data": {
      "text/plain": [
       "33.0"
      ]
     },
     "execution_count": 315,
     "metadata": {},
     "output_type": "execute_result"
    }
   ],
   "source": [
    "anuncios[\"days_listed\"].median()"
   ]
  },
  {
   "cell_type": "code",
   "execution_count": 316,
   "metadata": {},
   "outputs": [
    {
     "data": {
      "image/png": "[encoded data removed]",
      "text/plain": [
       "<Figure size 432x288 with 1 Axes>"
      ]
     },
     "metadata": {
      "needs_background": "light"
     },
     "output_type": "display_data"
    }
   ],
   "source": [
    "anuncios.boxplot(\"days_listed\")\n",
    "plt.show()"
   ]
  },
  {
   "cell_type": "markdown",
   "metadata": {},
   "source": [
    "De acuerdo al diagrama de cajas, se considera que los anuncios de los vehículos son mostrados en un rango de los 20 días (mínimo) y 50 días (máximo)."
   ]
  },
  {
   "cell_type": "markdown",
   "metadata": {},
   "source": [
    "### Precio promedio por cada tipo de vehículo"
   ]
  },
  {
   "cell_type": "markdown",
   "metadata": {},
   "source": [
    "Se analiza el número de anuncios y el precio promedio para cada tipo de vehículo. Posteriormente, se traza un gráfico mostrando la dependencia de la cantidad de anuncios en cada tipo de vehículo y se seleccionan los dos tipos con un mayor número de anuncios."
   ]
  },
  {
   "cell_type": "markdown",
   "metadata": {},
   "source": [
    "Filtramos la columna \"price\" sin los valores atípicos para realizar el conteo del número de anuncios."
   ]
  },
  {
   "cell_type": "code",
   "execution_count": 317,
   "metadata": {},
   "outputs": [],
   "source": [
    "anuncios[\"price\"]=anuncios.query(\"price >= -12758.5 and price <= 34597.5\")[\"price\"]"
   ]
  },
  {
   "cell_type": "code",
   "execution_count": 318,
   "metadata": {},
   "outputs": [
    {
     "data": {
      "text/html": [
       "<div>\n",
       "<style scoped>\n",
       "    .dataframe tbody tr th:only-of-type {\n",
       "        vertical-align: middle;\n",
       "    }\n",
       "\n",
       "    .dataframe tbody tr th {\n",
       "        vertical-align: top;\n",
       "    }\n",
       "\n",
       "    .dataframe thead th {\n",
       "        text-align: right;\n",
       "    }\n",
       "</style>\n",
       "<table border=\"1\" class=\"dataframe\">\n",
       "  <thead>\n",
       "    <tr style=\"text-align: right;\">\n",
       "      <th></th>\n",
       "      <th>type</th>\n",
       "      <th>mean</th>\n",
       "      <th>count</th>\n",
       "    </tr>\n",
       "  </thead>\n",
       "  <tbody>\n",
       "    <tr>\n",
       "      <th>9</th>\n",
       "      <td>sedan</td>\n",
       "      <td>6942.349551</td>\n",
       "      <td>12147</td>\n",
       "    </tr>\n",
       "    <tr>\n",
       "      <th>0</th>\n",
       "      <td>SUV</td>\n",
       "      <td>10359.897968</td>\n",
       "      <td>12104</td>\n",
       "    </tr>\n",
       "    <tr>\n",
       "      <th>10</th>\n",
       "      <td>truck</td>\n",
       "      <td>14820.840606</td>\n",
       "      <td>11550</td>\n",
       "    </tr>\n",
       "    <tr>\n",
       "      <th>8</th>\n",
       "      <td>pickup</td>\n",
       "      <td>14609.742072</td>\n",
       "      <td>6622</td>\n",
       "    </tr>\n",
       "    <tr>\n",
       "      <th>3</th>\n",
       "      <td>coupe</td>\n",
       "      <td>13269.010782</td>\n",
       "      <td>2226</td>\n",
       "    </tr>\n",
       "    <tr>\n",
       "      <th>12</th>\n",
       "      <td>wagon</td>\n",
       "      <td>8880.496408</td>\n",
       "      <td>1531</td>\n",
       "    </tr>\n",
       "    <tr>\n",
       "      <th>5</th>\n",
       "      <td>mini-van</td>\n",
       "      <td>8004.687986</td>\n",
       "      <td>1157</td>\n",
       "    </tr>\n",
       "    <tr>\n",
       "      <th>4</th>\n",
       "      <td>hatchback</td>\n",
       "      <td>6841.620459</td>\n",
       "      <td>1046</td>\n",
       "    </tr>\n",
       "    <tr>\n",
       "      <th>11</th>\n",
       "      <td>van</td>\n",
       "      <td>8743.340102</td>\n",
       "      <td>591</td>\n",
       "    </tr>\n",
       "    <tr>\n",
       "      <th>2</th>\n",
       "      <td>convertible</td>\n",
       "      <td>12511.617021</td>\n",
       "      <td>423</td>\n",
       "    </tr>\n",
       "    <tr>\n",
       "      <th>7</th>\n",
       "      <td>other</td>\n",
       "      <td>10507.194444</td>\n",
       "      <td>252</td>\n",
       "    </tr>\n",
       "    <tr>\n",
       "      <th>6</th>\n",
       "      <td>offroad</td>\n",
       "      <td>13177.674757</td>\n",
       "      <td>206</td>\n",
       "    </tr>\n",
       "    <tr>\n",
       "      <th>1</th>\n",
       "      <td>bus</td>\n",
       "      <td>17135.666667</td>\n",
       "      <td>24</td>\n",
       "    </tr>\n",
       "  </tbody>\n",
       "</table>\n",
       "</div>"
      ],
      "text/plain": [
       "           type          mean  count\n",
       "9         sedan   6942.349551  12147\n",
       "0           SUV  10359.897968  12104\n",
       "10        truck  14820.840606  11550\n",
       "8        pickup  14609.742072   6622\n",
       "3         coupe  13269.010782   2226\n",
       "12        wagon   8880.496408   1531\n",
       "5      mini-van   8004.687986   1157\n",
       "4     hatchback   6841.620459   1046\n",
       "11          van   8743.340102    591\n",
       "2   convertible  12511.617021    423\n",
       "7         other  10507.194444    252\n",
       "6       offroad  13177.674757    206\n",
       "1           bus  17135.666667     24"
      ]
     },
     "execution_count": 318,
     "metadata": {},
     "output_type": "execute_result"
    }
   ],
   "source": [
    "data_type=anuncios.groupby(\"type\")[\"price\"].agg([\"mean\",\"count\"]).reset_index().sort_values(by=\"count\",ascending=False)\n",
    "data_type"
   ]
  },
  {
   "cell_type": "markdown",
   "metadata": {},
   "source": [
    "Verificamos la dependencia del número de anuncios en cada tipo de vehículo."
   ]
  },
  {
   "cell_type": "code",
   "execution_count": 173,
   "metadata": {},
   "outputs": [
    {
     "data": {
      "image/png": "[encoded data removed]",
      "text/plain": [
       "<Figure size 720x432 with 1 Axes>"
      ]
     },
     "metadata": {
      "needs_background": "light"
     },
     "output_type": "display_data"
    }
   ],
   "source": [
    "data_type[\"count\"].sort_values(ascending=False).plot(kind=\"bar\",title=\"Anuncios por cada tipo de vehículo\",xlabel=\"Tipo de vehículo\",ylabel=\"Número de anuncios\",figsize=(10,6))\n",
    "plt.show()"
   ]
  },
  {
   "cell_type": "markdown",
   "metadata": {},
   "source": [
    "De acuerdo a la información del gráfico de barras que nos relaciona los tipos de vehículos con el número de anuncios, los vehículos con más número de anuncios son los tipo sedan, SUV y truck. Por el contrario, los menos comunes son los tipo offroad y bus."
   ]
  },
  {
   "cell_type": "markdown",
   "metadata": {},
   "source": [
    "### Factores de precio"
   ]
  },
  {
   "cell_type": "markdown",
   "metadata": {},
   "source": [
    "De acuerdo con el resultado anterior, se escogen entonces los vehiculos tipo sedan y SUV como los vehículos mas populares según el número de anuncios, y se establece la relación del precio para éste tipo de vehículos con las demás variables."
   ]
  },
  {
   "cell_type": "markdown",
   "metadata": {},
   "source": [
    "**Relación precio antiguedad.**"
   ]
  },
  {
   "cell_type": "markdown",
   "metadata": {},
   "source": [
    "Se establecen la relaciones de los precios de los vehículos con las variables antiguedad, millaje promedio, número de cilindros, condición y color."
   ]
  },
  {
   "cell_type": "code",
   "execution_count": 319,
   "metadata": {},
   "outputs": [
    {
     "data": {
      "image/png": "[encoded data removed]",
      "text/plain": [
       "<Figure size 720x432 with 1 Axes>"
      ]
     },
     "metadata": {
      "needs_background": "light"
     },
     "output_type": "display_data"
    }
   ],
   "source": [
    "anuncios.query('type==\"sedan\"').plot(kind=\"scatter\",x=\"antiguedad\",y=\"price\",figsize=(10,6),grid=True)\n",
    "plt.show()"
   ]
  },
  {
   "cell_type": "markdown",
   "metadata": {},
   "source": [
    "El diagrama de dispersión que nos relaciona las antiguedades y precios de los vehículos tipo sedan, nos muestra que a menor antiguedades se reportan mayores precios. Los mayores precios se encuentran en los vehículos con antiguedades menores a los 5 años."
   ]
  },
  {
   "cell_type": "code",
   "execution_count": 320,
   "metadata": {},
   "outputs": [
    {
     "data": {
      "image/png": "[encoded data removed]",
      "text/plain": [
       "<Figure size 720x432 with 1 Axes>"
      ]
     },
     "metadata": {
      "needs_background": "light"
     },
     "output_type": "display_data"
    }
   ],
   "source": [
    "anuncios.query('type==\"SUV\"').plot(kind=\"scatter\",x=\"antiguedad\",y=\"price\",figsize=(10,6),grid=True)\n",
    "plt.show()"
   ]
  },
  {
   "cell_type": "markdown",
   "metadata": {},
   "source": [
    "En los vehículos tipo SUV, se encuentran mayores precios en los vehículos con antiguedades menores a los 20 años."
   ]
  },
  {
   "cell_type": "markdown",
   "metadata": {},
   "source": [
    "**Relación precio con el kilometraje.**"
   ]
  },
  {
   "cell_type": "code",
   "execution_count": 321,
   "metadata": {},
   "outputs": [
    {
     "data": {
      "image/png": "[encoded data removed]",
      "text/plain": [
       "<Figure size 720x432 with 1 Axes>"
      ]
     },
     "metadata": {
      "needs_background": "light"
     },
     "output_type": "display_data"
    }
   ],
   "source": [
    "anuncios.query('type==\"sedan\"').plot(kind=\"scatter\",x=\"millaje_promedio\",y=\"price\",figsize=(10,6),grid=True)\n",
    "plt.show()"
   ]
  },
  {
   "cell_type": "markdown",
   "metadata": {},
   "source": [
    "En los vehículos tipo sedan se encontraron mayores precios en vehículos con kilometrajes menores a los 25000."
   ]
  },
  {
   "cell_type": "code",
   "execution_count": 323,
   "metadata": {},
   "outputs": [
    {
     "data": {
      "image/png": "[encoded data removed]",
      "text/plain": [
       "<Figure size 720x432 with 1 Axes>"
      ]
     },
     "metadata": {
      "needs_background": "light"
     },
     "output_type": "display_data"
    }
   ],
   "source": [
    "anuncios.query('type==\"SUV\"').plot(kind=\"scatter\",x=\"millaje_promedio\",y=\"price\",figsize=(10,6),grid=True)\n",
    "plt.show()"
   ]
  },
  {
   "cell_type": "markdown",
   "metadata": {},
   "source": [
    "De acuerdo con el diagrama de dispersión que nos relaciona el precio del tipo de vehículo SUV con el millaje, se observa que a menor kilometraje mayor precio. Los mayores precios se identifican en millajes menores a los 25000."
   ]
  },
  {
   "cell_type": "markdown",
   "metadata": {},
   "source": [
    "**Relación precios y cilindraje.**"
   ]
  },
  {
   "cell_type": "code",
   "execution_count": 324,
   "metadata": {},
   "outputs": [
    {
     "data": {
      "image/png": "[encoded data removed]",
      "text/plain": [
       "<Figure size 720x432 with 1 Axes>"
      ]
     },
     "metadata": {
      "needs_background": "light"
     },
     "output_type": "display_data"
    }
   ],
   "source": [
    "anuncios.query('type==\"sedan\"').plot(kind=\"scatter\",x=\"cylinders\",y=\"price\",figsize=(10,6),grid=True)\n",
    "plt.show()"
   ]
  },
  {
   "cell_type": "markdown",
   "metadata": {},
   "source": [
    "De acuerdo con el diagrama que nos relaciona los precios y número de cilindros en vehículos tipo sedan, los vehículos con 4 y 8 cilindros presentan mayores precios."
   ]
  },
  {
   "cell_type": "code",
   "execution_count": 325,
   "metadata": {},
   "outputs": [
    {
     "data": {
      "image/png": "[encoded data removed]",
      "text/plain": [
       "<Figure size 720x432 with 1 Axes>"
      ]
     },
     "metadata": {
      "needs_background": "light"
     },
     "output_type": "display_data"
    }
   ],
   "source": [
    "anuncios.query('type==\"SUV\"').plot(kind=\"scatter\",x=\"cylinders\",y=\"price\",figsize=(10,6),grid=True)\n",
    "plt.show()"
   ]
  },
  {
   "cell_type": "markdown",
   "metadata": {},
   "source": [
    "De acuerdo con la relación del precio con el número de cilindros para el vehículo tipo SUV, a mayor número de cilindros mayor es el precio. Los mayores precios se identifican en los vehículos de éste tipo con 6 y 8 cilindros."
   ]
  },
  {
   "cell_type": "code",
   "execution_count": 326,
   "metadata": {},
   "outputs": [
    {
     "data": {
      "image/png": "[encoded data removed]",
      "text/plain": [
       "<Figure size 720x432 with 1 Axes>"
      ]
     },
     "metadata": {
      "needs_background": "light"
     },
     "output_type": "display_data"
    }
   ],
   "source": [
    "anuncios.query('type==\"sedan\"').plot(kind=\"scatter\",x=\"ids_condition\",y=\"price\",figsize=(10,6),grid=True)\n",
    "plt.show()"
   ]
  },
  {
   "cell_type": "markdown",
   "metadata": {},
   "source": [
    "De acuerdo con la relación entre los precios y condiciones de los vehículos tipo sedan, los vehículos con condiciones 4 (excelente)."
   ]
  },
  {
   "cell_type": "code",
   "execution_count": 327,
   "metadata": {
    "scrolled": false
   },
   "outputs": [
    {
     "data": {
      "image/png": "[encoded data removed]",
      "text/plain": [
       "<Figure size 720x432 with 1 Axes>"
      ]
     },
     "metadata": {
      "needs_background": "light"
     },
     "output_type": "display_data"
    }
   ],
   "source": [
    "anuncios.query('type==\"SUV\"').plot(kind=\"scatter\",x=\"ids_condition\",y=\"price\",figsize=(10,6),grid=True)\n",
    "plt.show()"
   ]
  },
  {
   "cell_type": "markdown",
   "metadata": {},
   "source": [
    "De acuerdo con la relación del precio y la condición para el tipo de vehículo SUV , generalmente se presentan mayores precios para los vehículos con categoría bueno,excelente y como nuevo (3,4 y 5)."
   ]
  },
  {
   "cell_type": "markdown",
   "metadata": {},
   "source": [
    "**Relación precios tipo de transmisión.**"
   ]
  },
  {
   "cell_type": "markdown",
   "metadata": {},
   "source": [
    "Para comparar los precios de los vehículos con las variables categóricas, utilizamos gráfico de cajas."
   ]
  },
  {
   "cell_type": "code",
   "execution_count": 328,
   "metadata": {},
   "outputs": [
    {
     "data": {
      "image/png": "[encoded data removed]",
      "text/plain": [
       "<Figure size 720x432 with 1 Axes>"
      ]
     },
     "metadata": {
      "needs_background": "light"
     },
     "output_type": "display_data"
    }
   ],
   "source": [
    "anuncios.query('type==\"sedan\"').boxplot(by=\"transmission\",column=\"price\",figsize=(10,6),grid=True)\n",
    "plt.show()"
   ]
  },
  {
   "cell_type": "markdown",
   "metadata": {},
   "source": [
    "En cuanto al tipo de transmisión, los mayores precios de los vehículos tipo sedan se encuentran en los vehículos con transmisión automática."
   ]
  },
  {
   "cell_type": "code",
   "execution_count": 329,
   "metadata": {
    "scrolled": false
   },
   "outputs": [
    {
     "data": {
      "image/png": "[encoded data removed]",
      "text/plain": [
       "<Figure size 720x432 with 1 Axes>"
      ]
     },
     "metadata": {
      "needs_background": "light"
     },
     "output_type": "display_data"
    }
   ],
   "source": [
    "anuncios.query('type==\"SUV\"').boxplot(by=\"transmission\",column=\"price\",figsize=(10,6),grid=True)\n",
    "plt.show()"
   ]
  },
  {
   "cell_type": "markdown",
   "metadata": {},
   "source": [
    "De acuerdo a la relación entre el precio y el tipo de transmisión, los vehículos tipo SUV con transmisión manual presentaron mayores valores."
   ]
  },
  {
   "cell_type": "code",
   "execution_count": 330,
   "metadata": {},
   "outputs": [
    {
     "data": {
      "image/png": "[encoded data removed]",
      "text/plain": [
       "<Figure size 720x432 with 1 Axes>"
      ]
     },
     "metadata": {
      "needs_background": "light"
     },
     "output_type": "display_data"
    }
   ],
   "source": [
    "anuncios.query('type==\"sedan\"').boxplot(by=\"paint_color\",column=\"price\",figsize=(10,6),grid=True,)\n",
    "plt.show()"
   ]
  },
  {
   "cell_type": "markdown",
   "metadata": {},
   "source": [
    "Comparando los colores y precios de éste tipo de vehículo, se presentaron mayores valores en los vehículos de color naranja y menores precios en los vehículos de éste tipo de color verde."
   ]
  },
  {
   "cell_type": "code",
   "execution_count": 331,
   "metadata": {},
   "outputs": [
    {
     "data": {
      "image/png": "[encoded data removed]",
      "text/plain": [
       "<Figure size 720x432 with 1 Axes>"
      ]
     },
     "metadata": {
      "needs_background": "light"
     },
     "output_type": "display_data"
    }
   ],
   "source": [
    "anuncios.query('type==\"SUV\"').boxplot(by=\"paint_color\",column=\"price\",figsize=(10,6),grid=True,)\n",
    "plt.show()"
   ]
  },
  {
   "cell_type": "markdown",
   "metadata": {},
   "source": [
    "De acuerdo a la relación entre el color y el precio para los vehículos tipo SUV, se encuentra mayores precios en los vehículos amarillos, naranjas y negros, respectivamente."
   ]
  },
  {
   "cell_type": "markdown",
   "metadata": {},
   "source": [
    "Se crea la matríz de correlación entre las variables."
   ]
  },
  {
   "cell_type": "code",
   "execution_count": 332,
   "metadata": {},
   "outputs": [
    {
     "data": {
      "text/html": [
       "<div>\n",
       "<style scoped>\n",
       "    .dataframe tbody tr th:only-of-type {\n",
       "        vertical-align: middle;\n",
       "    }\n",
       "\n",
       "    .dataframe tbody tr th {\n",
       "        vertical-align: top;\n",
       "    }\n",
       "\n",
       "    .dataframe thead th {\n",
       "        text-align: right;\n",
       "    }\n",
       "</style>\n",
       "<table border=\"1\" class=\"dataframe\">\n",
       "  <thead>\n",
       "    <tr style=\"text-align: right;\">\n",
       "      <th></th>\n",
       "      <th>price</th>\n",
       "      <th>antiguedad</th>\n",
       "      <th>millaje_promedio</th>\n",
       "      <th>cylinders</th>\n",
       "    </tr>\n",
       "  </thead>\n",
       "  <tbody>\n",
       "    <tr>\n",
       "      <th>price</th>\n",
       "      <td>1.000000</td>\n",
       "      <td>-0.445749</td>\n",
       "      <td>0.131946</td>\n",
       "      <td>0.301359</td>\n",
       "    </tr>\n",
       "    <tr>\n",
       "      <th>antiguedad</th>\n",
       "      <td>-0.445749</td>\n",
       "      <td>1.000000</td>\n",
       "      <td>-0.435699</td>\n",
       "      <td>0.142444</td>\n",
       "    </tr>\n",
       "    <tr>\n",
       "      <th>millaje_promedio</th>\n",
       "      <td>0.131946</td>\n",
       "      <td>-0.435699</td>\n",
       "      <td>1.000000</td>\n",
       "      <td>-0.052044</td>\n",
       "    </tr>\n",
       "    <tr>\n",
       "      <th>cylinders</th>\n",
       "      <td>0.301359</td>\n",
       "      <td>0.142444</td>\n",
       "      <td>-0.052044</td>\n",
       "      <td>1.000000</td>\n",
       "    </tr>\n",
       "  </tbody>\n",
       "</table>\n",
       "</div>"
      ],
      "text/plain": [
       "                     price  antiguedad  millaje_promedio  cylinders\n",
       "price             1.000000   -0.445749          0.131946   0.301359\n",
       "antiguedad       -0.445749    1.000000         -0.435699   0.142444\n",
       "millaje_promedio  0.131946   -0.435699          1.000000  -0.052044\n",
       "cylinders         0.301359    0.142444         -0.052044   1.000000"
      ]
     },
     "execution_count": 332,
     "metadata": {},
     "output_type": "execute_result"
    }
   ],
   "source": [
    "relacion_price=anuncios[[\"price\",\"antiguedad\",\"millaje_promedio\",\"condition\",\"cylinders\"]]\n",
    "relacion_price.corr()"
   ]
  },
  {
   "cell_type": "code",
   "execution_count": 333,
   "metadata": {},
   "outputs": [],
   "source": [
    "import seaborn as sns"
   ]
  },
  {
   "cell_type": "code",
   "execution_count": 334,
   "metadata": {},
   "outputs": [
    {
     "data": {
      "image/png": "[encoded data removed]",
      "text/plain": [
       "<Figure size 432x288 with 2 Axes>"
      ]
     },
     "metadata": {
      "needs_background": "light"
     },
     "output_type": "display_data"
    }
   ],
   "source": [
    "sns.heatmap(relacion_price.corr(),annot=True)\n",
    "plt.show()"
   ]
  },
  {
   "cell_type": "markdown",
   "metadata": {},
   "source": [
    "La matríz de correlación y el mapa de calor nos muestran que los precios de los vehículos se encuentran mas relacionados con el número de cilindros y el millaje promedio del vehículo, y tienen menor relación con la antiguedad del vehículo."
   ]
  },
  {
   "cell_type": "markdown",
   "metadata": {},
   "source": [
    "# Conclusión general\n",
    "\n",
    "Teniendo en cuenta los porcentajes de datos ausentes, se considera importante atenderlos para prevenir errores en los datos.\n",
    "Se encuentran datos inconsistentes en la columna \"price\", ya que se encontraron valores iguales a 1.\n",
    "\n",
    "Igualmente, se encontraron valores de cero en la columna \"odometer\", sin embargo no se encontraron patrones en los datos en los que el valor era igual a cero.\n",
    "\n",
    "Para atender los datos ausentes en las columnas, se decide utilizar tablas dinámicas en las que se relacionaban los datos que podrían relacionarse con las columnas en las que contamos con datos ausentes.\n",
    "\n",
    "Se corrigen los tipos de datos en las columnas is_4wd (se cambia a tipo booleano), cylinders (se cambia a número entero), model_year(se cambia a número entero) y date_posted (se cambia a tipo de dato fecha).\n",
    "\n",
    "Para facilitar el análisis de los datos, se crea una columna que nos de información del día, mes y año (por separado)para cada anuncio.\n",
    "\n",
    "Se agrega una nueva columna, que nos de información de la antiguedad de los vehículos, para lo cual tomamos en cuenta el modelo del vehículo y el año en el que el anuncio del vehiculo se publica.\n",
    "\n",
    "Se agrega una nueva columna que nos relaciona el millaje promedio, para lo cual se tiene en cuenta el kilometraje y la antiguedad del vehículo (teniendo en cuenta que éste valor depende de la división entre la antiguedad y el kilometraje (en el caso de que ambos fueran cero9, se generaba un error, se suma 1 para que no se generen datos ausentes.\n",
    "\n",
    "De acuerdo a la información de los histogramas, en la columna price, antiguedad y odómetro se identifican valores atípicos, por lo cual se hallan los límites inferiores y superiores en cada columna y se trazan nuevamente histogramas filtrando los datos sin incluir éstos valores atípicos.\n",
    "\n",
    "Al revisar el histograma de la columna \"price\" sin los valores atípicos, se encuentra que la mayor cantidad de vehículos se encuentra entre unos rangos de precios entre los 5000 y 10000. En éste histograma no se evidencian datos alejados de donde se concentran la mayor cantidad de los valores. El histograma presenta un sesgo positivo a la derecha.\n",
    "\n",
    "Para el histograma de la columna antiguedad, sin los valores atipicos se evidencia que la mayoría de los vehículos tienen unas antiguedades entre 5 y alrededor de 7 años. Se evidencia que menor cantidad de vehiculos tienen una antiguedad superior a los 20 años. El histograma tiene un sesgo positivo a la derecha.No se visualizan datos lejos de la mayor cantidad de los valores.\n",
    "\n",
    "De acuerdo al histograma que nos relaciona los kilometrajes de los vehiculos sin valores atipicos, se identifican mayores frecuencias para los vehiculos con kilometrajes cercanos a los 75000 y los 130000. Se encuentran pocos vehiculos con kilomtrajes mayores a los 200000. No se visualizan datos lejanos a las zonas donde se reportan los valores.\n",
    "\n",
    "De acuerdo al diagrama de cajas, los anuncios normalmente se publican máximo alrededor de los 50 días (de acuerdo al tercer cuartil) y podemos decir que los anuncios se consideran rápidamente eliminados alrededor del día 20 (según el primer cuartil).\n",
    "\n",
    "Los vehículos con mas anuncios resultaron son vehículos tipo sedan,SUV y truck.\n",
    "\n",
    "Los vehículos tipo sedan, reportaron mayores precios en antiguedades menores a los 5 años. En cuanto al millaje, se encontraron mayores precios en vehículos de éste tipo con kilometrajes menores a los 25000. Relacionando el número de cilindros en éstos tipos de vehículos, se encontraron mayores precios en los vehículos con 4 y 8 cilindros. De acuerdo a las categorías y condiciones para éste tipo de vehículos, se encontraron mayores precios en los vehículos con condición 4 ( excelente). En cuanto al tipo de transmisión, se encontraron mayores precios en los vehículos automáticos. Para la categoría de colores, se encontraron mayores precios en los vehículos sedan de color naranja y menores precios en vehículos de color verde.\n",
    "\n",
    "Los precios de los vehículos tipo SUV, presentaron mayores precios en los vehículos con antiguedades menores  a los 12 años y menores precios en vehículos con antiguedades mayores a los 14 años , en cuanto al millaje y el número de cilindros, los vehículos tipo SUV con millajes menores a 25000 presentaron mayores precios. De acuerdo con la relación del precio con el número de cilindros para el vehículo tipo SUV, a mayor número de cilindros mayor es el precio. Los mayores precios se identifican en los vehículos de éste tipo con 6 y 8 cilindros. Comparando la relación de los precios de éste tipo de vehículos con la condición, los mayores precios se identifican en los vehículos con categoría bueno, excelente y como nuevo (3,4 y 5), en cuento al tipo de transmisión se presentaron mayores valores en los vehículos manuales o mecánicos.De acuerdo a la relación entre el color y el precio para los vehículos tipo SUV, se encuentran mayores precios en los vehículos amarillos, naranjas y negros, respectivamente.\n",
    "\n",
    "La matríz de correlación y el mapa de calor para los precios, la antiguedad, el millaje promedio, la condición y el número de cilindros; nos mostró que los precios de los vehículos se encuentra mas relacionados con el número de cilindros y el millaje promedio, y menor relación con la antiguedad del vehículo.\n"
   ]
  }
 ],
 "metadata": {
  "ExecuteTimeLog": [
   {
    "duration": 828,
    "start_time": "2021-11-16T09:21:11.304Z"
   },
   {
    "duration": 893,
    "start_time": "2021-11-16T09:21:17.728Z"
   },
   {
    "duration": 1150,
    "start_time": "2021-11-16T09:21:29.568Z"
   },
   {
    "duration": 3,
    "start_time": "2021-11-16T09:24:14.495Z"
   },
   {
    "duration": 120,
    "start_time": "2021-11-16T09:24:46.630Z"
   },
   {
    "duration": 3,
    "start_time": "2021-11-16T09:28:27.882Z"
   },
   {
    "duration": 4,
    "start_time": "2021-11-16T09:29:54.281Z"
   },
   {
    "duration": 3,
    "start_time": "2021-11-16T09:30:45.936Z"
   },
   {
    "duration": 4,
    "start_time": "2021-11-16T09:31:06.300Z"
   },
   {
    "duration": 113,
    "start_time": "2021-11-16T09:31:37.208Z"
   },
   {
    "duration": 143,
    "start_time": "2021-11-16T09:31:48.656Z"
   },
   {
    "duration": 98,
    "start_time": "2021-11-16T09:31:55.678Z"
   },
   {
    "duration": 3,
    "start_time": "2021-11-16T09:32:08.535Z"
   },
   {
    "duration": 111,
    "start_time": "2021-11-16T09:32:10.120Z"
   },
   {
    "duration": 3,
    "start_time": "2021-11-16T09:32:15.732Z"
   },
   {
    "duration": 4,
    "start_time": "2021-11-16T09:32:29.423Z"
   },
   {
    "duration": 3,
    "start_time": "2021-11-16T10:03:03.074Z"
   },
   {
    "duration": 3,
    "start_time": "2021-11-16T10:10:01.288Z"
   },
   {
    "duration": 3,
    "start_time": "2021-11-16T10:10:46.923Z"
   },
   {
    "duration": 121,
    "start_time": "2021-11-16T10:37:46.494Z"
   },
   {
    "duration": 125,
    "start_time": "2021-11-16T10:38:20.632Z"
   },
   {
    "duration": 112,
    "start_time": "2021-11-16T10:46:53.001Z"
   },
   {
    "duration": 110,
    "start_time": "2021-11-16T10:48:25.775Z"
   },
   {
    "duration": 3,
    "start_time": "2021-11-16T10:50:18.720Z"
   },
   {
    "duration": 4,
    "start_time": "2021-11-16T10:50:37.649Z"
   },
   {
    "duration": 2,
    "start_time": "2021-11-16T10:50:51.884Z"
   },
   {
    "duration": 3,
    "start_time": "2021-11-16T10:51:56.237Z"
   },
   {
    "duration": 101,
    "start_time": "2021-11-16T10:53:13.791Z"
   },
   {
    "duration": 3,
    "start_time": "2021-11-16T10:55:59.186Z"
   },
   {
    "duration": 3,
    "start_time": "2021-11-16T10:56:10.751Z"
   },
   {
    "duration": 3,
    "start_time": "2021-11-16T10:56:49.038Z"
   },
   {
    "duration": 3,
    "start_time": "2021-11-16T10:56:49.174Z"
   },
   {
    "duration": 4,
    "start_time": "2021-11-16T10:56:49.414Z"
   },
   {
    "duration": 3,
    "start_time": "2021-11-16T10:56:49.680Z"
   },
   {
    "duration": 3,
    "start_time": "2021-11-16T10:56:50.370Z"
   },
   {
    "duration": 114,
    "start_time": "2021-11-16T10:59:34.518Z"
   },
   {
    "duration": 3,
    "start_time": "2021-11-16T11:01:41.201Z"
   },
   {
    "duration": 116,
    "start_time": "2021-11-16T11:01:48.754Z"
   },
   {
    "duration": 3,
    "start_time": "2021-11-16T11:02:16.685Z"
   },
   {
    "duration": 3,
    "start_time": "2021-11-16T11:02:19.479Z"
   },
   {
    "duration": 3,
    "start_time": "2021-11-16T11:02:47.067Z"
   },
   {
    "duration": 3,
    "start_time": "2021-11-16T11:02:49.353Z"
   },
   {
    "duration": 3,
    "start_time": "2021-11-16T11:03:07.835Z"
   },
   {
    "duration": 3,
    "start_time": "2021-11-16T11:03:07.953Z"
   },
   {
    "duration": 112,
    "start_time": "2021-11-16T11:07:52.072Z"
   },
   {
    "duration": 187,
    "start_time": "2021-11-16T11:09:23.468Z"
   },
   {
    "duration": 4,
    "start_time": "2021-11-16T11:10:01.455Z"
   },
   {
    "duration": 3,
    "start_time": "2021-11-16T11:10:05.069Z"
   },
   {
    "duration": 4,
    "start_time": "2021-11-16T11:10:13.376Z"
   },
   {
    "duration": 3,
    "start_time": "2021-11-16T11:10:14.434Z"
   },
   {
    "duration": 3,
    "start_time": "2021-11-16T11:10:22.853Z"
   },
   {
    "duration": 4,
    "start_time": "2021-11-16T11:27:29.279Z"
   },
   {
    "duration": 4,
    "start_time": "2021-11-16T11:29:08.919Z"
   },
   {
    "duration": 118,
    "start_time": "2021-11-16T11:29:46.703Z"
   },
   {
    "duration": 437,
    "start_time": "2021-11-16T11:36:02.181Z"
   },
   {
    "duration": 157,
    "start_time": "2021-11-16T11:36:14.388Z"
   },
   {
    "duration": 207,
    "start_time": "2021-11-16T11:47:15.898Z"
   },
   {
    "duration": 3,
    "start_time": "2021-11-16T11:53:52.092Z"
   },
   {
    "duration": 3,
    "start_time": "2021-11-16T11:53:52.236Z"
   },
   {
    "duration": 3,
    "start_time": "2021-11-16T11:59:12.005Z"
   },
   {
    "duration": 112,
    "start_time": "2021-11-16T12:00:33.446Z"
   },
   {
    "duration": 3,
    "start_time": "2021-11-16T12:02:14.453Z"
   },
   {
    "duration": 3,
    "start_time": "2021-11-16T12:02:39.512Z"
   },
   {
    "duration": 106,
    "start_time": "2021-11-16T12:03:03.460Z"
   }
  ],
  "kernelspec": {
   "display_name": "Python 3 (ipykernel)",
   "language": "python",
   "name": "python3"
  },
  "language_info": {
   "codemirror_mode": {
    "name": "ipython",
    "version": 3
   },
   "file_extension": ".py",
   "mimetype": "text/x-python",
   "name": "python",
   "nbconvert_exporter": "python",
   "pygments_lexer": "ipython3",
   "version": "3.9.5"
  },
  "toc": {
   "base_numbering": 1,
   "nav_menu": {},
   "number_sections": true,
   "sideBar": true,
   "skip_h1_title": false,
   "title_cell": "Table of Contents",
   "title_sidebar": "Contents",
   "toc_cell": false,
   "toc_position": {},
   "toc_section_display": true,
   "toc_window_display": true
  }
 },
 "nbformat": 4,
 "nbformat_minor": 2
}
